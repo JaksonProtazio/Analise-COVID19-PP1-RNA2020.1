{
 "cells": [
  {
   "cell_type": "markdown",
   "metadata": {
    "colab_type": "text",
    "id": "6U0lcpz5golE"
   },
   "source": [
    "# Abaixo as contribuções usando Jupyter Notebook dos membros HiagoOliver e Jonatas Travessa "
   ]
  },
  {
   "cell_type": "markdown",
   "metadata": {
    "colab_type": "text",
    "id": "ywYGkHASgolG"
   },
   "source": [
    "### Atendendo ao que se pede, utilizando as bibliotecas Python para responder às seguintes perguntas:\n",
    "\n",
    "1. Quantos atributos descrevem cada exemplo? Quais são eles?\n",
    "\n",
    "2. Quantos casos confirmados há em Manaus, cumulativamente?\n",
    "\n",
    "3. A qual período de tempo a base de dados se refere, isto é, qual o registro mais antigo e qual o mais recente? Leve em conta a data de notificação.\n"
   ]
  },
  {
   "cell_type": "markdown",
   "metadata": {
    "colab_type": "text",
    "id": "Se4ERMWpSHjp"
   },
   "source": [
    "#### 1. Quantos atributos descrevem cada exemplo? Quais são eles?"
   ]
  },
  {
   "cell_type": "code",
   "execution_count": null,
   "metadata": {
    "colab": {},
    "colab_type": "code",
    "id": "yXEDzDODgolI",
    "outputId": "6f18e698-fa4e-48f4-b92f-0b9a6cffda86"
   },
   "outputs": [
    {
     "name": "stdout",
     "output_type": "stream",
     "text": [
      "6 atributos descrevem cada exemplo\n",
      "\n",
      "Sendo os atributos:\n",
      "\n",
      "idade\n",
      "sexo\n",
      "bairro\n",
      "conclusao\n",
      "dt_notificacao\n",
      "tipo_teste\n"
     ]
    }
   ],
   "source": [
    "import pandas as pd\n",
    "\n",
    "df = pd.read_csv(\"C:/Users/hiago/git/Analise-COVID19-PP1-RNA2020.1/dataset/dataset_limpo_covid19_manaus.csv\")\n",
    "\n",
    "print('%s atributos descrevem cada exemplo\\n' % df.columns.size)\n",
    "print('Sendo os atributos:\\n')\n",
    "\n",
    "for atributo in df.columns.values:\n",
    "    print(atributo)"
   ]
  },
  {
   "cell_type": "markdown",
   "metadata": {
    "colab_type": "text",
    "id": "DmePLhOBgolT"
   },
   "source": [
    "#### A coluna classificacao foi removida do dataset quando executada a limpeza sendo necessário utilizar o dataset original\n",
    "\n",
    "#### 2. Quantos casos confirmados há em Manaus, cumulativamente?\n"
   ]
  },
  {
   "cell_type": "code",
   "execution_count": null,
   "metadata": {
    "colab": {},
    "colab_type": "code",
    "id": "EGyzqk0TgolW",
    "outputId": "157daa3a-e608-469b-9a47-5fe0c63cfd37"
   },
   "outputs": [
    {
     "name": "stdout",
     "output_type": "stream",
     "text": [
      "Em Manaus há 36671 casos confirmados\n"
     ]
    }
   ],
   "source": [
    "import pandas as pd\n",
    "\n",
    "df = pd.read_csv(\"C:/Users/hiago/git/Analise-COVID19-PP1-RNA2020.1/dataset/dataset_covid19_manaus.csv\", encoding=\"ISO-8859-1\", sep=\";\", dtype='unicode')\n",
    "\n",
    "casos_distintos = df.groupby(by='_classificacao').size()\n",
    "\n",
    "#print('Situação dos casos %s' % casos_distintos)\n",
    "\n",
    "print('Em Manaus há {0} casos confirmados'.format(casos_distintos['Confirmado']))"
   ]
  },
  {
   "cell_type": "markdown",
   "metadata": {
    "colab_type": "text",
    "id": "RMdpz6qBgolf"
   },
   "source": [
    "##### Abordagem 2: Utilizando query() e count() para verificação de casos confirmados."
   ]
  },
  {
   "cell_type": "code",
   "execution_count": null,
   "metadata": {
    "colab": {},
    "colab_type": "code",
    "id": "YLkDm5l1golh",
    "outputId": "05d51866-e49d-4d4e-f322-1c2227ff134c"
   },
   "outputs": [
    {
     "name": "stdout",
     "output_type": "stream",
     "text": [
      "Em Manaus há 36671 casos confirmados\n"
     ]
    }
   ],
   "source": [
    "import pandas as pd\n",
    "\n",
    "df = pd.read_csv(\"C:/Users/hiago/git/Analise-COVID19-PP1-RNA2020.1/dataset/dataset_covid19_manaus.csv\", encoding=\"ISO-8859-1\", sep=\";\")\n",
    "\n",
    "consulta = df.query('_classificacao == \"Confirmado\"')['_classificacao'].count()\n",
    "print('Em Manaus há %s casos confirmados' % consulta)"
   ]
  },
  {
   "cell_type": "markdown",
   "metadata": {
    "colab_type": "text",
    "id": "ZOGbIjp6golt"
   },
   "source": [
    "##### Abordagem 3: Utilizando size para verificação de casos confirmados."
   ]
  },
  {
   "cell_type": "code",
   "execution_count": null,
   "metadata": {
    "colab": {},
    "colab_type": "code",
    "id": "9Jl8PTblgolv",
    "outputId": "6d4009c1-c2ff-41eb-f657-d7216ee45b21"
   },
   "outputs": [
    {
     "name": "stdout",
     "output_type": "stream",
     "text": [
      "Em Manaus há 36671 casos confirmados\n"
     ]
    }
   ],
   "source": [
    "import pandas as pd\n",
    "\n",
    "df= pd.read_csv(\"C:/Users/hiago/git/Analise-COVID19-PP1-RNA2020.1/dataset/dataset_covid19_manaus.csv\", encoding=\"ISO-8859-1\", sep=\";\")\n",
    "\n",
    "df = df[df['_classificacao'] == \"Confirmado\"]\n",
    "print('Em Manaus há %s casos confirmados' % df['_classificacao'].size)\n"
   ]
  },
  {
   "cell_type": "markdown",
   "metadata": {
    "colab_type": "text",
    "id": "xRG76BsOgol2"
   },
   "source": [
    "##### Abordagem 4: Verificando todos as classificações de casos"
   ]
  },
  {
   "cell_type": "code",
   "execution_count": null,
   "metadata": {
    "colab": {},
    "colab_type": "code",
    "id": "j9XWAc5Tgol4",
    "outputId": "66eafd59-57f6-4e2a-a985-e681b1f96a29"
   },
   "outputs": [
    {
     "name": "stdout",
     "output_type": "stream",
     "text": [
      "Em Manaus há 36671 casos classificados como Confirmado\n",
      "Em Manaus há 17191 casos classificados como Em análise\n",
      "Em Manaus há 53359 casos classificados como Descartado\n"
     ]
    }
   ],
   "source": [
    "import pandas as pd\n",
    "\n",
    "df = pd.read_csv(\"C:/Users/hiago/git/Analise-COVID19-PP1-RNA2020.1/dataset/dataset_covid19_manaus.csv\", encoding=\"ISO-8859-1\", sep=\";\")\n",
    "\n",
    "casos = df['_classificacao'].unique()\n",
    "\n",
    "for caso in casos:\n",
    "    data = df[df['_classificacao'] == caso]\n",
    "    print('Em Manaus há {1} casos classificados como {0}'.format(caso, data['_classificacao'].size))"
   ]
  },
  {
   "cell_type": "markdown",
   "metadata": {
    "colab_type": "text",
    "id": "7AdTs0nsgomA"
   },
   "source": [
    "#### Conclusão\n",
    "\n",
    "#### Em Manaus há cumulativamente 36671 casos confirmados, os casos em análise somam 17191 e um total de 53359 casos descartados."
   ]
  },
  {
   "cell_type": "markdown",
   "metadata": {
    "colab_type": "text",
    "id": "QmMalfpjgomC"
   },
   "source": [
    "#### A coluna dt_notificacao foi removida do dataset quando executada a limpeza sendo necessário utilizar o dataset original\n",
    "\n",
    "#### 3. A qual período de tempo a base de dados se refere, isto é, qual o registro mais antigo e qual o mais recente? Leve em conta a data de notificação."
   ]
  },
  {
   "cell_type": "code",
   "execution_count": null,
   "metadata": {
    "colab": {},
    "colab_type": "code",
    "id": "FIbdA2QUgomE",
    "outputId": "9c0d737c-4f0a-4445-ae7b-75e70411fad4"
   },
   "outputs": [
    {
     "name": "stdout",
     "output_type": "stream",
     "text": [
      "O registro mais antigo: 01/03/2020\n",
      "O registro mais recente: 31/07/2020\n"
     ]
    }
   ],
   "source": [
    "import pandas as pd\n",
    "\n",
    "df = pd.read_csv(\"C:/Users/hiago/git/Analise-COVID19-PP1-RNA2020.1/dataset/dataset_covid19_manaus.csv\", encoding=\"ISO-8859-1\", sep=\";\")\n",
    "\n",
    "print('O registro mais antigo: {0}'.format(df['_dt_notificacao'].dropna(axis=0).min()))\n",
    "print('O registro mais recente: {0}'.format(df['_dt_notificacao'].dropna(axis=0).max()))\n"
   ]
  },
  {
   "cell_type": "markdown",
   "metadata": {
    "colab_type": "text",
    "id": "_Yw3n6RggomN"
   },
   "source": [
    "### Efetuando uma análise exploratória dos dados em resposta às seguintes questões:\n",
    "\n",
    "1. Quantos exemplos e atributos há na base de dados após a limpeza e organização?\n",
    "\n",
    "2. Qual a porcentagem de indivíduos recuperados em relação ao todo?\n",
    "\n",
    "3. Os casos acometeram mais indivíduos do sexo masculino ou feminino?\n",
    "\n",
    "4. Qual a média e desvio padrão de idade dos indivíduos que contraíram a COVID-19? Qual o\n",
    "indivíduo mais jovem e o mais idoso a contraírem tal enfermidade?\n",
    "\n",
    "5. Qual o bairro com maior incidência de casos?\n",
    "\n",
    "6. Quais os três bairros com maior incidência de casos recuperados?\n",
    "\n",
    "7. Quais os tipos de testes efetuados, segundo os dados? Indicando os dados de maneira quantitativa\n",
    "e percentual.\n",
    "\n",
    "8. Qual taxa de letalidade pode ser calculada a partir do conjunto de dados? Para o cálculo desta\n",
    "taxa foi considerada a fração do total de óbitos pelo total de casos;\n",
    "\n",
    "9. Qual o tipo de correlação, mediante coeficiente de correlação de Pearson, entre a idade e o\n",
    "número de casos? "
   ]
  },
  {
   "cell_type": "markdown",
   "metadata": {
    "colab_type": "text",
    "id": "YfJkpqJbNG6f"
   },
   "source": [
    "####  1.Quantos exemplos e atributos há na base de dados após a limpeza e organização?"
   ]
  },
  {
   "cell_type": "markdown",
   "metadata": {
    "colab_type": "text",
    "id": "FfU1495RTxZM"
   },
   "source": [
    "##### Abordagem 1: Utilizando o método shape"
   ]
  },
  {
   "cell_type": "code",
   "execution_count": null,
   "metadata": {
    "colab": {},
    "colab_type": "code",
    "id": "722RU5j5gomO",
    "outputId": "4efa83fc-9b71-4674-9bf4-8d4ebb124713"
   },
   "outputs": [
    {
     "name": "stdout",
     "output_type": "stream",
     "text": [
      "Quantidade de exemplos 6360\n",
      "Quantidade de atributos 6\n"
     ]
    }
   ],
   "source": [
    "import pandas as pd\n",
    "\n",
    "df = pd.read_csv(\"C:/Users/hiago/git/Analise-COVID19-PP1-RNA2020.1/dataset/dataset_limpo_covid19_manaus.csv\")\n",
    "\n",
    "print('Quantidade de exemplos %s' % df.shape[0])\n",
    "print('Quantidade de atributos %s' % df.shape[1])"
   ]
  },
  {
   "cell_type": "markdown",
   "metadata": {
    "colab_type": "text",
    "id": "FWJI0LTSgomV"
   },
   "source": [
    "##### Abordagem 2: Utilizando o método count\n"
   ]
  },
  {
   "cell_type": "code",
   "execution_count": null,
   "metadata": {
    "colab": {},
    "colab_type": "code",
    "id": "c_VHc4T5gomW",
    "outputId": "91f56dba-2f29-46ea-b59e-baf3ebd3d9f1",
    "scrolled": true
   },
   "outputs": [
    {
     "name": "stdout",
     "output_type": "stream",
     "text": [
      "Quantidade de exemplos por atributo\n",
      "idade             6360\n",
      "sexo              6360\n",
      "bairro            6360\n",
      "conclusao         6360\n",
      "dt_notificacao    6360\n",
      "tipo_teste        6360\n",
      "dtype: int64\n"
     ]
    }
   ],
   "source": [
    "import pandas as pd\n",
    "\n",
    "df = pd.read_csv(\"C:/Users/hiago/git/Analise-COVID19-PP1-RNA2020.1/dataset/dataset_limpo_covid19_manaus.csv\")\n",
    "\n",
    "print('Quantidade de exemplos por atributo')\n",
    "print(df.count())"
   ]
  },
  {
   "cell_type": "markdown",
   "metadata": {
    "colab_type": "text",
    "id": "Aj4qc2kIgome"
   },
   "source": [
    "##### Abordagem 3: Utilizando o método size"
   ]
  },
  {
   "cell_type": "code",
   "execution_count": null,
   "metadata": {
    "colab": {},
    "colab_type": "code",
    "id": "aOYbgISFgomf",
    "outputId": "360bd05c-aef2-468c-8d66-34b9d214fe34"
   },
   "outputs": [
    {
     "name": "stdout",
     "output_type": "stream",
     "text": [
      "Quantidade de exemplos: 6360\n",
      "Quantidade de atributos: 6\n"
     ]
    }
   ],
   "source": [
    "import pandas as pd\n",
    "\n",
    "df = pd.read_csv(\"C:/Users/hiago/git/Analise-COVID19-PP1-RNA2020.1/dataset/dataset_limpo_covid19_manaus.csv\")\n",
    "\n",
    "print('Quantidade de exemplos: %s' % df.index.size)\n",
    "print('Quantidade de atributos: %s' % df.columns.size)"
   ]
  },
  {
   "cell_type": "markdown",
   "metadata": {
    "colab_type": "text",
    "id": "S24o3-oSgoml"
   },
   "source": [
    "#### 2.Qual a porcentagem de indivíduos recuperados em relação ao todo?"
   ]
  },
  {
   "cell_type": "code",
   "execution_count": null,
   "metadata": {
    "colab": {},
    "colab_type": "code",
    "id": "bsHXbyzYgomq",
    "outputId": "61cdfe69-1657-4a83-eb24-8d653f56d7fe"
   },
   "outputs": [
    {
     "name": "stdout",
     "output_type": "stream",
     "text": [
      "99.80 % de recuperados\n",
      "Um total de casos de 6360 com 6347 casos recuperados e 13 óbitos\n"
     ]
    }
   ],
   "source": [
    "import pandas as pd\n",
    "\n",
    "df = pd.read_csv(\"C:/Users/hiago/git/Analise-COVID19-PP1-RNA2020.1/dataset/dataset_limpo_covid19_manaus.csv\")\n",
    "\n",
    "todo = df['conclusao'].count()\n",
    "recuperados = df[df.conclusao == 'Recuperado'].count()['conclusao']\n",
    "porcentagem = ((recuperados/todo)*100.0)\n",
    "\n",
    "print('{0:.2f} % de recuperados'.format(porcentagem))\n",
    "print('Um total de casos de {0} com {1} casos recuperados' .format(todo, recuperados), end=' ')\n",
    "\n",
    "obitos = df[df.conclusao == 'Óbito'].count()['conclusao']\n",
    "print('e %s óbitos' % obitos)"
   ]
  },
  {
   "cell_type": "markdown",
   "metadata": {
    "colab_type": "text",
    "id": "YxNtPw-MkjD0"
   },
   "source": [
    "##### Abordagem 2: Utilizando Força Bruta"
   ]
  },
  {
   "cell_type": "markdown",
   "metadata": {
    "colab_type": "text",
    "id": "Lu5jgVxkLalU"
   },
   "source": [
    "Iterar pelo dataframe para obter o total de recuperados e dividir pelo total de exemplos"
   ]
  },
  {
   "cell_type": "code",
   "execution_count": null,
   "metadata": {
    "colab": {
     "base_uri": "https://localhost:8080/",
     "height": 52
    },
    "colab_type": "code",
    "executionInfo": {
     "elapsed": 1140,
     "status": "ok",
     "timestamp": 1596832395058,
     "user": {
      "displayName": "Jonatas Travessa Souza De Barros",
      "photoUrl": "https://lh3.googleusercontent.com/a-/AOh14Gg_1ZJ8Y06J-VUaZeNOaxBQKj31M_NpN-8S2V5o=s64",
      "userId": "00083462082740154908"
     },
     "user_tz": 240
    },
    "id": "O7ZmGgqQlMoX",
    "outputId": "6d453172-7ea8-4a52-9e58-d4bb597fef73"
   },
   "outputs": [
    {
     "name": "stdout",
     "output_type": "stream",
     "text": [
      "99.80% de recuperados\n",
      "Um total de 6347 casos recuperados e 13 óbitos\n"
     ]
    }
   ],
   "source": [
    "recovered = 0\n",
    "for index, example in df.iterrows():\n",
    "  if (example['conclusao'] == 'Recuperado'):\n",
    "    recovered+=1\n",
    "\n",
    "percentage = (recovered/len(df))*100.0\n",
    "print('{0:.2f}% de recuperados'.format(percentage))\n",
    "print(\"Um total de\", recovered, \"casos recuperados e\", len(df) - recovered, \"óbitos\")"
   ]
  },
  {
   "cell_type": "markdown",
   "metadata": {
    "colab_type": "text",
    "id": "wXKCQK0ngomy"
   },
   "source": [
    "#### 3.Os casos acometeram mais indivíduos do sexo masculino ou feminino?"
   ]
  },
  {
   "cell_type": "code",
   "execution_count": null,
   "metadata": {
    "colab": {},
    "colab_type": "code",
    "id": "n9GO9tlWgomz",
    "outputId": "cc2b4d7a-6f48-4b1c-d070-b3db07408fcc"
   },
   "outputs": [
    {
     "name": "stdout",
     "output_type": "stream",
     "text": [
      "O Sexo Feminino foi o mais acometido com 3605 casos em comparação ao Sexo Masculino com 2755 casos\n"
     ]
    }
   ],
   "source": [
    "import pandas as pd\n",
    "\n",
    "df = pd.read_csv(\"C:/Users/hiago/git/Analise-COVID19-PP1-RNA2020.1/dataset/dataset_limpo_covid19_manaus.csv\")\n",
    "\n",
    "f = df[df['sexo'] == 'F'].count()['sexo']\n",
    "m = df[df['sexo'] == 'M'].count()['sexo']\n",
    "\n",
    "print('O Sexo Feminino foi o mais acometido com {0} casos em comparação ao Sexo Masculino com {1} casos'.format(f,m))"
   ]
  },
  {
   "cell_type": "markdown",
   "metadata": {
    "colab_type": "text",
    "id": "q6jmhstJpGxk"
   },
   "source": [
    "##### Abordagem 2: Utilizando Força Bruta"
   ]
  },
  {
   "cell_type": "markdown",
   "metadata": {
    "colab_type": "text",
    "id": "Hdb9SNDFpGxy"
   },
   "source": [
    "Iterar pelo dataframe e contar o número de mulheres e homens"
   ]
  },
  {
   "cell_type": "code",
   "execution_count": null,
   "metadata": {
    "colab": {
     "base_uri": "https://localhost:8080/",
     "height": 52
    },
    "colab_type": "code",
    "executionInfo": {
     "elapsed": 1424,
     "status": "ok",
     "timestamp": 1596833229390,
     "user": {
      "displayName": "Jonatas Travessa Souza De Barros",
      "photoUrl": "https://lh3.googleusercontent.com/a-/AOh14Gg_1ZJ8Y06J-VUaZeNOaxBQKj31M_NpN-8S2V5o=s64",
      "userId": "00083462082740154908"
     },
     "user_tz": 240
    },
    "id": "BmgYBsIul1Vz",
    "outputId": "893a36ca-a847-4b77-9575-d8d9c576f4a7"
   },
   "outputs": [
    {
     "name": "stdout",
     "output_type": "stream",
     "text": [
      "mulheres acometidas:  3605\n",
      "homens acometidos:  2755\n"
     ]
    }
   ],
   "source": [
    "men = 0\n",
    "women = 0\n",
    "for index, example in df.iterrows():\n",
    "  if (example['sexo'] == 'F'):\n",
    "    women+=1\n",
    "  if (example['sexo'] == 'M'):\n",
    "    men+=1\n",
    "  \n",
    "print(\"mulheres acometidas: \", women)\n",
    "print(\"homens acometidos: \", men)"
   ]
  },
  {
   "cell_type": "markdown",
   "metadata": {
    "colab_type": "text",
    "id": "fKyZrni5gom9"
   },
   "source": [
    "#### 4.Qual a média e desvio padrão de idade dos indivíduos que contraíram COVID-19? Qual o indivíduo mais jovem e o mais idoso a contraírem tal enfermidade?"
   ]
  },
  {
   "cell_type": "markdown",
   "metadata": {
    "colab_type": "text",
    "id": "9k0TaXnbULzk"
   },
   "source": [
    "##### Abordagem 1: Utizando o método mean"
   ]
  },
  {
   "cell_type": "code",
   "execution_count": null,
   "metadata": {
    "colab": {},
    "colab_type": "code",
    "id": "YVC0IXDFgom-",
    "outputId": "499b539b-9831-45bb-dc36-e5e985bab71f"
   },
   "outputs": [
    {
     "name": "stdout",
     "output_type": "stream",
     "text": [
      "Média de idade: 41\n",
      "Desvio Padrão: 14.10\n",
      "Mais jovem com idade: 0\n",
      "Mais idoso com idade: 99\n"
     ]
    }
   ],
   "source": [
    "import pandas as pd\n",
    "\n",
    "df = pd.read_csv(\"C:/Users/hiago/git/Analise-COVID19-PP1-RNA2020.1/dataset/dataset_limpo_covid19_manaus.csv\")\n",
    "\n",
    "media = df.idade.mean()\n",
    "#ou\n",
    "#media = df['idade'].mean()\n",
    "\n",
    "desvio = df.idade.std()\n",
    "print('Média de idade: {0:.0f}\\nDesvio Padrão: {1:.2f}'.format(media, desvio))\n",
    "\n",
    "mais_jovem = df.idade.min()\n",
    "mais_idoso = df.idade.max()\n",
    "\n",
    "print('Mais jovem com idade: %s' % mais_jovem)\n",
    "print('Mais idoso com idade: %s' % mais_idoso)"
   ]
  },
  {
   "cell_type": "markdown",
   "metadata": {
    "colab_type": "text",
    "id": "qzTNAOO6gonI"
   },
   "source": [
    "##### Abordagem 2: Utilizando os métodos count e sum"
   ]
  },
  {
   "cell_type": "code",
   "execution_count": null,
   "metadata": {
    "colab": {},
    "colab_type": "code",
    "id": "yduFql-ngonK",
    "outputId": "ed79663b-b625-414f-b23f-73b8fcbc612c"
   },
   "outputs": [
    {
     "name": "stdout",
     "output_type": "stream",
     "text": [
      "Média de idade: 41\n",
      "Desvio Padrão: 14.10\n",
      "Mais jovem com idade: 0\n",
      "Mais idoso com idade: 99\n"
     ]
    }
   ],
   "source": [
    "import pandas as pd\n",
    "\n",
    "df = pd.read_csv(\"C:/Users/hiago/git/Analise-COVID19-PP1-RNA2020.1/dataset/dataset_limpo_covid19_manaus.csv\")\n",
    "\n",
    "total = df['idade'].count()\n",
    "soma = df['idade'].sum()\n",
    "\n",
    "media = soma/total\n",
    "\n",
    "desvio = df['idade'].std()\n",
    "print('Média de idade: {0:.0f}\\nDesvio Padrão: {1:.2f}'.format(media, desvio))\n",
    "\n",
    "mais_jovem = df['idade'].min()\n",
    "mais_idoso = df['idade'].max()\n",
    "\n",
    "print('Mais jovem com idade: %s' % mais_jovem)\n",
    "print('Mais idoso com idade: %s' % mais_idoso)"
   ]
  },
  {
   "cell_type": "markdown",
   "metadata": {
    "colab_type": "text",
    "id": "22t_I5gLgonS"
   },
   "source": [
    "##### Abordagem 3: Utilizando método describe"
   ]
  },
  {
   "cell_type": "code",
   "execution_count": null,
   "metadata": {
    "colab": {},
    "colab_type": "code",
    "id": "P8Q2ydjWgonT",
    "outputId": "436f78be-1837-4d8c-f21d-ea0b36cb52ca"
   },
   "outputs": [
    {
     "name": "stdout",
     "output_type": "stream",
     "text": [
      "Média de idade: 41\n",
      "Desvio Padrão: 14.10\n",
      "Mais jovem com idade: 0\n",
      "Mais idoso com idade: 99\n"
     ]
    }
   ],
   "source": [
    "import pandas as pd\n",
    "\n",
    "df = pd.read_csv(\"C:/Users/hiago/git/Analise-COVID19-PP1-RNA2020.1/dataset/dataset_limpo_covid19_manaus.csv\")\n",
    "\n",
    "media = df['idade'].describe()['mean']\n",
    "\n",
    "desvio = df['idade'].describe()['std']\n",
    "print('Média de idade: {0:.0f}\\nDesvio Padrão: {1:.2f}'.format(media, desvio))\n",
    "\n",
    "mais_jovem = df['idade'].describe()['min']\n",
    "mais_idoso = df['idade'].describe()['max']\n",
    "\n",
    "print('Mais jovem com idade: {0}'.format(int(mais_jovem)))\n",
    "print('Mais idoso com idade: {0}'.format(int(mais_idoso)))"
   ]
  },
  {
   "cell_type": "markdown",
   "metadata": {
    "colab_type": "text",
    "id": "Fog6wTINgona"
   },
   "source": [
    "#### 5.Qual o bairro com maior incidência de casos?"
   ]
  },
  {
   "cell_type": "markdown",
   "metadata": {
    "colab_type": "text",
    "id": "jciQOwkIUb0u"
   },
   "source": [
    "##### Abordagem 1: Utilizando Força Bruta"
   ]
  },
  {
   "cell_type": "code",
   "execution_count": null,
   "metadata": {
    "colab": {},
    "colab_type": "code",
    "id": "3yNVVnRzgonc",
    "outputId": "fca05378-bf95-4bed-a922-808b3465eafe"
   },
   "outputs": [
    {
     "name": "stdout",
     "output_type": "stream",
     "text": [
      "A maior incidência de casos é no bairro CIDADE NOVA que apresenta 296 incidências\n"
     ]
    }
   ],
   "source": [
    "import pandas as pd\n",
    "\n",
    "df = pd.read_csv(\"C:/Users/hiago/git/Analise-COVID19-PP1-RNA2020.1/dataset/dataset_limpo_covid19_manaus.csv\")\n",
    "\n",
    "lista_bairros = df['bairro'].unique()\n",
    "\n",
    "maximo = 0\n",
    "nome_bairro = ''\n",
    "\n",
    "for bairro in lista_bairros:\n",
    "    valor = df[df.bairro == bairro].shape[0]\n",
    "    if valor > maximo:\n",
    "        maximo = valor\n",
    "        nome_bairro = bairro\n",
    "\n",
    "print('A maior incidência de casos é no bairro {0} que apresenta {1} incidências'.format(nome_bairro, maximo))\n"
   ]
  },
  {
   "cell_type": "markdown",
   "metadata": {
    "colab_type": "text",
    "id": "Az0RQabEWS_o"
   },
   "source": [
    "#### 6. Quais os três bairros com maior incidência de casos recuperados?"
   ]
  },
  {
   "cell_type": "markdown",
   "metadata": {
    "colab_type": "text",
    "id": "XmgJvwFencMo"
   },
   "source": [
    "##### Abordagem 1: Utilizando Força Bruta"
   ]
  },
  {
   "cell_type": "markdown",
   "metadata": {
    "colab_type": "text",
    "id": "FKbxagkAY9pc"
   },
   "source": [
    "Extraindo um dataset com apenas casos recuperados"
   ]
  },
  {
   "cell_type": "code",
   "execution_count": null,
   "metadata": {
    "colab": {},
    "colab_type": "code",
    "id": "G3sBdIw8yL2t"
   },
   "outputs": [],
   "source": [
    "df_recovered = df.loc[df.conclusao == 'Recuperado']"
   ]
  },
  {
   "cell_type": "markdown",
   "metadata": {
    "colab_type": "text",
    "id": "-cr-xRpfY7_q"
   },
   "source": [
    "Ordenando a quantidade de recuperados por bairro e mostrando as três maiores ocorrências"
   ]
  },
  {
   "cell_type": "code",
   "execution_count": null,
   "metadata": {
    "colab": {
     "base_uri": "https://localhost:8080/",
     "height": 104
    },
    "colab_type": "code",
    "executionInfo": {
     "elapsed": 745,
     "status": "ok",
     "timestamp": 1596832412175,
     "user": {
      "displayName": "Jonatas Travessa Souza De Barros",
      "photoUrl": "https://lh3.googleusercontent.com/a-/AOh14Gg_1ZJ8Y06J-VUaZeNOaxBQKj31M_NpN-8S2V5o=s64",
      "userId": "00083462082740154908"
     },
     "user_tz": 240
    },
    "id": "uF0q0rk3ZRz9",
    "outputId": "30bc563f-ff73-4b93-9c4e-4342d2c08318"
   },
   "outputs": [
    {
     "name": "stdout",
     "output_type": "stream",
     "text": [
      "Os três bairros com os maiores números de casos recuperados\n",
      "\n",
      "1.  CIDADE NOVA   296 casos recuperados\n",
      "2.  FLORES   262 casos recuperados\n",
      "3.  TARUMA   225 casos recuperados\n"
     ]
    }
   ],
   "source": [
    "pos = 1\n",
    "bairro_counts = df_recovered.bairro.value_counts()\n",
    "print(\"Os três bairros com os maiores números de casos recuperados\")\n",
    "print(\"\")\n",
    "for itens in bairro_counts.iteritems():\n",
    "  print(str(pos) + \". \", itens[0],\" \", itens[1],\"casos recuperados\")\n",
    "  pos+=1\n",
    "  if (pos > 3):\n",
    "    break\n",
    " "
   ]
  },
  {
   "cell_type": "markdown",
   "metadata": {
    "colab_type": "text",
    "id": "-ImY0L89hwFN"
   },
   "source": [
    "#### 7. Quais os tipos de testes efetuados, segundo os dados? Indicando os dados de maneira quantitativa e percentual."
   ]
  },
  {
   "cell_type": "markdown",
   "metadata": {
    "colab_type": "text",
    "id": "lO3P7ZKt_Mfj"
   },
   "source": [
    "##### Abordagem 1: Apresentando os dados em formato de tabela"
   ]
  },
  {
   "cell_type": "code",
   "execution_count": null,
   "metadata": {
    "colab": {
     "base_uri": "https://localhost:8080/",
     "height": 206
    },
    "colab_type": "code",
    "executionInfo": {
     "elapsed": 1112,
     "status": "ok",
     "timestamp": 1596889077678,
     "user": {
      "displayName": "Jonatas Travessa Souza De Barros",
      "photoUrl": "https://lh3.googleusercontent.com/a-/AOh14Gg_1ZJ8Y06J-VUaZeNOaxBQKj31M_NpN-8S2V5o=s64",
      "userId": "00083462082740154908"
     },
     "user_tz": 240
    },
    "id": "Ti5vybDj32CB",
    "outputId": "abe80f8b-3941-4f03-ae15-dee4689ffa41"
   },
   "outputs": [
    {
     "data": {
      "text/html": [
       "<div>\n",
       "<style scoped>\n",
       "    .dataframe tbody tr th:only-of-type {\n",
       "        vertical-align: middle;\n",
       "    }\n",
       "\n",
       "    .dataframe tbody tr th {\n",
       "        vertical-align: top;\n",
       "    }\n",
       "\n",
       "    .dataframe thead th {\n",
       "        text-align: right;\n",
       "    }\n",
       "</style>\n",
       "<table border=\"1\" class=\"dataframe\">\n",
       "  <thead>\n",
       "    <tr style=\"text-align: right;\">\n",
       "      <th></th>\n",
       "      <th>tipo_teste</th>\n",
       "      <th>realizados</th>\n",
       "      <th>porcentagem</th>\n",
       "    </tr>\n",
       "  </thead>\n",
       "  <tbody>\n",
       "    <tr>\n",
       "      <th>0</th>\n",
       "      <td>RT-PCR</td>\n",
       "      <td>3693</td>\n",
       "      <td>58.07%</td>\n",
       "    </tr>\n",
       "    <tr>\n",
       "      <th>1</th>\n",
       "      <td>TESTE RÁPIDO - ANTICORPO</td>\n",
       "      <td>1521</td>\n",
       "      <td>23.92%</td>\n",
       "    </tr>\n",
       "    <tr>\n",
       "      <th>2</th>\n",
       "      <td>TESTE RÁPIDO - ANTÍGENO</td>\n",
       "      <td>1139</td>\n",
       "      <td>17.91%</td>\n",
       "    </tr>\n",
       "    <tr>\n",
       "      <th>3</th>\n",
       "      <td>ECLIA IgG</td>\n",
       "      <td>4</td>\n",
       "      <td>0.06%</td>\n",
       "    </tr>\n",
       "    <tr>\n",
       "      <th>4</th>\n",
       "      <td>ELISA IgM</td>\n",
       "      <td>3</td>\n",
       "      <td>0.05%</td>\n",
       "    </tr>\n",
       "  </tbody>\n",
       "</table>\n",
       "</div>"
      ],
      "text/plain": [
       "                 tipo_teste  realizados porcentagem\n",
       "0                    RT-PCR        3693      58.07%\n",
       "1  TESTE RÁPIDO - ANTICORPO        1521      23.92%\n",
       "2   TESTE RÁPIDO - ANTÍGENO        1139      17.91%\n",
       "3                 ECLIA IgG           4       0.06%\n",
       "4                 ELISA IgM           3       0.05%"
      ]
     },
     "execution_count": 4,
     "metadata": {
      "tags": []
     },
     "output_type": "execute_result"
    }
   ],
   "source": [
    "\n",
    "df_testes = {'tipo_teste': ['RT-PCR', 'TESTE RÁPIDO - ANTICORPO', 'TESTE RÁPIDO - ANTÍGENO', 'ECLIA IgG', 'ELISA IgM'], \n",
    "            'realizados': [df.tipo_teste.value_counts()[0], df.tipo_teste.value_counts()[1], df.tipo_teste.value_counts()[2], \n",
    "                           df.tipo_teste.value_counts()[3], df.tipo_teste.value_counts()[4]], \n",
    "            'porcentagem': ['{0:.2f}%'.format((df.tipo_teste.value_counts()[0]/len(df))*100), '{0:.2f}%'.format((df.tipo_teste.value_counts()[1]/len(df))*100), \n",
    "                            '{0:.2f}%'.format((df.tipo_teste.value_counts()[2]/len(df))*100), '{0:.2f}%'.format((df.tipo_teste.value_counts()[3]/len(df))*100),\n",
    "                            '{0:.2f}%'.format((df.tipo_teste.value_counts()[4]/len(df)*100))]} \n",
    "pd.DataFrame(df_testes)\n"
   ]
  },
  {
   "cell_type": "markdown",
   "metadata": {
    "colab_type": "text",
    "id": "0syZPc9FWrku"
   },
   "source": [
    "#### 8. Qual taxa de letalidade pode ser calculada a partir do conjunto de dados? Para calcular esta taxa, considere a fração do total de óbitos pelo total de casos;"
   ]
  },
  {
   "cell_type": "markdown",
   "metadata": {
    "colab_type": "text",
    "id": "BvGOvXR4bJ1Y"
   },
   "source": [
    "##### Abordagem 1: utilizando loc para obter número de óbitos"
   ]
  },
  {
   "cell_type": "code",
   "execution_count": null,
   "metadata": {
    "colab": {
     "base_uri": "https://localhost:8080/",
     "height": 52
    },
    "colab_type": "code",
    "executionInfo": {
     "elapsed": 773,
     "status": "ok",
     "timestamp": 1596896254742,
     "user": {
      "displayName": "Jonatas Travessa Souza De Barros",
      "photoUrl": "https://lh3.googleusercontent.com/a-/AOh14Gg_1ZJ8Y06J-VUaZeNOaxBQKj31M_NpN-8S2V5o=s64",
      "userId": "00083462082740154908"
     },
     "user_tz": 240
    },
    "id": "p_-HfbL9WyBh",
    "outputId": "78135b6a-2621-43fb-d4b6-ae3fa59054a9"
   },
   "outputs": [
    {
     "name": "stdout",
     "output_type": "stream",
     "text": [
      "São 13 óbitos para um total de 6360 exemplos\n",
      "Taxa de letalidade: 0.20%\n"
     ]
    }
   ],
   "source": [
    "deaths = len(df.loc[df.conclusao == 'Óbito'])\n",
    "total_cases = len(df)\n",
    "print(\"São\", deaths,\"óbitos para um total de\", total_cases,\"exemplos\")\n",
    "print(\"Taxa de letalidade: \" + '{0:.2f}%'.format((deaths/total_cases)*100))"
   ]
  },
  {
   "cell_type": "markdown",
   "metadata": {},
   "source": [
    "#### 9. Qual o tipo de correlação, mediante coeficiente de correlação de Pearson, entre a idade e o número de casos? Para responder a esta pergunta, agrupe o número de casos por idade e efetue o cálculo de tal coeficiente. Indique, a partir do resultado, a natureza desta correlação, se é positiva ou negativa, e qual sua intensidade."
   ]
  },
  {
   "cell_type": "markdown",
   "metadata": {},
   "source": [
    "##### Abordagem 1: usando groupby para agrupar o número de casos por idade"
   ]
  },
  {
   "cell_type": "code",
   "execution_count": 15,
   "metadata": {},
   "outputs": [
    {
     "name": "stdout",
     "output_type": "stream",
     "text": [
      "O coeficiente de correlação de Pearson entre a idade e o número de casos é: -0.22%\n",
      "Este coeficiente indica uma fraca correlação negativa entre a idade e o número de casos.\n"
     ]
    }
   ],
   "source": [
    "import pandas as pd\n",
    "import math\n",
    "\n",
    "df = pd.read_csv(\"https://raw.githubusercontent.com/userddssilva/Analise-COVID19-PP1-RNA2020.1/master/dataset/dataset_limpo_covid19_manaus.csv?token=AKCAQ6VZQPYTK4ZNCJ7X3DC7HKNFW\")\n",
    "\n",
    "#Agrupar números de casos pela idade\n",
    "ages = df.groupby('idade').idade.count()\n",
    "\n",
    "#Obter média da idade\n",
    "x_mean = df.idade.describe()[1]\n",
    "\n",
    "#Calcular a média da quantidade de casos por idade, dividir o total de casos pela quantidade de valores de idade\n",
    "total_cases = len(df)\n",
    "total_ages = len(df.idade.unique())\n",
    "y_mean = total_cases/total_ages\n",
    "\n",
    "#Cálculo da covariância:\n",
    "n = len(df)\n",
    "cov = 0\n",
    "for item in ages.iteritems():\n",
    "    cov += ((item[0] - x_mean)*(item[1] - y_mean))\n",
    "cov /= (n - 1)\n",
    "\n",
    "#Cálculos do desvio padrão:\n",
    "sx = 0\n",
    "sy = 0\n",
    "for item in ages.iteritems():\n",
    "    sx += ((item[0] - x_mean)**2)\n",
    "    sy += ((item[1] - y_mean)**2)\n",
    "sx /= n - 1\n",
    "sy /= n - 1\n",
    "sx = math.sqrt(sx)\n",
    "sy = math.sqrt(sy)\n",
    "\n",
    "#Cálculo do coeficiente de correlação de Pearson\n",
    "p = cov/(sx*sy)\n",
    "\n",
    "print(\"O coeficiente de correlação de Pearson entre a idade e o número de casos é:\", '{0:.2}%'.format(p))\n",
    "print(\"Este coeficiente indica uma fraca correlação negativa entre a idade e o número de casos.\")\n",
    "\n",
    "    "
   ]
  }
 ],
 "metadata": {
  "colab": {
   "name": "2.1 - Visao_geral_casos_confirmados.ipynb",
   "provenance": []
  },
  "kernelspec": {
   "display_name": "Python 3",
   "language": "python",
   "name": "python3"
  },
  "language_info": {
   "codemirror_mode": {
    "name": "ipython",
    "version": 3
   },
   "file_extension": ".py",
   "mimetype": "text/x-python",
   "name": "python",
   "nbconvert_exporter": "python",
   "pygments_lexer": "ipython3",
   "version": "3.8.3"
  }
 },
 "nbformat": 4,
 "nbformat_minor": 1
}
