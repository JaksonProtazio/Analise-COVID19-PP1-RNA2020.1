{
 "cells": [
  {
   "cell_type": "markdown",
   "metadata": {},
   "source": [
    "# Notebook de limpeza e tratamento dos dados\n",
    "\n",
    "Para a realização dessa tarefa levou-se em consideração as especifícações contidas no arquivo do projeto postado do Google Classroom: \"Para fins da análise considerada no escopo deste projeto, vamos excluir todos os atributos relativos às comorbidades, sintomas, etnia, profissão, outras datas que não a de notificação, origem e outros que não estiverem envolvidos no contexto do trabalho solicitado. Estes atributos serão considerados irrelevantes para fins de simplificação. Exclua todas as linhas em que houver dados faltantes para os atributos remanescentes.\""
   ]
  },
  {
   "cell_type": "markdown",
   "metadata": {},
   "source": [
    "## Importando as lib usadas na tarefa"
   ]
  },
  {
   "cell_type": "code",
   "execution_count": 1,
   "metadata": {},
   "outputs": [],
   "source": [
    "import warnings\n",
    "warnings.filterwarnings('ignore')\n",
    "\n",
    "import pandas as pd\n",
    "import numpy as np\n",
    "\n",
    "import unidecode\n",
    "import re\n",
    "\n",
    "import seaborn as sns\n",
    "import matplotlib.pyplot as plt"
   ]
  },
  {
   "cell_type": "markdown",
   "metadata": {},
   "source": [
    "## Lendo o dataset com pandas"
   ]
  },
  {
   "cell_type": "code",
   "execution_count": 8,
   "metadata": {},
   "outputs": [
    {
     "output_type": "execute_result",
     "data": {
      "text/plain": "        _idade _faixa etária _sexo             _bairro _classificacao  \\\n0         74.0     70a - 79a     M                 NaN     Confirmado   \n1         51.0     50a - 59a     F              ALEIXO     Confirmado   \n2         53.0     50a - 59a     M            PARQUE10     Confirmado   \n3         50.0     50a - 59a     M           SAO JORGE     Em análise   \n4         37.0     30a - 39a     F                 NaN     Em análise   \n...        ...           ...   ...                 ...            ...   \n107216    68.0     60a - 69a     M      NOVA ESPERANCA     Descartado   \n107217    30.0     30a - 39a     M             COROADO     Descartado   \n107218    46.0     40a - 49a     M        BRAGA MENDES     Confirmado   \n107219    71.0     70a - 79a     M            PLANALTO     Descartado   \n107220    18.0     15a - 19a     F  ZUMBI DOS PALMARES     Descartado   \n\n       _comorb_renal _comorb_diabetes _comorb_imuno _comorb_cardio  \\\n0                Não              Não           Não            Não   \n1                Não              Não           Não            Não   \n2                Não              Não           Não            Não   \n3                Não              Não           Não            Não   \n4                Não              Não           Não            Não   \n...              ...              ...           ...            ...   \n107216           Não              Não           Não            Não   \n107217           Não              Não           Não            Não   \n107218           Não              Não           Não            Não   \n107219           Não              Não           Não            Sim   \n107220           Não              Não           Não            Não   \n\n        _conclusao  ... _distrito           _bairro_mapa _comorb_respiratoria  \\\n0              NaN  ...       NaN                    NaN                  Não   \n1              NaN  ...       SUL                 ALEIXO                  Não   \n2              NaN  ...       SUL  PARQUE 10 DE NOVEMBRO                  Não   \n3       Recuperado  ...     OESTE              SÃO JORGE                  Não   \n4       Recuperado  ...       NaN                    NaN                  Não   \n...            ...  ...       ...                    ...                  ...   \n107216  Recuperado  ...     OESTE         NOVA ESPERANÇA                  Não   \n107217  Recuperado  ...     LESTE                COROADO                  Não   \n107218         NaN  ...     NORTE         CIDADE DE DEUS                  Não   \n107219  Recuperado  ...     OESTE               PLANALTO                  Sim   \n107220         NaN  ...     LESTE     ZUMBI DOS PALMARES                  Não   \n\n       _comorb_cromossomica _comorb_hepatica _comorb_neurologica  \\\n0                       Não              NaN                 NaN   \n1                       Não              NaN                 NaN   \n2                       Não              NaN                 NaN   \n3                       Não              NaN                 NaN   \n4                       Não              NaN                 NaN   \n...                     ...              ...                 ...   \n107216                  Não              NaN                 NaN   \n107217                  Não              Não                 Não   \n107218                  Não              NaN                 NaN   \n107219                  Não              Não                 Não   \n107220                  Não              NaN                 NaN   \n\n       _comorb_hemato _comorb_obessidade              _origem  \\\n0                 NaN                NaN            eSUS VE,    \n1                 NaN                NaN            eSUS VE,    \n2                 NaN                NaN            eSUS VE,    \n3                 NaN                NaN            eSUS VE,    \n4                 NaN                NaN            eSUS VE,    \n...               ...                ...                  ...   \n107216            NaN                NaN  SIVEP, eSUS VE, GAL   \n107217            Não                Não  SIVEP, eSUS VE, GAL   \n107218            NaN                NaN  SIVEP, eSUS VE, GAL   \n107219            Não                Não  SIVEP, eSUS VE, GAL   \n107220            NaN                NaN  SIVEP, eSUS VE, GAL   \n\n                       _evolução  \n0                            NaN  \n1                            NaN  \n2                            NaN  \n3                            NaN  \n4                            NaN  \n...                          ...  \n107216                 Internado  \n107217  Em tratamento domiciliar  \n107218  Em tratamento domiciliar  \n107219  Em tratamento domiciliar  \n107220  Em tratamento domiciliar  \n\n[107221 rows x 36 columns]",
      "text/html": "<div>\n<style scoped>\n    .dataframe tbody tr th:only-of-type {\n        vertical-align: middle;\n    }\n\n    .dataframe tbody tr th {\n        vertical-align: top;\n    }\n\n    .dataframe thead th {\n        text-align: right;\n    }\n</style>\n<table border=\"1\" class=\"dataframe\">\n  <thead>\n    <tr style=\"text-align: right;\">\n      <th></th>\n      <th>_idade</th>\n      <th>_faixa etária</th>\n      <th>_sexo</th>\n      <th>_bairro</th>\n      <th>_classificacao</th>\n      <th>_comorb_renal</th>\n      <th>_comorb_diabetes</th>\n      <th>_comorb_imuno</th>\n      <th>_comorb_cardio</th>\n      <th>_conclusao</th>\n      <th>...</th>\n      <th>_distrito</th>\n      <th>_bairro_mapa</th>\n      <th>_comorb_respiratoria</th>\n      <th>_comorb_cromossomica</th>\n      <th>_comorb_hepatica</th>\n      <th>_comorb_neurologica</th>\n      <th>_comorb_hemato</th>\n      <th>_comorb_obessidade</th>\n      <th>_origem</th>\n      <th>_evolução</th>\n    </tr>\n  </thead>\n  <tbody>\n    <tr>\n      <th>0</th>\n      <td>74.0</td>\n      <td>70a - 79a</td>\n      <td>M</td>\n      <td>NaN</td>\n      <td>Confirmado</td>\n      <td>Não</td>\n      <td>Não</td>\n      <td>Não</td>\n      <td>Não</td>\n      <td>NaN</td>\n      <td>...</td>\n      <td>NaN</td>\n      <td>NaN</td>\n      <td>Não</td>\n      <td>Não</td>\n      <td>NaN</td>\n      <td>NaN</td>\n      <td>NaN</td>\n      <td>NaN</td>\n      <td>eSUS VE,</td>\n      <td>NaN</td>\n    </tr>\n    <tr>\n      <th>1</th>\n      <td>51.0</td>\n      <td>50a - 59a</td>\n      <td>F</td>\n      <td>ALEIXO</td>\n      <td>Confirmado</td>\n      <td>Não</td>\n      <td>Não</td>\n      <td>Não</td>\n      <td>Não</td>\n      <td>NaN</td>\n      <td>...</td>\n      <td>SUL</td>\n      <td>ALEIXO</td>\n      <td>Não</td>\n      <td>Não</td>\n      <td>NaN</td>\n      <td>NaN</td>\n      <td>NaN</td>\n      <td>NaN</td>\n      <td>eSUS VE,</td>\n      <td>NaN</td>\n    </tr>\n    <tr>\n      <th>2</th>\n      <td>53.0</td>\n      <td>50a - 59a</td>\n      <td>M</td>\n      <td>PARQUE10</td>\n      <td>Confirmado</td>\n      <td>Não</td>\n      <td>Não</td>\n      <td>Não</td>\n      <td>Não</td>\n      <td>NaN</td>\n      <td>...</td>\n      <td>SUL</td>\n      <td>PARQUE 10 DE NOVEMBRO</td>\n      <td>Não</td>\n      <td>Não</td>\n      <td>NaN</td>\n      <td>NaN</td>\n      <td>NaN</td>\n      <td>NaN</td>\n      <td>eSUS VE,</td>\n      <td>NaN</td>\n    </tr>\n    <tr>\n      <th>3</th>\n      <td>50.0</td>\n      <td>50a - 59a</td>\n      <td>M</td>\n      <td>SAO JORGE</td>\n      <td>Em análise</td>\n      <td>Não</td>\n      <td>Não</td>\n      <td>Não</td>\n      <td>Não</td>\n      <td>Recuperado</td>\n      <td>...</td>\n      <td>OESTE</td>\n      <td>SÃO JORGE</td>\n      <td>Não</td>\n      <td>Não</td>\n      <td>NaN</td>\n      <td>NaN</td>\n      <td>NaN</td>\n      <td>NaN</td>\n      <td>eSUS VE,</td>\n      <td>NaN</td>\n    </tr>\n    <tr>\n      <th>4</th>\n      <td>37.0</td>\n      <td>30a - 39a</td>\n      <td>F</td>\n      <td>NaN</td>\n      <td>Em análise</td>\n      <td>Não</td>\n      <td>Não</td>\n      <td>Não</td>\n      <td>Não</td>\n      <td>Recuperado</td>\n      <td>...</td>\n      <td>NaN</td>\n      <td>NaN</td>\n      <td>Não</td>\n      <td>Não</td>\n      <td>NaN</td>\n      <td>NaN</td>\n      <td>NaN</td>\n      <td>NaN</td>\n      <td>eSUS VE,</td>\n      <td>NaN</td>\n    </tr>\n    <tr>\n      <th>...</th>\n      <td>...</td>\n      <td>...</td>\n      <td>...</td>\n      <td>...</td>\n      <td>...</td>\n      <td>...</td>\n      <td>...</td>\n      <td>...</td>\n      <td>...</td>\n      <td>...</td>\n      <td>...</td>\n      <td>...</td>\n      <td>...</td>\n      <td>...</td>\n      <td>...</td>\n      <td>...</td>\n      <td>...</td>\n      <td>...</td>\n      <td>...</td>\n      <td>...</td>\n      <td>...</td>\n    </tr>\n    <tr>\n      <th>107216</th>\n      <td>68.0</td>\n      <td>60a - 69a</td>\n      <td>M</td>\n      <td>NOVA ESPERANCA</td>\n      <td>Descartado</td>\n      <td>Não</td>\n      <td>Não</td>\n      <td>Não</td>\n      <td>Não</td>\n      <td>Recuperado</td>\n      <td>...</td>\n      <td>OESTE</td>\n      <td>NOVA ESPERANÇA</td>\n      <td>Não</td>\n      <td>Não</td>\n      <td>NaN</td>\n      <td>NaN</td>\n      <td>NaN</td>\n      <td>NaN</td>\n      <td>SIVEP, eSUS VE, GAL</td>\n      <td>Internado</td>\n    </tr>\n    <tr>\n      <th>107217</th>\n      <td>30.0</td>\n      <td>30a - 39a</td>\n      <td>M</td>\n      <td>COROADO</td>\n      <td>Descartado</td>\n      <td>Não</td>\n      <td>Não</td>\n      <td>Não</td>\n      <td>Não</td>\n      <td>Recuperado</td>\n      <td>...</td>\n      <td>LESTE</td>\n      <td>COROADO</td>\n      <td>Não</td>\n      <td>Não</td>\n      <td>Não</td>\n      <td>Não</td>\n      <td>Não</td>\n      <td>Não</td>\n      <td>SIVEP, eSUS VE, GAL</td>\n      <td>Em tratamento domiciliar</td>\n    </tr>\n    <tr>\n      <th>107218</th>\n      <td>46.0</td>\n      <td>40a - 49a</td>\n      <td>M</td>\n      <td>BRAGA MENDES</td>\n      <td>Confirmado</td>\n      <td>Não</td>\n      <td>Não</td>\n      <td>Não</td>\n      <td>Não</td>\n      <td>NaN</td>\n      <td>...</td>\n      <td>NORTE</td>\n      <td>CIDADE DE DEUS</td>\n      <td>Não</td>\n      <td>Não</td>\n      <td>NaN</td>\n      <td>NaN</td>\n      <td>NaN</td>\n      <td>NaN</td>\n      <td>SIVEP, eSUS VE, GAL</td>\n      <td>Em tratamento domiciliar</td>\n    </tr>\n    <tr>\n      <th>107219</th>\n      <td>71.0</td>\n      <td>70a - 79a</td>\n      <td>M</td>\n      <td>PLANALTO</td>\n      <td>Descartado</td>\n      <td>Não</td>\n      <td>Não</td>\n      <td>Não</td>\n      <td>Sim</td>\n      <td>Recuperado</td>\n      <td>...</td>\n      <td>OESTE</td>\n      <td>PLANALTO</td>\n      <td>Sim</td>\n      <td>Não</td>\n      <td>Não</td>\n      <td>Não</td>\n      <td>Não</td>\n      <td>Não</td>\n      <td>SIVEP, eSUS VE, GAL</td>\n      <td>Em tratamento domiciliar</td>\n    </tr>\n    <tr>\n      <th>107220</th>\n      <td>18.0</td>\n      <td>15a - 19a</td>\n      <td>F</td>\n      <td>ZUMBI DOS PALMARES</td>\n      <td>Descartado</td>\n      <td>Não</td>\n      <td>Não</td>\n      <td>Não</td>\n      <td>Não</td>\n      <td>NaN</td>\n      <td>...</td>\n      <td>LESTE</td>\n      <td>ZUMBI DOS PALMARES</td>\n      <td>Não</td>\n      <td>Não</td>\n      <td>NaN</td>\n      <td>NaN</td>\n      <td>NaN</td>\n      <td>NaN</td>\n      <td>SIVEP, eSUS VE, GAL</td>\n      <td>Em tratamento domiciliar</td>\n    </tr>\n  </tbody>\n</table>\n<p>107221 rows × 36 columns</p>\n</div>"
     },
     "metadata": {},
     "execution_count": 8
    }
   ],
   "source": [
    "file = '/home/dayvson/disc/rna/Analise-COVID19-PP1-RNA2020.1/dataset/dataset_covid19_manaus.csv'\n",
    "df_dataset = pd.read_csv(file, sep=';', encoding='ISO 8859-1')\n",
    "df_dataset"
   ]
  },
  {
   "cell_type": "markdown",
   "metadata": {},
   "source": [
    "## Explorando os atributos"
   ]
  },
  {
   "cell_type": "code",
   "execution_count": 10,
   "metadata": {
    "tags": []
   },
   "outputs": [
    {
     "output_type": "execute_result",
     "data": {
      "text/plain": "_idade                  107105\n_faixa etária           107221\n_sexo                   106404\n_bairro                 105100\n_classificacao          107221\n_comorb_renal            93946\n_comorb_diabetes         94601\n_comorb_imuno            93813\n_comorb_cardio           94648\n_conclusao               64162\n_dt_notificacao         107212\n_taxa                   101431\n_dt_evolucao             39272\n_raca                    82627\n_dt_sintomas            103592\n_criterio                 8148\n_tipo_teste              71577\n_sintoma_garganta        97232\n_sintoma_dispneia        98019\n_sintoma_febre           98144\n_sintoma_tosse           98089\n_sintoma_outros          98088\n_etnia                      35\n_profiss_saude           89002\n_srag                     8990\n_se_notificacao         107212\n_distrito               101431\n_bairro_mapa            101431\n_comorb_respiratoria     93957\n_comorb_cromossomica     93843\n_comorb_hepatica          3279\n_comorb_neurologica       3357\n_comorb_hemato            3324\n_comorb_obessidade        3234\n_origem                 107221\n_evolução                12388\ndtype: int64"
     },
     "metadata": {},
     "execution_count": 10
    }
   ],
   "source": [
    "df_exp.count()"
   ]
  },
  {
   "cell_type": "markdown",
   "metadata": {},
   "source": [
    "## Processo de limpeza dos dados"
   ]
  },
  {
   "cell_type": "markdown",
   "metadata": {},
   "source": [
    "### Passo 1: \n",
    "\n",
    "\"Para fins da análise considerada no escopo deste projeto, vamos excluir todos os atributos relativos às comorbidades, sintomas, etnia, profissão, outras datas que não a de notificação, origem e outros que não estiverem envolvidos no contexto do trabalho solicitado. Estes atributos serão considerados irrelevantes para fins de simplificação. Exclua todas as linhas em que houver dados faltantes para os atributos remanescentes.\""
   ]
  },
  {
   "cell_type": "markdown",
   "metadata": {},
   "source": [
    "#### Deletando atributos relativos às comorbidades"
   ]
  },
  {
   "cell_type": "code",
   "execution_count": 20,
   "metadata": {
    "tags": []
   },
   "outputs": [
    {
     "output_type": "stream",
     "name": "stdout",
     "text": "_comorb_renal\n_comorb_diabetes\n_comorb_imuno\n_comorb_cardio\n_comorb_respiratoria\n_comorb_cromossomica\n_comorb_hepatica\n_comorb_neurologica\n_comorb_hemato\n_comorb_obessidade\n"
    }
   ],
   "source": [
    "col_to_del = []\n",
    "for col in df_dataset.columns:\n",
    "    #print(col)\n",
    "    if re.search(r'comorb', col):\n",
    "        print(col)\n",
    "        col_to_del.append(col)"
   ]
  },
  {
   "cell_type": "code",
   "execution_count": 45,
   "metadata": {},
   "outputs": [
    {
     "output_type": "execute_result",
     "data": {
      "text/plain": "        _idade _faixa etária _sexo             _bairro _classificacao  \\\n0         74.0     70a - 79a     M                 NaN     Confirmado   \n1         51.0     50a - 59a     F              ALEIXO     Confirmado   \n2         53.0     50a - 59a     M            PARQUE10     Confirmado   \n3         50.0     50a - 59a     M           SAO JORGE     Em análise   \n4         37.0     30a - 39a     F                 NaN     Em análise   \n...        ...           ...   ...                 ...            ...   \n107216    68.0     60a - 69a     M      NOVA ESPERANCA     Descartado   \n107217    30.0     30a - 39a     M             COROADO     Descartado   \n107218    46.0     40a - 49a     M        BRAGA MENDES     Confirmado   \n107219    71.0     70a - 79a     M            PLANALTO     Descartado   \n107220    18.0     15a - 19a     F  ZUMBI DOS PALMARES     Descartado   \n\n        _conclusao _dt_notificacao        _taxa _dt_evolucao   _raca  ...  \\\n0              NaN      04/05/2020          NaN          NaN     NaN  ...   \n1              NaN      04/05/2020  0,444325958          NaN     NaN  ...   \n2              NaN      04/05/2020  0,228326141          NaN   Parda  ...   \n3       Recuperado      04/05/2020  0,381446445          NaN  Branca  ...   \n4       Recuperado      04/05/2020          NaN          NaN  Branca  ...   \n...            ...             ...          ...          ...     ...  ...   \n107216  Recuperado      03/04/2020  0,466526709   18/04/2020   Parda  ...   \n107217  Recuperado      30/04/2020  0,160758781   07/05/2020   Parda  ...   \n107218         NaN      28/07/2020  0,117699678   27/07/2020   Parda  ...   \n107219  Recuperado      25/06/2020  0,507022258   04/07/2020   Parda  ...   \n107220         NaN      19/07/2020  0,234807927   20/07/2020   Parda  ...   \n\n       _sintoma_tosse _sintoma_outros _etnia _profiss_saude  \\\n0                 Sim             Não    NaN            Não   \n1                 Não             Não    NaN            Não   \n2                 Não             Não    NaN            Não   \n3                 Sim             Sim    NaN            Não   \n4                 Sim             Não    NaN            Não   \n...               ...             ...    ...            ...   \n107216            Sim             Sim    NaN            Não   \n107217            Sim             Sim    NaN            Não   \n107218            Sim             Sim    NaN            Não   \n107219            Sim             Sim    NaN            Não   \n107220            Sim             Sim    NaN            Não   \n\n                        _srag _se_notificacao _distrito  \\\n0                         NaN            19.0       NaN   \n1                         NaN            19.0       SUL   \n2                         NaN            19.0       SUL   \n3                         NaN            19.0     OESTE   \n4                         NaN            19.0       NaN   \n...                       ...             ...       ...   \n107216  SRAG não especificado            14.0     OESTE   \n107217  SRAG não especificado            18.0     LESTE   \n107218              Em aberto            31.0     NORTE   \n107219  SRAG não especificado            26.0     OESTE   \n107220              Em aberto            30.0     LESTE   \n\n                 _bairro_mapa              _origem                 _evolução  \n0                         NaN            eSUS VE,                        NaN  \n1                      ALEIXO            eSUS VE,                        NaN  \n2       PARQUE 10 DE NOVEMBRO            eSUS VE,                        NaN  \n3                   SÃO JORGE            eSUS VE,                        NaN  \n4                         NaN            eSUS VE,                        NaN  \n...                       ...                  ...                       ...  \n107216         NOVA ESPERANÇA  SIVEP, eSUS VE, GAL                 Internado  \n107217                COROADO  SIVEP, eSUS VE, GAL  Em tratamento domiciliar  \n107218         CIDADE DE DEUS  SIVEP, eSUS VE, GAL  Em tratamento domiciliar  \n107219               PLANALTO  SIVEP, eSUS VE, GAL  Em tratamento domiciliar  \n107220     ZUMBI DOS PALMARES  SIVEP, eSUS VE, GAL  Em tratamento domiciliar  \n\n[107221 rows x 26 columns]",
      "text/html": "<div>\n<style scoped>\n    .dataframe tbody tr th:only-of-type {\n        vertical-align: middle;\n    }\n\n    .dataframe tbody tr th {\n        vertical-align: top;\n    }\n\n    .dataframe thead th {\n        text-align: right;\n    }\n</style>\n<table border=\"1\" class=\"dataframe\">\n  <thead>\n    <tr style=\"text-align: right;\">\n      <th></th>\n      <th>_idade</th>\n      <th>_faixa etária</th>\n      <th>_sexo</th>\n      <th>_bairro</th>\n      <th>_classificacao</th>\n      <th>_conclusao</th>\n      <th>_dt_notificacao</th>\n      <th>_taxa</th>\n      <th>_dt_evolucao</th>\n      <th>_raca</th>\n      <th>...</th>\n      <th>_sintoma_tosse</th>\n      <th>_sintoma_outros</th>\n      <th>_etnia</th>\n      <th>_profiss_saude</th>\n      <th>_srag</th>\n      <th>_se_notificacao</th>\n      <th>_distrito</th>\n      <th>_bairro_mapa</th>\n      <th>_origem</th>\n      <th>_evolução</th>\n    </tr>\n  </thead>\n  <tbody>\n    <tr>\n      <th>0</th>\n      <td>74.0</td>\n      <td>70a - 79a</td>\n      <td>M</td>\n      <td>NaN</td>\n      <td>Confirmado</td>\n      <td>NaN</td>\n      <td>04/05/2020</td>\n      <td>NaN</td>\n      <td>NaN</td>\n      <td>NaN</td>\n      <td>...</td>\n      <td>Sim</td>\n      <td>Não</td>\n      <td>NaN</td>\n      <td>Não</td>\n      <td>NaN</td>\n      <td>19.0</td>\n      <td>NaN</td>\n      <td>NaN</td>\n      <td>eSUS VE,</td>\n      <td>NaN</td>\n    </tr>\n    <tr>\n      <th>1</th>\n      <td>51.0</td>\n      <td>50a - 59a</td>\n      <td>F</td>\n      <td>ALEIXO</td>\n      <td>Confirmado</td>\n      <td>NaN</td>\n      <td>04/05/2020</td>\n      <td>0,444325958</td>\n      <td>NaN</td>\n      <td>NaN</td>\n      <td>...</td>\n      <td>Não</td>\n      <td>Não</td>\n      <td>NaN</td>\n      <td>Não</td>\n      <td>NaN</td>\n      <td>19.0</td>\n      <td>SUL</td>\n      <td>ALEIXO</td>\n      <td>eSUS VE,</td>\n      <td>NaN</td>\n    </tr>\n    <tr>\n      <th>2</th>\n      <td>53.0</td>\n      <td>50a - 59a</td>\n      <td>M</td>\n      <td>PARQUE10</td>\n      <td>Confirmado</td>\n      <td>NaN</td>\n      <td>04/05/2020</td>\n      <td>0,228326141</td>\n      <td>NaN</td>\n      <td>Parda</td>\n      <td>...</td>\n      <td>Não</td>\n      <td>Não</td>\n      <td>NaN</td>\n      <td>Não</td>\n      <td>NaN</td>\n      <td>19.0</td>\n      <td>SUL</td>\n      <td>PARQUE 10 DE NOVEMBRO</td>\n      <td>eSUS VE,</td>\n      <td>NaN</td>\n    </tr>\n    <tr>\n      <th>3</th>\n      <td>50.0</td>\n      <td>50a - 59a</td>\n      <td>M</td>\n      <td>SAO JORGE</td>\n      <td>Em análise</td>\n      <td>Recuperado</td>\n      <td>04/05/2020</td>\n      <td>0,381446445</td>\n      <td>NaN</td>\n      <td>Branca</td>\n      <td>...</td>\n      <td>Sim</td>\n      <td>Sim</td>\n      <td>NaN</td>\n      <td>Não</td>\n      <td>NaN</td>\n      <td>19.0</td>\n      <td>OESTE</td>\n      <td>SÃO JORGE</td>\n      <td>eSUS VE,</td>\n      <td>NaN</td>\n    </tr>\n    <tr>\n      <th>4</th>\n      <td>37.0</td>\n      <td>30a - 39a</td>\n      <td>F</td>\n      <td>NaN</td>\n      <td>Em análise</td>\n      <td>Recuperado</td>\n      <td>04/05/2020</td>\n      <td>NaN</td>\n      <td>NaN</td>\n      <td>Branca</td>\n      <td>...</td>\n      <td>Sim</td>\n      <td>Não</td>\n      <td>NaN</td>\n      <td>Não</td>\n      <td>NaN</td>\n      <td>19.0</td>\n      <td>NaN</td>\n      <td>NaN</td>\n      <td>eSUS VE,</td>\n      <td>NaN</td>\n    </tr>\n    <tr>\n      <th>...</th>\n      <td>...</td>\n      <td>...</td>\n      <td>...</td>\n      <td>...</td>\n      <td>...</td>\n      <td>...</td>\n      <td>...</td>\n      <td>...</td>\n      <td>...</td>\n      <td>...</td>\n      <td>...</td>\n      <td>...</td>\n      <td>...</td>\n      <td>...</td>\n      <td>...</td>\n      <td>...</td>\n      <td>...</td>\n      <td>...</td>\n      <td>...</td>\n      <td>...</td>\n      <td>...</td>\n    </tr>\n    <tr>\n      <th>107216</th>\n      <td>68.0</td>\n      <td>60a - 69a</td>\n      <td>M</td>\n      <td>NOVA ESPERANCA</td>\n      <td>Descartado</td>\n      <td>Recuperado</td>\n      <td>03/04/2020</td>\n      <td>0,466526709</td>\n      <td>18/04/2020</td>\n      <td>Parda</td>\n      <td>...</td>\n      <td>Sim</td>\n      <td>Sim</td>\n      <td>NaN</td>\n      <td>Não</td>\n      <td>SRAG não especificado</td>\n      <td>14.0</td>\n      <td>OESTE</td>\n      <td>NOVA ESPERANÇA</td>\n      <td>SIVEP, eSUS VE, GAL</td>\n      <td>Internado</td>\n    </tr>\n    <tr>\n      <th>107217</th>\n      <td>30.0</td>\n      <td>30a - 39a</td>\n      <td>M</td>\n      <td>COROADO</td>\n      <td>Descartado</td>\n      <td>Recuperado</td>\n      <td>30/04/2020</td>\n      <td>0,160758781</td>\n      <td>07/05/2020</td>\n      <td>Parda</td>\n      <td>...</td>\n      <td>Sim</td>\n      <td>Sim</td>\n      <td>NaN</td>\n      <td>Não</td>\n      <td>SRAG não especificado</td>\n      <td>18.0</td>\n      <td>LESTE</td>\n      <td>COROADO</td>\n      <td>SIVEP, eSUS VE, GAL</td>\n      <td>Em tratamento domiciliar</td>\n    </tr>\n    <tr>\n      <th>107218</th>\n      <td>46.0</td>\n      <td>40a - 49a</td>\n      <td>M</td>\n      <td>BRAGA MENDES</td>\n      <td>Confirmado</td>\n      <td>NaN</td>\n      <td>28/07/2020</td>\n      <td>0,117699678</td>\n      <td>27/07/2020</td>\n      <td>Parda</td>\n      <td>...</td>\n      <td>Sim</td>\n      <td>Sim</td>\n      <td>NaN</td>\n      <td>Não</td>\n      <td>Em aberto</td>\n      <td>31.0</td>\n      <td>NORTE</td>\n      <td>CIDADE DE DEUS</td>\n      <td>SIVEP, eSUS VE, GAL</td>\n      <td>Em tratamento domiciliar</td>\n    </tr>\n    <tr>\n      <th>107219</th>\n      <td>71.0</td>\n      <td>70a - 79a</td>\n      <td>M</td>\n      <td>PLANALTO</td>\n      <td>Descartado</td>\n      <td>Recuperado</td>\n      <td>25/06/2020</td>\n      <td>0,507022258</td>\n      <td>04/07/2020</td>\n      <td>Parda</td>\n      <td>...</td>\n      <td>Sim</td>\n      <td>Sim</td>\n      <td>NaN</td>\n      <td>Não</td>\n      <td>SRAG não especificado</td>\n      <td>26.0</td>\n      <td>OESTE</td>\n      <td>PLANALTO</td>\n      <td>SIVEP, eSUS VE, GAL</td>\n      <td>Em tratamento domiciliar</td>\n    </tr>\n    <tr>\n      <th>107220</th>\n      <td>18.0</td>\n      <td>15a - 19a</td>\n      <td>F</td>\n      <td>ZUMBI DOS PALMARES</td>\n      <td>Descartado</td>\n      <td>NaN</td>\n      <td>19/07/2020</td>\n      <td>0,234807927</td>\n      <td>20/07/2020</td>\n      <td>Parda</td>\n      <td>...</td>\n      <td>Sim</td>\n      <td>Sim</td>\n      <td>NaN</td>\n      <td>Não</td>\n      <td>Em aberto</td>\n      <td>30.0</td>\n      <td>LESTE</td>\n      <td>ZUMBI DOS PALMARES</td>\n      <td>SIVEP, eSUS VE, GAL</td>\n      <td>Em tratamento domiciliar</td>\n    </tr>\n  </tbody>\n</table>\n<p>107221 rows × 26 columns</p>\n</div>"
     },
     "metadata": {},
     "execution_count": 45
    }
   ],
   "source": [
    "df_new_dataset = df_dataset.drop(col_to_del, axis=1)\n",
    "df_new_dataset"
   ]
  },
  {
   "cell_type": "markdown",
   "metadata": {},
   "source": [
    "#### Deletando desintomas, etnia, profissão, outras datas que não a de notificação, origem e outros que não estiverem envolvidos no contexto do trabalho solicitado. "
   ]
  },
  {
   "cell_type": "code",
   "execution_count": 22,
   "metadata": {},
   "outputs": [
    {
     "output_type": "execute_result",
     "data": {
      "text/plain": "Index(['_idade', '_faixa etária', '_sexo', '_bairro', '_classificacao',\n       '_conclusao', '_dt_notificacao', '_taxa', '_dt_evolucao', '_raca',\n       '_dt_sintomas', '_criterio', '_tipo_teste', '_sintoma_garganta',\n       '_sintoma_dispneia', '_sintoma_febre', '_sintoma_tosse',\n       '_sintoma_outros', '_etnia', '_profiss_saude', '_srag',\n       '_se_notificacao', '_distrito', '_bairro_mapa', '_origem', '_evolução'],\n      dtype='object')"
     },
     "metadata": {},
     "execution_count": 22
    }
   ],
   "source": [
    "df_new_dataset.columns"
   ]
  },
  {
   "cell_type": "code",
   "execution_count": 38,
   "metadata": {},
   "outputs": [
    {
     "output_type": "execute_result",
     "data": {
      "text/plain": "        _idade _sexo             _bairro _classificacao  _conclusao  \\\n0         74.0     M                 NaN     Confirmado         NaN   \n1         51.0     F              ALEIXO     Confirmado         NaN   \n2         53.0     M            PARQUE10     Confirmado         NaN   \n3         50.0     M           SAO JORGE     Em análise  Recuperado   \n4         37.0     F                 NaN     Em análise  Recuperado   \n...        ...   ...                 ...            ...         ...   \n107216    68.0     M      NOVA ESPERANCA     Descartado  Recuperado   \n107217    30.0     M             COROADO     Descartado  Recuperado   \n107218    46.0     M        BRAGA MENDES     Confirmado         NaN   \n107219    71.0     M            PLANALTO     Descartado  Recuperado   \n107220    18.0     F  ZUMBI DOS PALMARES     Descartado         NaN   \n\n       _dt_notificacao               _tipo_teste  \n0           04/05/2020  TESTE RÁPIDO - ANTICORPO  \n1           04/05/2020  TESTE RÁPIDO - ANTICORPO  \n2           04/05/2020  TESTE RÁPIDO - ANTICORPO  \n3           04/05/2020                       NaN  \n4           04/05/2020                       NaN  \n...                ...                       ...  \n107216      03/04/2020                    RT-PCR  \n107217      30/04/2020                       NaN  \n107218      28/07/2020  TESTE RÁPIDO - ANTICORPO  \n107219      25/06/2020                       NaN  \n107220      19/07/2020  TESTE RÁPIDO - ANTICORPO  \n\n[107221 rows x 7 columns]",
      "text/html": "<div>\n<style scoped>\n    .dataframe tbody tr th:only-of-type {\n        vertical-align: middle;\n    }\n\n    .dataframe tbody tr th {\n        vertical-align: top;\n    }\n\n    .dataframe thead th {\n        text-align: right;\n    }\n</style>\n<table border=\"1\" class=\"dataframe\">\n  <thead>\n    <tr style=\"text-align: right;\">\n      <th></th>\n      <th>_idade</th>\n      <th>_sexo</th>\n      <th>_bairro</th>\n      <th>_classificacao</th>\n      <th>_conclusao</th>\n      <th>_dt_notificacao</th>\n      <th>_tipo_teste</th>\n    </tr>\n  </thead>\n  <tbody>\n    <tr>\n      <th>0</th>\n      <td>74.0</td>\n      <td>M</td>\n      <td>NaN</td>\n      <td>Confirmado</td>\n      <td>NaN</td>\n      <td>04/05/2020</td>\n      <td>TESTE RÁPIDO - ANTICORPO</td>\n    </tr>\n    <tr>\n      <th>1</th>\n      <td>51.0</td>\n      <td>F</td>\n      <td>ALEIXO</td>\n      <td>Confirmado</td>\n      <td>NaN</td>\n      <td>04/05/2020</td>\n      <td>TESTE RÁPIDO - ANTICORPO</td>\n    </tr>\n    <tr>\n      <th>2</th>\n      <td>53.0</td>\n      <td>M</td>\n      <td>PARQUE10</td>\n      <td>Confirmado</td>\n      <td>NaN</td>\n      <td>04/05/2020</td>\n      <td>TESTE RÁPIDO - ANTICORPO</td>\n    </tr>\n    <tr>\n      <th>3</th>\n      <td>50.0</td>\n      <td>M</td>\n      <td>SAO JORGE</td>\n      <td>Em análise</td>\n      <td>Recuperado</td>\n      <td>04/05/2020</td>\n      <td>NaN</td>\n    </tr>\n    <tr>\n      <th>4</th>\n      <td>37.0</td>\n      <td>F</td>\n      <td>NaN</td>\n      <td>Em análise</td>\n      <td>Recuperado</td>\n      <td>04/05/2020</td>\n      <td>NaN</td>\n    </tr>\n    <tr>\n      <th>...</th>\n      <td>...</td>\n      <td>...</td>\n      <td>...</td>\n      <td>...</td>\n      <td>...</td>\n      <td>...</td>\n      <td>...</td>\n    </tr>\n    <tr>\n      <th>107216</th>\n      <td>68.0</td>\n      <td>M</td>\n      <td>NOVA ESPERANCA</td>\n      <td>Descartado</td>\n      <td>Recuperado</td>\n      <td>03/04/2020</td>\n      <td>RT-PCR</td>\n    </tr>\n    <tr>\n      <th>107217</th>\n      <td>30.0</td>\n      <td>M</td>\n      <td>COROADO</td>\n      <td>Descartado</td>\n      <td>Recuperado</td>\n      <td>30/04/2020</td>\n      <td>NaN</td>\n    </tr>\n    <tr>\n      <th>107218</th>\n      <td>46.0</td>\n      <td>M</td>\n      <td>BRAGA MENDES</td>\n      <td>Confirmado</td>\n      <td>NaN</td>\n      <td>28/07/2020</td>\n      <td>TESTE RÁPIDO - ANTICORPO</td>\n    </tr>\n    <tr>\n      <th>107219</th>\n      <td>71.0</td>\n      <td>M</td>\n      <td>PLANALTO</td>\n      <td>Descartado</td>\n      <td>Recuperado</td>\n      <td>25/06/2020</td>\n      <td>NaN</td>\n    </tr>\n    <tr>\n      <th>107220</th>\n      <td>18.0</td>\n      <td>F</td>\n      <td>ZUMBI DOS PALMARES</td>\n      <td>Descartado</td>\n      <td>NaN</td>\n      <td>19/07/2020</td>\n      <td>TESTE RÁPIDO - ANTICORPO</td>\n    </tr>\n  </tbody>\n</table>\n<p>107221 rows × 7 columns</p>\n</div>"
     },
     "metadata": {},
     "execution_count": 38
    }
   ],
   "source": [
    "df_dataset_clean = df_new_dataset.drop(['_etnia', '_origem', '_profiss_saude', '_dt_evolucao', '_dt_sintomas', \n",
    "                     '_dt_evolucao', '_taxa', '_srag', '_criterio', '_se_notificacao',\n",
    "                     '_distrito','_sintoma_garganta', '_sintoma_dispneia', '_sintoma_febre',\n",
    "                     '_sintoma_tosse', '_sintoma_outros', '_evolução', '_bairro_mapa', '_raca', '_faixa etária'], axis=1)\n",
    "df_dataset_clean"
   ]
  },
  {
   "cell_type": "markdown",
   "metadata": {},
   "source": [
    "## Detalhando  colunas"
   ]
  },
  {
   "cell_type": "code",
   "execution_count": 49,
   "metadata": {},
   "outputs": [
    {
     "output_type": "execute_result",
     "data": {
      "text/plain": "        _idade _sexo             _bairro _classificacao  _conclusao  \\\n0         74.0     M                 NaN     Confirmado         NaN   \n1         51.0     F              ALEIXO     Confirmado         NaN   \n2         53.0     M            PARQUE10     Confirmado         NaN   \n3         50.0     M           SAO JORGE     Em análise  Recuperado   \n4         37.0     F                 NaN     Em análise  Recuperado   \n...        ...   ...                 ...            ...         ...   \n107216    68.0     M      NOVA ESPERANCA     Descartado  Recuperado   \n107217    30.0     M             COROADO     Descartado  Recuperado   \n107218    46.0     M        BRAGA MENDES     Confirmado         NaN   \n107219    71.0     M            PLANALTO     Descartado  Recuperado   \n107220    18.0     F  ZUMBI DOS PALMARES     Descartado         NaN   \n\n       _dt_notificacao               _tipo_teste  \n0           04/05/2020  TESTE RÁPIDO - ANTICORPO  \n1           04/05/2020  TESTE RÁPIDO - ANTICORPO  \n2           04/05/2020  TESTE RÁPIDO - ANTICORPO  \n3           04/05/2020                       NaN  \n4           04/05/2020                       NaN  \n...                ...                       ...  \n107216      03/04/2020                    RT-PCR  \n107217      30/04/2020                       NaN  \n107218      28/07/2020  TESTE RÁPIDO - ANTICORPO  \n107219      25/06/2020                       NaN  \n107220      19/07/2020  TESTE RÁPIDO - ANTICORPO  \n\n[107221 rows x 7 columns]",
      "text/html": "<div>\n<style scoped>\n    .dataframe tbody tr th:only-of-type {\n        vertical-align: middle;\n    }\n\n    .dataframe tbody tr th {\n        vertical-align: top;\n    }\n\n    .dataframe thead th {\n        text-align: right;\n    }\n</style>\n<table border=\"1\" class=\"dataframe\">\n  <thead>\n    <tr style=\"text-align: right;\">\n      <th></th>\n      <th>_idade</th>\n      <th>_sexo</th>\n      <th>_bairro</th>\n      <th>_classificacao</th>\n      <th>_conclusao</th>\n      <th>_dt_notificacao</th>\n      <th>_tipo_teste</th>\n    </tr>\n  </thead>\n  <tbody>\n    <tr>\n      <th>0</th>\n      <td>74.0</td>\n      <td>M</td>\n      <td>NaN</td>\n      <td>Confirmado</td>\n      <td>NaN</td>\n      <td>04/05/2020</td>\n      <td>TESTE RÁPIDO - ANTICORPO</td>\n    </tr>\n    <tr>\n      <th>1</th>\n      <td>51.0</td>\n      <td>F</td>\n      <td>ALEIXO</td>\n      <td>Confirmado</td>\n      <td>NaN</td>\n      <td>04/05/2020</td>\n      <td>TESTE RÁPIDO - ANTICORPO</td>\n    </tr>\n    <tr>\n      <th>2</th>\n      <td>53.0</td>\n      <td>M</td>\n      <td>PARQUE10</td>\n      <td>Confirmado</td>\n      <td>NaN</td>\n      <td>04/05/2020</td>\n      <td>TESTE RÁPIDO - ANTICORPO</td>\n    </tr>\n    <tr>\n      <th>3</th>\n      <td>50.0</td>\n      <td>M</td>\n      <td>SAO JORGE</td>\n      <td>Em análise</td>\n      <td>Recuperado</td>\n      <td>04/05/2020</td>\n      <td>NaN</td>\n    </tr>\n    <tr>\n      <th>4</th>\n      <td>37.0</td>\n      <td>F</td>\n      <td>NaN</td>\n      <td>Em análise</td>\n      <td>Recuperado</td>\n      <td>04/05/2020</td>\n      <td>NaN</td>\n    </tr>\n    <tr>\n      <th>...</th>\n      <td>...</td>\n      <td>...</td>\n      <td>...</td>\n      <td>...</td>\n      <td>...</td>\n      <td>...</td>\n      <td>...</td>\n    </tr>\n    <tr>\n      <th>107216</th>\n      <td>68.0</td>\n      <td>M</td>\n      <td>NOVA ESPERANCA</td>\n      <td>Descartado</td>\n      <td>Recuperado</td>\n      <td>03/04/2020</td>\n      <td>RT-PCR</td>\n    </tr>\n    <tr>\n      <th>107217</th>\n      <td>30.0</td>\n      <td>M</td>\n      <td>COROADO</td>\n      <td>Descartado</td>\n      <td>Recuperado</td>\n      <td>30/04/2020</td>\n      <td>NaN</td>\n    </tr>\n    <tr>\n      <th>107218</th>\n      <td>46.0</td>\n      <td>M</td>\n      <td>BRAGA MENDES</td>\n      <td>Confirmado</td>\n      <td>NaN</td>\n      <td>28/07/2020</td>\n      <td>TESTE RÁPIDO - ANTICORPO</td>\n    </tr>\n    <tr>\n      <th>107219</th>\n      <td>71.0</td>\n      <td>M</td>\n      <td>PLANALTO</td>\n      <td>Descartado</td>\n      <td>Recuperado</td>\n      <td>25/06/2020</td>\n      <td>NaN</td>\n    </tr>\n    <tr>\n      <th>107220</th>\n      <td>18.0</td>\n      <td>F</td>\n      <td>ZUMBI DOS PALMARES</td>\n      <td>Descartado</td>\n      <td>NaN</td>\n      <td>19/07/2020</td>\n      <td>TESTE RÁPIDO - ANTICORPO</td>\n    </tr>\n  </tbody>\n</table>\n<p>107221 rows × 7 columns</p>\n</div>"
     },
     "metadata": {},
     "execution_count": 49
    }
   ],
   "source": [
    "df_exp = df_dataset_clean.copy()\n",
    "df_exp"
   ]
  },
  {
   "cell_type": "code",
   "execution_count": 50,
   "metadata": {},
   "outputs": [
    {
     "output_type": "execute_result",
     "data": {
      "text/plain": "Descartado    53359\nConfirmado    36671\nEm análise    17191\nName: _classificacao, dtype: int64"
     },
     "metadata": {},
     "execution_count": 50
    }
   ],
   "source": [
    "df_exp._classificacao.value_counts()"
   ]
  },
  {
   "cell_type": "code",
   "execution_count": 51,
   "metadata": {},
   "outputs": [
    {
     "output_type": "execute_result",
     "data": {
      "text/plain": "Recuperado    60671\nÓbito          3491\nName: _conclusao, dtype: int64"
     },
     "metadata": {},
     "execution_count": 51
    }
   ],
   "source": [
    "df_exp._conclusao.value_counts()"
   ]
  },
  {
   "cell_type": "markdown",
   "metadata": {},
   "source": [
    "## Passo 2:\n",
    "\n",
    "\"Exclua todas as linhas em que houver dados faltantes para os atributos remanescentes.\""
   ]
  },
  {
   "cell_type": "code",
   "execution_count": 55,
   "metadata": {},
   "outputs": [
    {
     "output_type": "execute_result",
     "data": {
      "text/plain": "        _idade _sexo                   _bairro _classificacao  _conclusao  \\\n7         40.0     F                  BETHANIA     Descartado  Recuperado   \n11        35.0     F              CACHOEIRINHA     Descartado  Recuperado   \n33        43.0     M                   CHAPADA     Descartado  Recuperado   \n64        44.0     M                   CHAPADA     Descartado  Recuperado   \n65        36.0     M  VIVER MELHOR - LAGO AZUL     Descartado  Recuperado   \n...        ...   ...                       ...            ...         ...   \n107207     1.0     M     PARQUE 10 DE NOVEMBRO     Descartado  Recuperado   \n107210    81.0     M               SANTA LUZIA     Descartado       Óbito   \n107212    68.0     M            JORGE TEIXEIRA     Confirmado  Recuperado   \n107215    45.0     F                    TARUMA     Confirmado  Recuperado   \n107216    68.0     M            NOVA ESPERANCA     Descartado  Recuperado   \n\n       _dt_notificacao               _tipo_teste  \n7           03/05/2020  TESTE RÁPIDO - ANTICORPO  \n11          03/05/2020  TESTE RÁPIDO - ANTICORPO  \n33          03/05/2020                    RT-PCR  \n64          03/05/2020  TESTE RÁPIDO - ANTICORPO  \n65          03/05/2020  TESTE RÁPIDO - ANTICORPO  \n...                ...                       ...  \n107207      15/04/2020  TESTE RÁPIDO - ANTICORPO  \n107210      09/05/2020                    RT-PCR  \n107212      01/06/2020                    RT-PCR  \n107215      05/06/2020  TESTE RÁPIDO - ANTICORPO  \n107216      03/04/2020                    RT-PCR  \n\n[33411 rows x 7 columns]",
      "text/html": "<div>\n<style scoped>\n    .dataframe tbody tr th:only-of-type {\n        vertical-align: middle;\n    }\n\n    .dataframe tbody tr th {\n        vertical-align: top;\n    }\n\n    .dataframe thead th {\n        text-align: right;\n    }\n</style>\n<table border=\"1\" class=\"dataframe\">\n  <thead>\n    <tr style=\"text-align: right;\">\n      <th></th>\n      <th>_idade</th>\n      <th>_sexo</th>\n      <th>_bairro</th>\n      <th>_classificacao</th>\n      <th>_conclusao</th>\n      <th>_dt_notificacao</th>\n      <th>_tipo_teste</th>\n    </tr>\n  </thead>\n  <tbody>\n    <tr>\n      <th>7</th>\n      <td>40.0</td>\n      <td>F</td>\n      <td>BETHANIA</td>\n      <td>Descartado</td>\n      <td>Recuperado</td>\n      <td>03/05/2020</td>\n      <td>TESTE RÁPIDO - ANTICORPO</td>\n    </tr>\n    <tr>\n      <th>11</th>\n      <td>35.0</td>\n      <td>F</td>\n      <td>CACHOEIRINHA</td>\n      <td>Descartado</td>\n      <td>Recuperado</td>\n      <td>03/05/2020</td>\n      <td>TESTE RÁPIDO - ANTICORPO</td>\n    </tr>\n    <tr>\n      <th>33</th>\n      <td>43.0</td>\n      <td>M</td>\n      <td>CHAPADA</td>\n      <td>Descartado</td>\n      <td>Recuperado</td>\n      <td>03/05/2020</td>\n      <td>RT-PCR</td>\n    </tr>\n    <tr>\n      <th>64</th>\n      <td>44.0</td>\n      <td>M</td>\n      <td>CHAPADA</td>\n      <td>Descartado</td>\n      <td>Recuperado</td>\n      <td>03/05/2020</td>\n      <td>TESTE RÁPIDO - ANTICORPO</td>\n    </tr>\n    <tr>\n      <th>65</th>\n      <td>36.0</td>\n      <td>M</td>\n      <td>VIVER MELHOR - LAGO AZUL</td>\n      <td>Descartado</td>\n      <td>Recuperado</td>\n      <td>03/05/2020</td>\n      <td>TESTE RÁPIDO - ANTICORPO</td>\n    </tr>\n    <tr>\n      <th>...</th>\n      <td>...</td>\n      <td>...</td>\n      <td>...</td>\n      <td>...</td>\n      <td>...</td>\n      <td>...</td>\n      <td>...</td>\n    </tr>\n    <tr>\n      <th>107207</th>\n      <td>1.0</td>\n      <td>M</td>\n      <td>PARQUE 10 DE NOVEMBRO</td>\n      <td>Descartado</td>\n      <td>Recuperado</td>\n      <td>15/04/2020</td>\n      <td>TESTE RÁPIDO - ANTICORPO</td>\n    </tr>\n    <tr>\n      <th>107210</th>\n      <td>81.0</td>\n      <td>M</td>\n      <td>SANTA LUZIA</td>\n      <td>Descartado</td>\n      <td>Óbito</td>\n      <td>09/05/2020</td>\n      <td>RT-PCR</td>\n    </tr>\n    <tr>\n      <th>107212</th>\n      <td>68.0</td>\n      <td>M</td>\n      <td>JORGE TEIXEIRA</td>\n      <td>Confirmado</td>\n      <td>Recuperado</td>\n      <td>01/06/2020</td>\n      <td>RT-PCR</td>\n    </tr>\n    <tr>\n      <th>107215</th>\n      <td>45.0</td>\n      <td>F</td>\n      <td>TARUMA</td>\n      <td>Confirmado</td>\n      <td>Recuperado</td>\n      <td>05/06/2020</td>\n      <td>TESTE RÁPIDO - ANTICORPO</td>\n    </tr>\n    <tr>\n      <th>107216</th>\n      <td>68.0</td>\n      <td>M</td>\n      <td>NOVA ESPERANCA</td>\n      <td>Descartado</td>\n      <td>Recuperado</td>\n      <td>03/04/2020</td>\n      <td>RT-PCR</td>\n    </tr>\n  </tbody>\n</table>\n<p>33411 rows × 7 columns</p>\n</div>"
     },
     "metadata": {},
     "execution_count": 55
    }
   ],
   "source": [
    "df_dataset_clean.dropna(inplace=True)\n",
    "df_dataset_clean"
   ]
  },
  {
   "cell_type": "code",
   "execution_count": 56,
   "metadata": {},
   "outputs": [
    {
     "output_type": "execute_result",
     "data": {
      "text/plain": "Descartado    27051\nConfirmado     6360\nName: _classificacao, dtype: int64"
     },
     "metadata": {},
     "execution_count": 56
    }
   ],
   "source": [
    "df_dataset_clean._classificacao.value_counts()"
   ]
  },
  {
   "cell_type": "markdown",
   "metadata": {},
   "source": [
    "### Passo 3:\n",
    "Eliminar casos não confirmados"
   ]
  },
  {
   "cell_type": "code",
   "execution_count": 26,
   "metadata": {},
   "outputs": [
    {
     "output_type": "execute_result",
     "data": {
      "text/plain": "        _idade _sexo             _bairro _classificacao  _conclusao  \\\n678       25.0     F        ADRIANOPOLIS     Confirmado  Recuperado   \n679       41.0     F             BETANIA     Confirmado  Recuperado   \n66797     37.0     M         CIDADE NOVA     Confirmado  Recuperado   \n66799     44.0     M           SAO JORGE     Confirmado  Recuperado   \n66800     27.0     F  COLONIA TERRA NOVA     Confirmado  Recuperado   \n...        ...   ...                 ...            ...         ...   \n107196    14.0     F              DA PAZ     Confirmado  Recuperado   \n107202     5.0     F            REDENCAO     Confirmado  Recuperado   \n107204    70.0     F         DOM PEDRO I     Confirmado  Recuperado   \n107212    68.0     M      JORGE TEIXEIRA     Confirmado  Recuperado   \n107215    45.0     F              TARUMA     Confirmado  Recuperado   \n\n       _dt_notificacao               _tipo_teste  \n678         20/03/2020                    RT-PCR  \n679         27/03/2020                    RT-PCR  \n66797       27/04/2020  TESTE RÁPIDO - ANTICORPO  \n66799       27/04/2020  TESTE RÁPIDO - ANTICORPO  \n66800       24/04/2020  TESTE RÁPIDO - ANTICORPO  \n...                ...                       ...  \n107196      25/06/2020   TESTE RÁPIDO - ANTÍGENO  \n107202      18/06/2020   TESTE RÁPIDO - ANTÍGENO  \n107204      02/06/2020   TESTE RÁPIDO - ANTÍGENO  \n107212      01/06/2020                    RT-PCR  \n107215      05/06/2020  TESTE RÁPIDO - ANTICORPO  \n\n[6360 rows x 7 columns]",
      "text/html": "<div>\n<style scoped>\n    .dataframe tbody tr th:only-of-type {\n        vertical-align: middle;\n    }\n\n    .dataframe tbody tr th {\n        vertical-align: top;\n    }\n\n    .dataframe thead th {\n        text-align: right;\n    }\n</style>\n<table border=\"1\" class=\"dataframe\">\n  <thead>\n    <tr style=\"text-align: right;\">\n      <th></th>\n      <th>_idade</th>\n      <th>_sexo</th>\n      <th>_bairro</th>\n      <th>_classificacao</th>\n      <th>_conclusao</th>\n      <th>_dt_notificacao</th>\n      <th>_tipo_teste</th>\n    </tr>\n  </thead>\n  <tbody>\n    <tr>\n      <th>678</th>\n      <td>25.0</td>\n      <td>F</td>\n      <td>ADRIANOPOLIS</td>\n      <td>Confirmado</td>\n      <td>Recuperado</td>\n      <td>20/03/2020</td>\n      <td>RT-PCR</td>\n    </tr>\n    <tr>\n      <th>679</th>\n      <td>41.0</td>\n      <td>F</td>\n      <td>BETANIA</td>\n      <td>Confirmado</td>\n      <td>Recuperado</td>\n      <td>27/03/2020</td>\n      <td>RT-PCR</td>\n    </tr>\n    <tr>\n      <th>66797</th>\n      <td>37.0</td>\n      <td>M</td>\n      <td>CIDADE NOVA</td>\n      <td>Confirmado</td>\n      <td>Recuperado</td>\n      <td>27/04/2020</td>\n      <td>TESTE RÁPIDO - ANTICORPO</td>\n    </tr>\n    <tr>\n      <th>66799</th>\n      <td>44.0</td>\n      <td>M</td>\n      <td>SAO JORGE</td>\n      <td>Confirmado</td>\n      <td>Recuperado</td>\n      <td>27/04/2020</td>\n      <td>TESTE RÁPIDO - ANTICORPO</td>\n    </tr>\n    <tr>\n      <th>66800</th>\n      <td>27.0</td>\n      <td>F</td>\n      <td>COLONIA TERRA NOVA</td>\n      <td>Confirmado</td>\n      <td>Recuperado</td>\n      <td>24/04/2020</td>\n      <td>TESTE RÁPIDO - ANTICORPO</td>\n    </tr>\n    <tr>\n      <th>...</th>\n      <td>...</td>\n      <td>...</td>\n      <td>...</td>\n      <td>...</td>\n      <td>...</td>\n      <td>...</td>\n      <td>...</td>\n    </tr>\n    <tr>\n      <th>107196</th>\n      <td>14.0</td>\n      <td>F</td>\n      <td>DA PAZ</td>\n      <td>Confirmado</td>\n      <td>Recuperado</td>\n      <td>25/06/2020</td>\n      <td>TESTE RÁPIDO - ANTÍGENO</td>\n    </tr>\n    <tr>\n      <th>107202</th>\n      <td>5.0</td>\n      <td>F</td>\n      <td>REDENCAO</td>\n      <td>Confirmado</td>\n      <td>Recuperado</td>\n      <td>18/06/2020</td>\n      <td>TESTE RÁPIDO - ANTÍGENO</td>\n    </tr>\n    <tr>\n      <th>107204</th>\n      <td>70.0</td>\n      <td>F</td>\n      <td>DOM PEDRO I</td>\n      <td>Confirmado</td>\n      <td>Recuperado</td>\n      <td>02/06/2020</td>\n      <td>TESTE RÁPIDO - ANTÍGENO</td>\n    </tr>\n    <tr>\n      <th>107212</th>\n      <td>68.0</td>\n      <td>M</td>\n      <td>JORGE TEIXEIRA</td>\n      <td>Confirmado</td>\n      <td>Recuperado</td>\n      <td>01/06/2020</td>\n      <td>RT-PCR</td>\n    </tr>\n    <tr>\n      <th>107215</th>\n      <td>45.0</td>\n      <td>F</td>\n      <td>TARUMA</td>\n      <td>Confirmado</td>\n      <td>Recuperado</td>\n      <td>05/06/2020</td>\n      <td>TESTE RÁPIDO - ANTICORPO</td>\n    </tr>\n  </tbody>\n</table>\n<p>6360 rows × 7 columns</p>\n</div>"
     },
     "metadata": {},
     "execution_count": 26
    }
   ],
   "source": [
    "df_dataset_clean = df_dataset_clean[df_dataset_clean['_classificacao'] == 'Confirmado']\n",
    "df_dataset_clean"
   ]
  },
  {
   "cell_type": "code",
   "execution_count": 27,
   "metadata": {},
   "outputs": [],
   "source": [
    "df_dataset_clean.drop(['_classificacao'], axis=1, inplace=True)"
   ]
  },
  {
   "cell_type": "code",
   "execution_count": 28,
   "metadata": {},
   "outputs": [],
   "source": [
    "df_dataset_clean.reset_index(drop=True, inplace=True)"
   ]
  },
  {
   "cell_type": "code",
   "execution_count": 29,
   "metadata": {},
   "outputs": [
    {
     "output_type": "execute_result",
     "data": {
      "text/plain": "      _idade _sexo             _bairro  _conclusao _dt_notificacao  \\\n0       25.0     F        ADRIANOPOLIS  Recuperado      20/03/2020   \n1       41.0     F             BETANIA  Recuperado      27/03/2020   \n2       37.0     M         CIDADE NOVA  Recuperado      27/04/2020   \n3       44.0     M           SAO JORGE  Recuperado      27/04/2020   \n4       27.0     F  COLONIA TERRA NOVA  Recuperado      24/04/2020   \n...      ...   ...                 ...         ...             ...   \n6355    14.0     F              DA PAZ  Recuperado      25/06/2020   \n6356     5.0     F            REDENCAO  Recuperado      18/06/2020   \n6357    70.0     F         DOM PEDRO I  Recuperado      02/06/2020   \n6358    68.0     M      JORGE TEIXEIRA  Recuperado      01/06/2020   \n6359    45.0     F              TARUMA  Recuperado      05/06/2020   \n\n                   _tipo_teste  \n0                       RT-PCR  \n1                       RT-PCR  \n2     TESTE RÁPIDO - ANTICORPO  \n3     TESTE RÁPIDO - ANTICORPO  \n4     TESTE RÁPIDO - ANTICORPO  \n...                        ...  \n6355   TESTE RÁPIDO - ANTÍGENO  \n6356   TESTE RÁPIDO - ANTÍGENO  \n6357   TESTE RÁPIDO - ANTÍGENO  \n6358                    RT-PCR  \n6359  TESTE RÁPIDO - ANTICORPO  \n\n[6360 rows x 6 columns]",
      "text/html": "<div>\n<style scoped>\n    .dataframe tbody tr th:only-of-type {\n        vertical-align: middle;\n    }\n\n    .dataframe tbody tr th {\n        vertical-align: top;\n    }\n\n    .dataframe thead th {\n        text-align: right;\n    }\n</style>\n<table border=\"1\" class=\"dataframe\">\n  <thead>\n    <tr style=\"text-align: right;\">\n      <th></th>\n      <th>_idade</th>\n      <th>_sexo</th>\n      <th>_bairro</th>\n      <th>_conclusao</th>\n      <th>_dt_notificacao</th>\n      <th>_tipo_teste</th>\n    </tr>\n  </thead>\n  <tbody>\n    <tr>\n      <th>0</th>\n      <td>25.0</td>\n      <td>F</td>\n      <td>ADRIANOPOLIS</td>\n      <td>Recuperado</td>\n      <td>20/03/2020</td>\n      <td>RT-PCR</td>\n    </tr>\n    <tr>\n      <th>1</th>\n      <td>41.0</td>\n      <td>F</td>\n      <td>BETANIA</td>\n      <td>Recuperado</td>\n      <td>27/03/2020</td>\n      <td>RT-PCR</td>\n    </tr>\n    <tr>\n      <th>2</th>\n      <td>37.0</td>\n      <td>M</td>\n      <td>CIDADE NOVA</td>\n      <td>Recuperado</td>\n      <td>27/04/2020</td>\n      <td>TESTE RÁPIDO - ANTICORPO</td>\n    </tr>\n    <tr>\n      <th>3</th>\n      <td>44.0</td>\n      <td>M</td>\n      <td>SAO JORGE</td>\n      <td>Recuperado</td>\n      <td>27/04/2020</td>\n      <td>TESTE RÁPIDO - ANTICORPO</td>\n    </tr>\n    <tr>\n      <th>4</th>\n      <td>27.0</td>\n      <td>F</td>\n      <td>COLONIA TERRA NOVA</td>\n      <td>Recuperado</td>\n      <td>24/04/2020</td>\n      <td>TESTE RÁPIDO - ANTICORPO</td>\n    </tr>\n    <tr>\n      <th>...</th>\n      <td>...</td>\n      <td>...</td>\n      <td>...</td>\n      <td>...</td>\n      <td>...</td>\n      <td>...</td>\n    </tr>\n    <tr>\n      <th>6355</th>\n      <td>14.0</td>\n      <td>F</td>\n      <td>DA PAZ</td>\n      <td>Recuperado</td>\n      <td>25/06/2020</td>\n      <td>TESTE RÁPIDO - ANTÍGENO</td>\n    </tr>\n    <tr>\n      <th>6356</th>\n      <td>5.0</td>\n      <td>F</td>\n      <td>REDENCAO</td>\n      <td>Recuperado</td>\n      <td>18/06/2020</td>\n      <td>TESTE RÁPIDO - ANTÍGENO</td>\n    </tr>\n    <tr>\n      <th>6357</th>\n      <td>70.0</td>\n      <td>F</td>\n      <td>DOM PEDRO I</td>\n      <td>Recuperado</td>\n      <td>02/06/2020</td>\n      <td>TESTE RÁPIDO - ANTÍGENO</td>\n    </tr>\n    <tr>\n      <th>6358</th>\n      <td>68.0</td>\n      <td>M</td>\n      <td>JORGE TEIXEIRA</td>\n      <td>Recuperado</td>\n      <td>01/06/2020</td>\n      <td>RT-PCR</td>\n    </tr>\n    <tr>\n      <th>6359</th>\n      <td>45.0</td>\n      <td>F</td>\n      <td>TARUMA</td>\n      <td>Recuperado</td>\n      <td>05/06/2020</td>\n      <td>TESTE RÁPIDO - ANTICORPO</td>\n    </tr>\n  </tbody>\n</table>\n<p>6360 rows × 6 columns</p>\n</div>"
     },
     "metadata": {},
     "execution_count": 29
    }
   ],
   "source": [
    "df_dataset_clean"
   ]
  },
  {
   "cell_type": "code",
   "execution_count": 30,
   "metadata": {},
   "outputs": [
    {
     "output_type": "execute_result",
     "data": {
      "text/plain": "Recuperado    6347\nÓbito           13\nName: _conclusao, dtype: int64"
     },
     "metadata": {},
     "execution_count": 30
    }
   ],
   "source": [
    "df_dataset_clean._conclusao.value_counts()"
   ]
  },
  {
   "cell_type": "markdown",
   "metadata": {},
   "source": [
    "## Renomeando as colunas do dataset"
   ]
  },
  {
   "cell_type": "code",
   "execution_count": 31,
   "metadata": {
    "tags": []
   },
   "outputs": [
    {
     "output_type": "stream",
     "name": "stdout",
     "text": "idade\nsexo\nbairro\nconclusao\ndt_notificacao\ntipo_teste\n"
    }
   ],
   "source": [
    "new_columns = []\n",
    "for col in df_dataset_clean.columns:\n",
    "    nc = unidecode.unidecode(col.replace('_', '', 1))\n",
    "    print(nc)\n",
    "    new_columns.append(nc)"
   ]
  },
  {
   "cell_type": "code",
   "execution_count": 32,
   "metadata": {},
   "outputs": [],
   "source": [
    "d_names = dict(zip(df_dataset_clean, new_columns))\n",
    "df_dataset_clean.rename(d_names, axis=1, inplace=True)"
   ]
  },
  {
   "cell_type": "code",
   "execution_count": 33,
   "metadata": {},
   "outputs": [
    {
     "output_type": "execute_result",
     "data": {
      "text/plain": "      idade sexo              bairro   conclusao dt_notificacao  \\\n0      25.0    F        ADRIANOPOLIS  Recuperado     20/03/2020   \n1      41.0    F             BETANIA  Recuperado     27/03/2020   \n2      37.0    M         CIDADE NOVA  Recuperado     27/04/2020   \n3      44.0    M           SAO JORGE  Recuperado     27/04/2020   \n4      27.0    F  COLONIA TERRA NOVA  Recuperado     24/04/2020   \n...     ...  ...                 ...         ...            ...   \n6355   14.0    F              DA PAZ  Recuperado     25/06/2020   \n6356    5.0    F            REDENCAO  Recuperado     18/06/2020   \n6357   70.0    F         DOM PEDRO I  Recuperado     02/06/2020   \n6358   68.0    M      JORGE TEIXEIRA  Recuperado     01/06/2020   \n6359   45.0    F              TARUMA  Recuperado     05/06/2020   \n\n                    tipo_teste  \n0                       RT-PCR  \n1                       RT-PCR  \n2     TESTE RÁPIDO - ANTICORPO  \n3     TESTE RÁPIDO - ANTICORPO  \n4     TESTE RÁPIDO - ANTICORPO  \n...                        ...  \n6355   TESTE RÁPIDO - ANTÍGENO  \n6356   TESTE RÁPIDO - ANTÍGENO  \n6357   TESTE RÁPIDO - ANTÍGENO  \n6358                    RT-PCR  \n6359  TESTE RÁPIDO - ANTICORPO  \n\n[6360 rows x 6 columns]",
      "text/html": "<div>\n<style scoped>\n    .dataframe tbody tr th:only-of-type {\n        vertical-align: middle;\n    }\n\n    .dataframe tbody tr th {\n        vertical-align: top;\n    }\n\n    .dataframe thead th {\n        text-align: right;\n    }\n</style>\n<table border=\"1\" class=\"dataframe\">\n  <thead>\n    <tr style=\"text-align: right;\">\n      <th></th>\n      <th>idade</th>\n      <th>sexo</th>\n      <th>bairro</th>\n      <th>conclusao</th>\n      <th>dt_notificacao</th>\n      <th>tipo_teste</th>\n    </tr>\n  </thead>\n  <tbody>\n    <tr>\n      <th>0</th>\n      <td>25.0</td>\n      <td>F</td>\n      <td>ADRIANOPOLIS</td>\n      <td>Recuperado</td>\n      <td>20/03/2020</td>\n      <td>RT-PCR</td>\n    </tr>\n    <tr>\n      <th>1</th>\n      <td>41.0</td>\n      <td>F</td>\n      <td>BETANIA</td>\n      <td>Recuperado</td>\n      <td>27/03/2020</td>\n      <td>RT-PCR</td>\n    </tr>\n    <tr>\n      <th>2</th>\n      <td>37.0</td>\n      <td>M</td>\n      <td>CIDADE NOVA</td>\n      <td>Recuperado</td>\n      <td>27/04/2020</td>\n      <td>TESTE RÁPIDO - ANTICORPO</td>\n    </tr>\n    <tr>\n      <th>3</th>\n      <td>44.0</td>\n      <td>M</td>\n      <td>SAO JORGE</td>\n      <td>Recuperado</td>\n      <td>27/04/2020</td>\n      <td>TESTE RÁPIDO - ANTICORPO</td>\n    </tr>\n    <tr>\n      <th>4</th>\n      <td>27.0</td>\n      <td>F</td>\n      <td>COLONIA TERRA NOVA</td>\n      <td>Recuperado</td>\n      <td>24/04/2020</td>\n      <td>TESTE RÁPIDO - ANTICORPO</td>\n    </tr>\n    <tr>\n      <th>...</th>\n      <td>...</td>\n      <td>...</td>\n      <td>...</td>\n      <td>...</td>\n      <td>...</td>\n      <td>...</td>\n    </tr>\n    <tr>\n      <th>6355</th>\n      <td>14.0</td>\n      <td>F</td>\n      <td>DA PAZ</td>\n      <td>Recuperado</td>\n      <td>25/06/2020</td>\n      <td>TESTE RÁPIDO - ANTÍGENO</td>\n    </tr>\n    <tr>\n      <th>6356</th>\n      <td>5.0</td>\n      <td>F</td>\n      <td>REDENCAO</td>\n      <td>Recuperado</td>\n      <td>18/06/2020</td>\n      <td>TESTE RÁPIDO - ANTÍGENO</td>\n    </tr>\n    <tr>\n      <th>6357</th>\n      <td>70.0</td>\n      <td>F</td>\n      <td>DOM PEDRO I</td>\n      <td>Recuperado</td>\n      <td>02/06/2020</td>\n      <td>TESTE RÁPIDO - ANTÍGENO</td>\n    </tr>\n    <tr>\n      <th>6358</th>\n      <td>68.0</td>\n      <td>M</td>\n      <td>JORGE TEIXEIRA</td>\n      <td>Recuperado</td>\n      <td>01/06/2020</td>\n      <td>RT-PCR</td>\n    </tr>\n    <tr>\n      <th>6359</th>\n      <td>45.0</td>\n      <td>F</td>\n      <td>TARUMA</td>\n      <td>Recuperado</td>\n      <td>05/06/2020</td>\n      <td>TESTE RÁPIDO - ANTICORPO</td>\n    </tr>\n  </tbody>\n</table>\n<p>6360 rows × 6 columns</p>\n</div>"
     },
     "metadata": {},
     "execution_count": 33
    }
   ],
   "source": [
    "df_dataset_clean"
   ]
  },
  {
   "cell_type": "markdown",
   "metadata": {},
   "source": [
    "### Alterando o tipo da idade"
   ]
  },
  {
   "cell_type": "code",
   "execution_count": 34,
   "metadata": {},
   "outputs": [],
   "source": [
    "df_dataset_clean.idade = df_dataset_clean.idade.astype('int64')"
   ]
  },
  {
   "cell_type": "code",
   "execution_count": 35,
   "metadata": {},
   "outputs": [
    {
     "output_type": "execute_result",
     "data": {
      "text/plain": "      idade sexo              bairro   conclusao dt_notificacao  \\\n0        25    F        ADRIANOPOLIS  Recuperado     20/03/2020   \n1        41    F             BETANIA  Recuperado     27/03/2020   \n2        37    M         CIDADE NOVA  Recuperado     27/04/2020   \n3        44    M           SAO JORGE  Recuperado     27/04/2020   \n4        27    F  COLONIA TERRA NOVA  Recuperado     24/04/2020   \n...     ...  ...                 ...         ...            ...   \n6355     14    F              DA PAZ  Recuperado     25/06/2020   \n6356      5    F            REDENCAO  Recuperado     18/06/2020   \n6357     70    F         DOM PEDRO I  Recuperado     02/06/2020   \n6358     68    M      JORGE TEIXEIRA  Recuperado     01/06/2020   \n6359     45    F              TARUMA  Recuperado     05/06/2020   \n\n                    tipo_teste  \n0                       RT-PCR  \n1                       RT-PCR  \n2     TESTE RÁPIDO - ANTICORPO  \n3     TESTE RÁPIDO - ANTICORPO  \n4     TESTE RÁPIDO - ANTICORPO  \n...                        ...  \n6355   TESTE RÁPIDO - ANTÍGENO  \n6356   TESTE RÁPIDO - ANTÍGENO  \n6357   TESTE RÁPIDO - ANTÍGENO  \n6358                    RT-PCR  \n6359  TESTE RÁPIDO - ANTICORPO  \n\n[6360 rows x 6 columns]",
      "text/html": "<div>\n<style scoped>\n    .dataframe tbody tr th:only-of-type {\n        vertical-align: middle;\n    }\n\n    .dataframe tbody tr th {\n        vertical-align: top;\n    }\n\n    .dataframe thead th {\n        text-align: right;\n    }\n</style>\n<table border=\"1\" class=\"dataframe\">\n  <thead>\n    <tr style=\"text-align: right;\">\n      <th></th>\n      <th>idade</th>\n      <th>sexo</th>\n      <th>bairro</th>\n      <th>conclusao</th>\n      <th>dt_notificacao</th>\n      <th>tipo_teste</th>\n    </tr>\n  </thead>\n  <tbody>\n    <tr>\n      <th>0</th>\n      <td>25</td>\n      <td>F</td>\n      <td>ADRIANOPOLIS</td>\n      <td>Recuperado</td>\n      <td>20/03/2020</td>\n      <td>RT-PCR</td>\n    </tr>\n    <tr>\n      <th>1</th>\n      <td>41</td>\n      <td>F</td>\n      <td>BETANIA</td>\n      <td>Recuperado</td>\n      <td>27/03/2020</td>\n      <td>RT-PCR</td>\n    </tr>\n    <tr>\n      <th>2</th>\n      <td>37</td>\n      <td>M</td>\n      <td>CIDADE NOVA</td>\n      <td>Recuperado</td>\n      <td>27/04/2020</td>\n      <td>TESTE RÁPIDO - ANTICORPO</td>\n    </tr>\n    <tr>\n      <th>3</th>\n      <td>44</td>\n      <td>M</td>\n      <td>SAO JORGE</td>\n      <td>Recuperado</td>\n      <td>27/04/2020</td>\n      <td>TESTE RÁPIDO - ANTICORPO</td>\n    </tr>\n    <tr>\n      <th>4</th>\n      <td>27</td>\n      <td>F</td>\n      <td>COLONIA TERRA NOVA</td>\n      <td>Recuperado</td>\n      <td>24/04/2020</td>\n      <td>TESTE RÁPIDO - ANTICORPO</td>\n    </tr>\n    <tr>\n      <th>...</th>\n      <td>...</td>\n      <td>...</td>\n      <td>...</td>\n      <td>...</td>\n      <td>...</td>\n      <td>...</td>\n    </tr>\n    <tr>\n      <th>6355</th>\n      <td>14</td>\n      <td>F</td>\n      <td>DA PAZ</td>\n      <td>Recuperado</td>\n      <td>25/06/2020</td>\n      <td>TESTE RÁPIDO - ANTÍGENO</td>\n    </tr>\n    <tr>\n      <th>6356</th>\n      <td>5</td>\n      <td>F</td>\n      <td>REDENCAO</td>\n      <td>Recuperado</td>\n      <td>18/06/2020</td>\n      <td>TESTE RÁPIDO - ANTÍGENO</td>\n    </tr>\n    <tr>\n      <th>6357</th>\n      <td>70</td>\n      <td>F</td>\n      <td>DOM PEDRO I</td>\n      <td>Recuperado</td>\n      <td>02/06/2020</td>\n      <td>TESTE RÁPIDO - ANTÍGENO</td>\n    </tr>\n    <tr>\n      <th>6358</th>\n      <td>68</td>\n      <td>M</td>\n      <td>JORGE TEIXEIRA</td>\n      <td>Recuperado</td>\n      <td>01/06/2020</td>\n      <td>RT-PCR</td>\n    </tr>\n    <tr>\n      <th>6359</th>\n      <td>45</td>\n      <td>F</td>\n      <td>TARUMA</td>\n      <td>Recuperado</td>\n      <td>05/06/2020</td>\n      <td>TESTE RÁPIDO - ANTICORPO</td>\n    </tr>\n  </tbody>\n</table>\n<p>6360 rows × 6 columns</p>\n</div>"
     },
     "metadata": {},
     "execution_count": 35
    }
   ],
   "source": [
    "df_dataset_clean"
   ]
  },
  {
   "cell_type": "markdown",
   "metadata": {},
   "source": [
    "### Exportando o novo dataset para CSV"
   ]
  },
  {
   "cell_type": "code",
   "execution_count": 36,
   "metadata": {},
   "outputs": [],
   "source": [
    "df_dataset_clean.to_csv('dataset/dataset_limpo_covid19_manaus.csv', index=False)"
   ]
  }
 ],
 "metadata": {
  "kernelspec": {
   "display_name": "Python 3",
   "language": "python",
   "name": "python3"
  },
  "language_info": {
   "codemirror_mode": {
    "name": "ipython",
    "version": 3
   },
   "file_extension": ".py",
   "mimetype": "text/x-python",
   "name": "python",
   "nbconvert_exporter": "python",
   "pygments_lexer": "ipython3",
   "version": "3.6.9-final"
  }
 },
 "nbformat": 4,
 "nbformat_minor": 4
}