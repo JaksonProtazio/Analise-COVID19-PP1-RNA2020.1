{
  "nbformat": 4,
  "nbformat_minor": 0,
  "metadata": {
    "colab": {
      "name": "Visão geral casos confirmados após limpeza dos dados.ipynb",
      "provenance": []
    },
    "kernelspec": {
      "name": "python3",
      "display_name": "Python 3"
    }
  },
  "cells": [
    {
      "cell_type": "code",
      "metadata": {
        "id": "ClCciDdlZwQA",
        "colab_type": "code",
        "colab": {}
      },
      "source": [
        "from google.colab import files\n",
        "uploaded = files.upload()"
      ],
      "execution_count": null,
      "outputs": []
    },
    {
      "cell_type": "markdown",
      "metadata": {
        "id": "zTLACxB5qCKm",
        "colab_type": "text"
      },
      "source": [
        "Visando efetuar uma análise exploratória dos dados, as seguintes questões foram respondidas: \n",
        "\n",
        "1. Quantos exemplos e atributos há na base de dados após a limpeza e organização?\n",
        "\n",
        "2. Qual a porcentagem de indivíduos recuperados em relação ao todo?\n",
        "\n",
        "3. Os casos acometeram mais indivíduos do sexo masculino ou feminino?\n",
        "\n",
        "4. Qual a média e desvio padrão de idade dos indivíduos que contraíram a COVID-19? Qual o\n",
        "indivíduo mais jovem e o mais idoso a contraírem tal enfermidade?\n",
        "\n",
        "5. Qual o bairro com maior incidência de casos?\n",
        "\n",
        "6. Quais os três bairros com maior incidência de casos recuperados?\n",
        "\n",
        "7. Quais os tipos de testes efetuados, segundo os dados? Indicando os dados de maneira quantitativa\n",
        "e percentual.\n",
        "\n",
        "8. Qual taxa de letalidade pode ser calculada a partir do conjunto de dados? Para o cálculo desta\n",
        "taxa foi considerada a fração do total de óbitos pelo total de casos;\n",
        "\n",
        "9. Qual o tipo de correlação, mediante coeficiente de correlação de Pearson, entre a idade e o\n",
        "número de casos? \n"
      ]
    },
    {
      "cell_type": "markdown",
      "metadata": {
        "id": "_nWP1uItqG1s",
        "colab_type": "text"
      },
      "source": [
        "# Importando as biblioteca necessárias"
      ]
    },
    {
      "cell_type": "code",
      "metadata": {
        "id": "C7nnq9qnpxhW",
        "colab_type": "code",
        "colab": {}
      },
      "source": [
        "import io\n",
        "import pandas as pd\n",
        "\n"
      ],
      "execution_count": 20,
      "outputs": []
    },
    {
      "cell_type": "markdown",
      "metadata": {
        "id": "J91sag0YrMxd",
        "colab_type": "text"
      },
      "source": [
        "Para resposder tais questões, efetou-se a leitura do dataset após a limpeza dos dados."
      ]
    },
    {
      "cell_type": "code",
      "metadata": {
        "id": "Q9Kqq2zErOIJ",
        "colab_type": "code",
        "colab": {}
      },
      "source": [
        "# Dataset é armazenado em um Dataframe pandas\n",
        "df_dados_limpos = pd.read_csv(io.BytesIO(uploaded['dataset_limpo_covid19_manaus.csv']))"
      ],
      "execution_count": 28,
      "outputs": []
    },
    {
      "cell_type": "markdown",
      "metadata": {
        "id": "zXJP_RA6rZsg",
        "colab_type": "text"
      },
      "source": [
        "Uma rápida visualização do estado atual do conjunto de dados"
      ]
    },
    {
      "cell_type": "code",
      "metadata": {
        "id": "bVJc97Yxra2v",
        "colab_type": "code",
        "colab": {
          "base_uri": "https://localhost:8080/",
          "height": 424
        },
        "outputId": "3598e5ea-f401-403d-a987-2dd3d61f6b67"
      },
      "source": [
        "df_dados_limpos\n"
      ],
      "execution_count": 29,
      "outputs": [
        {
          "output_type": "execute_result",
          "data": {
            "text/html": [
              "<div>\n",
              "<style scoped>\n",
              "    .dataframe tbody tr th:only-of-type {\n",
              "        vertical-align: middle;\n",
              "    }\n",
              "\n",
              "    .dataframe tbody tr th {\n",
              "        vertical-align: top;\n",
              "    }\n",
              "\n",
              "    .dataframe thead th {\n",
              "        text-align: right;\n",
              "    }\n",
              "</style>\n",
              "<table border=\"1\" class=\"dataframe\">\n",
              "  <thead>\n",
              "    <tr style=\"text-align: right;\">\n",
              "      <th></th>\n",
              "      <th>idade</th>\n",
              "      <th>sexo</th>\n",
              "      <th>bairro</th>\n",
              "      <th>conclusao</th>\n",
              "      <th>dt_notificacao</th>\n",
              "      <th>tipo_teste</th>\n",
              "    </tr>\n",
              "  </thead>\n",
              "  <tbody>\n",
              "    <tr>\n",
              "      <th>0</th>\n",
              "      <td>25</td>\n",
              "      <td>F</td>\n",
              "      <td>ADRIANOPOLIS</td>\n",
              "      <td>Recuperado</td>\n",
              "      <td>20/03/2020</td>\n",
              "      <td>RT-PCR</td>\n",
              "    </tr>\n",
              "    <tr>\n",
              "      <th>1</th>\n",
              "      <td>41</td>\n",
              "      <td>F</td>\n",
              "      <td>BETANIA</td>\n",
              "      <td>Recuperado</td>\n",
              "      <td>27/03/2020</td>\n",
              "      <td>RT-PCR</td>\n",
              "    </tr>\n",
              "    <tr>\n",
              "      <th>2</th>\n",
              "      <td>37</td>\n",
              "      <td>M</td>\n",
              "      <td>CIDADE NOVA</td>\n",
              "      <td>Recuperado</td>\n",
              "      <td>27/04/2020</td>\n",
              "      <td>TESTE RÁPIDO - ANTICORPO</td>\n",
              "    </tr>\n",
              "    <tr>\n",
              "      <th>3</th>\n",
              "      <td>44</td>\n",
              "      <td>M</td>\n",
              "      <td>SAO JORGE</td>\n",
              "      <td>Recuperado</td>\n",
              "      <td>27/04/2020</td>\n",
              "      <td>TESTE RÁPIDO - ANTICORPO</td>\n",
              "    </tr>\n",
              "    <tr>\n",
              "      <th>4</th>\n",
              "      <td>27</td>\n",
              "      <td>F</td>\n",
              "      <td>COLONIA TERRA NOVA</td>\n",
              "      <td>Recuperado</td>\n",
              "      <td>24/04/2020</td>\n",
              "      <td>TESTE RÁPIDO - ANTICORPO</td>\n",
              "    </tr>\n",
              "    <tr>\n",
              "      <th>...</th>\n",
              "      <td>...</td>\n",
              "      <td>...</td>\n",
              "      <td>...</td>\n",
              "      <td>...</td>\n",
              "      <td>...</td>\n",
              "      <td>...</td>\n",
              "    </tr>\n",
              "    <tr>\n",
              "      <th>6355</th>\n",
              "      <td>14</td>\n",
              "      <td>F</td>\n",
              "      <td>DA PAZ</td>\n",
              "      <td>Recuperado</td>\n",
              "      <td>25/06/2020</td>\n",
              "      <td>TESTE RÁPIDO - ANTÍGENO</td>\n",
              "    </tr>\n",
              "    <tr>\n",
              "      <th>6356</th>\n",
              "      <td>5</td>\n",
              "      <td>F</td>\n",
              "      <td>REDENCAO</td>\n",
              "      <td>Recuperado</td>\n",
              "      <td>18/06/2020</td>\n",
              "      <td>TESTE RÁPIDO - ANTÍGENO</td>\n",
              "    </tr>\n",
              "    <tr>\n",
              "      <th>6357</th>\n",
              "      <td>70</td>\n",
              "      <td>F</td>\n",
              "      <td>DOM PEDRO I</td>\n",
              "      <td>Recuperado</td>\n",
              "      <td>02/06/2020</td>\n",
              "      <td>TESTE RÁPIDO - ANTÍGENO</td>\n",
              "    </tr>\n",
              "    <tr>\n",
              "      <th>6358</th>\n",
              "      <td>68</td>\n",
              "      <td>M</td>\n",
              "      <td>JORGE TEIXEIRA</td>\n",
              "      <td>Recuperado</td>\n",
              "      <td>01/06/2020</td>\n",
              "      <td>RT-PCR</td>\n",
              "    </tr>\n",
              "    <tr>\n",
              "      <th>6359</th>\n",
              "      <td>45</td>\n",
              "      <td>F</td>\n",
              "      <td>TARUMA</td>\n",
              "      <td>Recuperado</td>\n",
              "      <td>05/06/2020</td>\n",
              "      <td>TESTE RÁPIDO - ANTICORPO</td>\n",
              "    </tr>\n",
              "  </tbody>\n",
              "</table>\n",
              "<p>6360 rows × 6 columns</p>\n",
              "</div>"
            ],
            "text/plain": [
              "      idade sexo  ... dt_notificacao                tipo_teste\n",
              "0        25    F  ...     20/03/2020                    RT-PCR\n",
              "1        41    F  ...     27/03/2020                    RT-PCR\n",
              "2        37    M  ...     27/04/2020  TESTE RÁPIDO - ANTICORPO\n",
              "3        44    M  ...     27/04/2020  TESTE RÁPIDO - ANTICORPO\n",
              "4        27    F  ...     24/04/2020  TESTE RÁPIDO - ANTICORPO\n",
              "...     ...  ...  ...            ...                       ...\n",
              "6355     14    F  ...     25/06/2020   TESTE RÁPIDO - ANTÍGENO\n",
              "6356      5    F  ...     18/06/2020   TESTE RÁPIDO - ANTÍGENO\n",
              "6357     70    F  ...     02/06/2020   TESTE RÁPIDO - ANTÍGENO\n",
              "6358     68    M  ...     01/06/2020                    RT-PCR\n",
              "6359     45    F  ...     05/06/2020  TESTE RÁPIDO - ANTICORPO\n",
              "\n",
              "[6360 rows x 6 columns]"
            ]
          },
          "metadata": {
            "tags": []
          },
          "execution_count": 29
        }
      ]
    }
  ]
}