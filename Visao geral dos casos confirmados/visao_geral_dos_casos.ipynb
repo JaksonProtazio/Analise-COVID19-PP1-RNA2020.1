{
 "cells": [
  {
   "cell_type": "markdown",
   "metadata": {},
   "source": [
    "Análise Exploratória e Visualização de Dados\n",
    "\n",
    "O objetivo deste projeto é a análise dos dados da COVID-19 disponibilizados pela Prefeitura de Manaus no desenvolvimento de uma análise exploratória e visualização de dados."
   ]
  },
  {
   "cell_type": "markdown",
   "metadata": {},
   "source": [
    "Base de Dados\n",
    "\n",
    "O conjunto de dados encontra-se disponível em <https://covid19.manaus.\n",
    "am.gov.br/wp-content/uploads/Manaus.csv>. Um arquivo de 25 MB de informações\n",
    "textuais no formato CSV (Comma-Separated Values) e codificação ISO 8859-1 em virtude dos acentos nas nomeclaturas dos bairros.  "
   ]
  },
  {
   "cell_type": "markdown",
   "metadata": {},
   "source": [
    "Visão Geral dos Casos Confirmados\n",
    "\n",
    "A importação da base de dados apresenta os casos com classificações distintas. Tendo o intuito de manter apenas os casos classificados como confirmados, realiza-se a exclusão dos registros com casos distintos.  "
   ]
  },
  {
   "cell_type": "code",
   "execution_count": 81,
   "metadata": {
    "tags": []
   },
   "outputs": [],
   "source": [
    "import pandas as pd\n",
    "\n",
    "csv = pd.read_csv(\"C:/Users/hiago/git/Analise-COVID19-PP1-RNA2020.1/dataset/dataset_covid19_manaus.csv\", encoding=\"ISO-8859-1\", sep=\";\")\n",
    "\n",
    "df = csv[csv._classificacao == 'Confirmado']\n",
    "\n",
    "df.to_csv(r\"C:/Users/hiago/git/Analise-COVID19-PP1-RNA2020.1/dataset/dataset_casos_confirmados.csv\", index=False)\n"
   ]
  },
  {
   "cell_type": "markdown",
   "metadata": {},
   "source": [
    "Criou-se uma nova base de dados mantendo apenas os casos confirmados da coluna classificação. Para fins de comparação de registros de entre a base original e a nova base de dados. Confirma-se que a base de dados original apresentava 107221 registros, a nova base de dados mantendo apenas os casos confirmados apresenta 36671 registros."
   ]
  },
  {
   "cell_type": "code",
   "execution_count": 80,
   "metadata": {
    "tags": []
   },
   "outputs": [
    {
     "name": "stdout",
     "output_type": "stream",
     "text": [
      "Base de dados original apresenta 107221 registros\n",
      "Base de dados apenas com casos confirmados apresenta 36671 registros\n"
     ]
    }
   ],
   "source": [
    "import pandas as pd\n",
    "\n",
    "old = pd.read_csv(\"C:/Users/hiago/git/Analise-COVID19-PP1-RNA2020.1/dataset/dataset_covid19_manaus.csv\", encoding=\"ISO-8859-1\", sep=\";\")\n",
    "\n",
    "new = pd.read_csv(\"C:/Users/hiago/git/Analise-COVID19-PP1-RNA2020.1/dataset/dataset_casos_confirmados.csv\")\n",
    "\n",
    "print('Base de dados original apresenta %s registros' % old.shape[0])\n",
    "print('Base de dados apenas com casos confirmados apresenta %s registros' % new.shape[0])"
   ]
  },
  {
   "cell_type": "markdown",
   "metadata": {},
   "source": [
    "Tendo em vista um visão mais ampla do conjunto de dados contendo somente os casos confirmados realiza-se as seguintes perguntas:\n",
    "\n",
    "1. Quantos atributos descrevem cada exemplo? Quais são eles?"
   ]
  },
  {
   "cell_type": "code",
   "execution_count": 82,
   "metadata": {
    "tags": []
   },
   "outputs": [
    {
     "name": "stdout",
     "output_type": "stream",
     "text": [
      "36 atributos descrevem cada exemplo\n",
      "\n",
      "Sendo os atributos:\n",
      "\n",
      "idade\n",
      "faixa etária\n",
      "sexo\n",
      "bairro\n",
      "classificacao\n",
      "comorb_renal\n",
      "comorb_diabetes\n",
      "comorb_imuno\n",
      "comorb_cardio\n",
      "conclusao\n",
      "dt_notificacao\n",
      "taxa\n",
      "dt_evolucao\n",
      "raca\n",
      "dt_sintomas\n",
      "criterio\n",
      "tipo_teste\n",
      "sintoma_garganta\n",
      "sintoma_dispneia\n",
      "sintoma_febre\n",
      "sintoma_tosse\n",
      "sintoma_outros\n",
      "etnia\n",
      "profiss_saude\n",
      "srag\n",
      "se_notificacao\n",
      "distrito\n",
      "bairro_mapa\n",
      "comorb_respiratoria\n",
      "comorb_cromossomica\n",
      "comorb_hepatica\n",
      "comorb_neurologica\n",
      "comorb_hemato\n",
      "comorb_obessidade\n",
      "origem\n",
      "evolução\n"
     ]
    }
   ],
   "source": [
    "import pandas as pd\n",
    "\n",
    "df = pd.read_csv(\"C:/Users/hiago/git/Analise-COVID19-PP1-RNA2020.1/dataset/dataset_casos_confirmados.csv\")\n",
    "\n",
    "print('%s atributos descrevem cada exemplo\\n' % df.columns.size)\n",
    "print('Sendo os atributos:\\n')\n",
    "\n",
    "for atributo in df.columns.values:\n",
    "    print(atributo[1:])"
   ]
  },
  {
   "cell_type": "markdown",
   "metadata": {},
   "source": [
    "2. Quantos casos confirmados há em Manaus, cumulativamente?"
   ]
  },
  {
   "cell_type": "markdown",
   "metadata": {},
   "source": [
    "Abordagem 1: Utilizando groupby() para verificação de casos confirmados."
   ]
  },
  {
   "cell_type": "code",
   "execution_count": 83,
   "metadata": {
    "tags": []
   },
   "outputs": [
    {
     "name": "stdout",
     "output_type": "stream",
     "text": [
      "Casos distintos _classificacao\n",
      "Confirmado    36671\n",
      "Descartado    53359\n",
      "Em análise    17191\n",
      "dtype: int64\n",
      "\n",
      "Casos confirmados _classificacao\n",
      "Confirmado    36671\n",
      "dtype: int64\n"
     ]
    }
   ],
   "source": [
    "import pandas as pd\n",
    "\n",
    "old = pd.read_csv(\"C:/Users/hiago/git/Analise-COVID19-PP1-RNA2020.1/dataset/dataset_covid19_manaus.csv\", encoding=\"ISO-8859-1\", sep=\";\", dtype='unicode')\n",
    "\n",
    "new = pd.read_csv(\"C:/Users/hiago/git/Analise-COVID19-PP1-RNA2020.1/dataset/dataset_casos_confirmados.csv\")\n",
    "\n",
    "casos_distintos = old.groupby(by='_classificacao').size()\n",
    "\n",
    "casos_confirmados = new.groupby(by='_classificacao').size()\n",
    "\n",
    "print('Casos distintos %s' % casos_distintos, end='\\n\\n')\n",
    "print('Casos confirmados %s' % casos_confirmados)\n"
   ]
  },
  {
   "cell_type": "markdown",
   "metadata": {},
   "source": [
    "Abordagem 2: Utilizando query() e count() para verificação de casos confirmados."
   ]
  },
  {
   "cell_type": "code",
   "execution_count": 84,
   "metadata": {
    "tags": []
   },
   "outputs": [
    {
     "name": "stdout",
     "output_type": "stream",
     "text": [
      "Casos Confirmado: 36671\n",
      "Casos Em análise: 17191\n",
      "Casos Descartado: 53359\n",
      "\n",
      "Casos Confirmado: 36671\n"
     ]
    }
   ],
   "source": [
    "import pandas as pd\n",
    "\n",
    "old = pd.read_csv(\"C:/Users/hiago/git/Analise-COVID19-PP1-RNA2020.1/dataset/dataset_covid19_manaus.csv\", encoding=\"ISO-8859-1\", sep=\";\")\n",
    "\n",
    "new = pd.read_csv(\"C:/Users/hiago/git/Analise-COVID19-PP1-RNA2020.1/dataset/dataset_casos_confirmados.csv\")\n",
    "\n",
    "casos = old['_classificacao'].unique()\n",
    "\n",
    "for caso in casos:\n",
    "    consulta = old.query('_classificacao == \"{0}\"'.format(caso))['_classificacao'].count()\n",
    "    print('Casos {0}: {1}'.format(caso, consulta))\n",
    "\n",
    "consulta = new.query('_classificacao == \"Confirmado\"')['_classificacao'].count()\n",
    "print('\\nCasos Confirmado: %s' % consulta)"
   ]
  },
  {
   "cell_type": "markdown",
   "metadata": {},
   "source": [
    "Abordagem 3: Utilizando size para verificação de casos confirmados."
   ]
  },
  {
   "cell_type": "code",
   "execution_count": 86,
   "metadata": {
    "tags": []
   },
   "outputs": [
    {
     "name": "stdout",
     "output_type": "stream",
     "text": [
      "Caso Confirmado: 36671\n",
      "Caso Em análise: 17191\n",
      "Caso Descartado: 53359\n",
      "\n",
      "Caso Confirmado: 36671\n"
     ]
    }
   ],
   "source": [
    "import pandas as pd\n",
    "\n",
    "old = pd.read_csv(\"C:/Users/hiago/git/Analise-COVID19-PP1-RNA2020.1/dataset/dataset_covid19_manaus.csv\", encoding=\"ISO-8859-1\", sep=\";\")\n",
    "\n",
    "new = pd.read_csv(\"C:/Users/hiago/git/Analise-COVID19-PP1-RNA2020.1/dataset/dataset_casos_confirmados.csv\")\n",
    "\n",
    "casos = old['_classificacao'].unique()\n",
    "\n",
    "for caso in casos:\n",
    "    df = old[old['_classificacao'] == caso]\n",
    "    print('Caso {0}: {1}'.format(caso, df['_classificacao'].size))\n",
    "\n",
    "df = new[new['_classificacao'] == \"Confirmado\"]\n",
    "print('\\nCaso Confirmado: %s' % df['_classificacao'].size)\n"
   ]
  },
  {
   "cell_type": "markdown",
   "metadata": {},
   "source": [
    "Conclusão\n",
    "\n",
    "Em Manaus há cumulativamente 36671 casos confirmados, os casos em análise somam 17191 e um total de 53359 casos descartados."
   ]
  },
  {
   "cell_type": "markdown",
   "metadata": {},
   "source": [
    "Análise Exploratória dos dados\n",
    "\n",
    "Considerando o contexto deste projeto é realizada a exclusão de todos os atributos relativos às comorbidades, sintomas, etnia, profissão, outras datas que não a de notificação, origem e outros atributos que não estiverem envolvidos no contexto desta análise.\n",
    "\n"
   ]
  },
  {
   "cell_type": "code",
   "execution_count": 94,
   "metadata": {
    "tags": []
   },
   "outputs": [
    {
     "name": "stdout",
     "output_type": "stream",
     "text": [
      "Total de valores nulos por atributos\n",
      "_idade                54\n",
      "_faixa etária          0\n",
      "_sexo                167\n",
      "_bairro              584\n",
      "_classificacao         0\n",
      "_conclusao         23371\n",
      "_dt_notificacao        4\n",
      "_taxa               1811\n",
      "_raca               9510\n",
      "_criterio          31686\n",
      "_tipo_teste         8091\n",
      "_srag              31441\n",
      "_se_notificacao        4\n",
      "_distrito           1811\n",
      "_bairro_mapa        1811\n",
      "_evolução          31247\n",
      "dtype: int64\n",
      "\n",
      "Total de valores nulos por atributos após a exclusão de dados faltantes\n",
      "_idade             0\n",
      "_faixa etária      0\n",
      "_sexo              0\n",
      "_bairro            0\n",
      "_classificacao     0\n",
      "_conclusao         0\n",
      "_dt_notificacao    0\n",
      "_taxa              0\n",
      "_raca              0\n",
      "_criterio          0\n",
      "_tipo_teste        0\n",
      "_srag              0\n",
      "_se_notificacao    0\n",
      "_distrito          0\n",
      "_bairro_mapa       0\n",
      "_evolução          0\n",
      "dtype: int64\n"
     ]
    }
   ],
   "source": [
    "import pandas as pd\n",
    "pd.options.mode.chained_assignment = None  # default='warn'\n",
    "\n",
    "df = pd.read_csv(\"C:/Users/hiago/git/Analise-COVID19-PP1-RNA2020.1/dataset/dataset_casos_confirmados.csv\", dtype='unicode')\n",
    "\n",
    "comorbidades = df.filter(regex=(\"_comorb.*\"))\n",
    "df.drop([comorbidade for comorbidade in comorbidades], axis=1, inplace=True)\n",
    "\n",
    "sintomas = df.filter(regex=(\"_sintoma.*\"))\n",
    "df.drop([sintoma for sintoma in sintomas], axis=1, inplace=True)\n",
    "\n",
    "df.drop('_etnia', axis=1, inplace=True)\n",
    "\n",
    "profissao = df.filter(regex='_prof.*')\n",
    "df.drop(profissao, axis=1, inplace=True)\n",
    "\n",
    "datas = df.filter(regex=('dt'))\n",
    "datas.drop('_dt_notificacao', axis=1, inplace=True)\n",
    "df.drop(datas, axis=1, inplace=True)\n",
    "\n",
    "df.drop('_origem', axis=1, inplace=True)\n",
    "\n",
    "print('Total de valores nulos por atributos')\n",
    "print(df.isnull().sum())\n",
    "\n",
    "#Excluindo todas as linhas em que há dados faltantes para os atributos remanescentes.\n",
    "df.dropna(axis=0, inplace=True)\n",
    "\n",
    "print('\\nTotal de valores nulos por atributos após a exclusão de dados faltantes')\n",
    "print(df.isnull().sum())\n",
    "\n",
    "df.to_csv(r\"C:/Users/hiago/git/Analise-COVID19-PP1-RNA2020.1/dataset/dataset_exclusao_atributos_dados_faltantes.csv\", index=False)"
   ]
  },
  {
   "cell_type": "markdown",
   "metadata": {},
   "source": [
    "Iniciando a análise exploratória dos dados posterior a limpeza da base de dados.\n",
    "\n",
    " 1.Quantos exemplos e atributos há na base de dados após a limpeza e organização?"
   ]
  },
  {
   "cell_type": "markdown",
   "metadata": {},
   "source": [
    "Abordagem 1: Utilizando o método shape"
   ]
  },
  {
   "cell_type": "code",
   "execution_count": 95,
   "metadata": {
    "tags": []
   },
   "outputs": [
    {
     "name": "stdout",
     "output_type": "stream",
     "text": [
      "Quantidade de exemplos 533\n",
      "Quantidade de atributos 16\n"
     ]
    }
   ],
   "source": [
    "import pandas as pd\n",
    "\n",
    "df = pd.read_csv(\"C:/Users/hiago/git/Analise-COVID19-PP1-RNA2020.1/dataset/dataset_exclusao_atributos_dados_faltantes.csv\")\n",
    "\n",
    "print('Quantidade de exemplos %s' % df.shape[0])\n",
    "print('Quantidade de atributos %s' % df.shape[1])"
   ]
  },
  {
   "cell_type": "markdown",
   "metadata": {},
   "source": [
    "Abordagem 2: Utilizando o método count"
   ]
  },
  {
   "cell_type": "code",
   "execution_count": 96,
   "metadata": {
    "tags": []
   },
   "outputs": [
    {
     "name": "stdout",
     "output_type": "stream",
     "text": [
      "Quantidade de exemplos por atributo\n",
      "_idade             533\n",
      "_faixa etária      533\n",
      "_sexo              533\n",
      "_bairro            533\n",
      "_classificacao     533\n",
      "_conclusao         533\n",
      "_dt_notificacao    533\n",
      "_taxa              533\n",
      "_raca              533\n",
      "_criterio          533\n",
      "_tipo_teste        533\n",
      "_srag              533\n",
      "_se_notificacao    533\n",
      "_distrito          533\n",
      "_bairro_mapa       533\n",
      "_evolução          533\n",
      "dtype: int64\n"
     ]
    }
   ],
   "source": [
    "import pandas as pd\n",
    "\n",
    "df = pd.read_csv(\"C:/Users/hiago/git/Analise-COVID19-PP1-RNA2020.1/dataset/dataset_exclusao_atributos_dados_faltantes.csv\")\n",
    "\n",
    "print('Quantidade de exemplos por atributo')\n",
    "print(df.count())"
   ]
  },
  {
   "cell_type": "markdown",
   "metadata": {},
   "source": [
    "Abordagem 3: Utilizando o método size"
   ]
  },
  {
   "cell_type": "code",
   "execution_count": 97,
   "metadata": {
    "tags": []
   },
   "outputs": [
    {
     "name": "stdout",
     "output_type": "stream",
     "text": [
      "Quantidade de exemplos: 533\n",
      "Quantidade de atributos: 16\n"
     ]
    }
   ],
   "source": [
    "import pandas as pd\n",
    "\n",
    "df = pd.read_csv(\"C:/Users/hiago/git/Analise-COVID19-PP1-RNA2020.1/dataset/dataset_exclusao_atributos_dados_faltantes.csv\")\n",
    "\n",
    "print('Quantidade de exemplos: %s' % df.index.size)\n",
    "print('Quantidade de atributos: %s' % df.columns.size)"
   ]
  },
  {
   "cell_type": "markdown",
   "metadata": {},
   "source": [
    "2.Qual a porcentagem de indivíduos recuperados em relação ao todo?"
   ]
  },
  {
   "cell_type": "code",
   "execution_count": 54,
   "metadata": {},
   "outputs": [
    {
     "name": "stdout",
     "output_type": "stream",
     "text": [
      "99.80 % de recuperados\n",
      "Um total de casos de 6360 com 6347 casos recuperados e 13 óbitos\n"
     ]
    }
   ],
   "source": [
    "import pandas as pd\n",
    "\n",
    "df = pd.read_csv(\"C:/Users/hiago/git/Analise-COVID19-PP1-RNA2020.1/dataset/dataset_limpo_covid19_manaus.csv\")\n",
    "\n",
    "todo = df['conclusao'].count()\n",
    "recuperados = df[df.conclusao == 'Recuperado'].count()['conclusao']\n",
    "porcentagem = ((recuperados/todo)*100.0)\n",
    "\n",
    "print('{0:.2f} % de recuperados'.format(porcentagem))\n",
    "print('Um total de casos de {0} com {1} casos recuperados' .format(todo, recuperados), end=' ')\n",
    "\n",
    "obitos = df[df.conclusao == 'Óbito'].count()['conclusao']\n",
    "print('e %s óbitos' % obitos)"
   ]
  },
  {
   "cell_type": "markdown",
   "metadata": {},
   "source": [
    "3.Os casos acometeram mais indivíduos do sexo masculino ou feminino?"
   ]
  },
  {
   "cell_type": "code",
   "execution_count": 71,
   "metadata": {},
   "outputs": [
    {
     "name": "stdout",
     "output_type": "stream",
     "text": [
      "O Sexo Feminino foi o mais acometido com 3605 casos em comparação ao Sexo Masculino com 2755 casos\n"
     ]
    }
   ],
   "source": [
    "import pandas as pd\n",
    "\n",
    "df = pd.read_csv(\"C:/Users/hiago/git/Analise-COVID19-PP1-RNA2020.1/dataset/dataset_limpo_covid19_manaus.csv\")\n",
    "\n",
    "f = df[df['sexo'] == 'F'].count()['sexo']\n",
    "m = df[df['sexo'] == 'M'].count()['sexo']\n",
    "\n",
    "print('O Sexo Feminino foi o mais acometido com {0} casos em comparação ao Sexo Masculino com {1} casos'.format(f,m))"
   ]
  },
  {
   "cell_type": "markdown",
   "metadata": {},
   "source": [
    "4.Qual a média e desvio padrão de idade dos indivíduos que contraíram COVID-19? Qual o\n",
    "indivíduo mais jovem e o mais idoso a contraírem tal enfermidade?"
   ]
  },
  {
   "cell_type": "markdown",
   "metadata": {},
   "source": [
    "Abordagem 1: Utizando o método mean"
   ]
  },
  {
   "cell_type": "code",
   "execution_count": 115,
   "metadata": {},
   "outputs": [
    {
     "name": "stdout",
     "output_type": "stream",
     "text": [
      "Média de idade: 41\n",
      "Desvio Padrão: 14.10\n",
      "Mais jovem com idade: 0\n",
      "Mais idoso com idade: 99\n"
     ]
    }
   ],
   "source": [
    "import pandas as pd\n",
    "\n",
    "df = pd.read_csv(\"C:/Users/hiago/git/Analise-COVID19-PP1-RNA2020.1/dataset/dataset_limpo_covid19_manaus.csv\")\n",
    "\n",
    "media = df.idade.mean()\n",
    "#ou\n",
    "#media = df['idade'].mean()\n",
    "\n",
    "desvio = df.idade.std()\n",
    "print('Média de idade: {0:.0f}\\nDesvio Padrão: {1:.2f}'.format(media, desvio))\n",
    "\n",
    "mais_jovem = df.idade.min()\n",
    "mais_idoso = df.idade.max()\n",
    "\n",
    "print('Mais jovem com idade: %s' % mais_jovem)\n",
    "print('Mais idoso com idade: %s' % mais_idoso)"
   ]
  },
  {
   "cell_type": "markdown",
   "metadata": {},
   "source": [
    "Abordagem 2: Utilizando os métodos count e sum"
   ]
  },
  {
   "cell_type": "code",
   "execution_count": 116,
   "metadata": {},
   "outputs": [
    {
     "name": "stdout",
     "output_type": "stream",
     "text": [
      "Média de idade: 41\n",
      "Desvio Padrão: 14.10\n",
      "Mais jovem com idade: 0\n",
      "Mais idoso com idade: 99\n"
     ]
    }
   ],
   "source": [
    "import pandas as pd\n",
    "\n",
    "df = pd.read_csv(\"C:/Users/hiago/git/Analise-COVID19-PP1-RNA2020.1/dataset/dataset_limpo_covid19_manaus.csv\")\n",
    "\n",
    "total = df['idade'].count()\n",
    "soma = df['idade'].sum()\n",
    "\n",
    "media = soma/total\n",
    "\n",
    "desvio = df['idade'].std()\n",
    "print('Média de idade: {0:.0f}\\nDesvio Padrão: {1:.2f}'.format(media, desvio))\n",
    "\n",
    "mais_jovem = df['idade'].min()\n",
    "mais_idoso = df['idade'].max()\n",
    "\n",
    "print('Mais jovem com idade: %s' % mais_jovem)\n",
    "print('Mais idoso com idade: %s' % mais_idoso)"
   ]
  },
  {
   "cell_type": "markdown",
   "metadata": {},
   "source": [
    "Abordagem 3: Utilizando método describe"
   ]
  },
  {
   "cell_type": "code",
   "execution_count": 124,
   "metadata": {},
   "outputs": [
    {
     "name": "stdout",
     "output_type": "stream",
     "text": [
      "Média de idade: 41\n",
      "Desvio Padrão: 14.10\n",
      "Mais jovem com idade: 0\n",
      "Mais idoso com idade: 99\n"
     ]
    }
   ],
   "source": [
    "import pandas as pd\n",
    "\n",
    "df = pd.read_csv(\"C:/Users/hiago/git/Analise-COVID19-PP1-RNA2020.1/dataset/dataset_limpo_covid19_manaus.csv\")\n",
    "\n",
    "media = df['idade'].describe()['mean']\n",
    "\n",
    "desvio = df['idade'].describe()['std']\n",
    "print('Média de idade: {0:.0f}\\nDesvio Padrão: {1:.2f}'.format(media, desvio))\n",
    "\n",
    "mais_jovem = df['idade'].describe()['min']\n",
    "mais_idoso = df['idade'].describe()['max']\n",
    "\n",
    "print('Mais jovem com idade: {0}'.format(int(mais_jovem)))\n",
    "print('Mais idoso com idade: {0}'.format(int(mais_idoso)))"
   ]
  },
  {
   "cell_type": "markdown",
   "metadata": {},
   "source": [
    "5.Qual o bairro com maior incidência de casos?"
   ]
  },
  {
   "cell_type": "code",
   "execution_count": null,
   "metadata": {},
   "outputs": [],
   "source": [
    "Abordagem 1: Utilizando Força Bruta"
   ]
  },
  {
   "cell_type": "code",
   "execution_count": 170,
   "metadata": {},
   "outputs": [
    {
     "name": "stdout",
     "output_type": "stream",
     "text": [
      "A maior incidência de casos é no bairro CIDADE NOVA que apresenta 296 incidências\n"
     ]
    }
   ],
   "source": [
    "import pandas as pd\n",
    "\n",
    "df = pd.read_csv(\"C:/Users/hiago/git/Analise-COVID19-PP1-RNA2020.1/dataset/dataset_limpo_covid19_manaus.csv\")\n",
    "\n",
    "lista_bairros = df['bairro'].unique()\n",
    "\n",
    "maximo = 0\n",
    "nome_bairro = ''\n",
    "\n",
    "for bairro in lista_bairros:\n",
    "    valor = df[df.bairro == bairro].shape[0]\n",
    "    if valor > maximo:\n",
    "        maximo = valor\n",
    "        nome_bairro = bairro\n",
    "\n",
    "print('A maior incidência de casos é no bairro {0} que apresenta {1} incidências'.format(nome_bairro, maximo))\n"
   ]
  }
 ],
 "metadata": {
  "kernelspec": {
   "display_name": "Python 3",
   "language": "python",
   "name": "python3"
  },
  "language_info": {
   "codemirror_mode": {
    "name": "ipython",
    "version": 3
   },
   "file_extension": ".py",
   "mimetype": "text/x-python",
   "name": "python",
   "nbconvert_exporter": "python",
   "pygments_lexer": "ipython3",
   "version": "3.8.2"
  }
 },
 "nbformat": 4,
 "nbformat_minor": 2
}
