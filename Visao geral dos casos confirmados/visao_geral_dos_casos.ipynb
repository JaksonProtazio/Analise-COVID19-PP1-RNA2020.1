{
 "metadata": {
  "language_info": {
   "codemirror_mode": {
    "name": "ipython",
    "version": 3
   },
   "file_extension": ".py",
   "mimetype": "text/x-python",
   "name": "python",
   "nbconvert_exporter": "python",
   "pygments_lexer": "ipython3",
   "version": 3
  },
  "orig_nbformat": 2,
  "kernelspec": {
   "name": "python_defaultSpec_1596728815023",
   "display_name": "Python 3.8.2 32-bit"
  }
 },
 "nbformat": 4,
 "nbformat_minor": 2,
 "cells": [
  {
   "cell_type": "markdown",
   "metadata": {},
   "source": [
    "Análise Exploratória e Visualização de Dados\n",
    "\n",
    "O objetivo deste projeto é a análise dos dados da COVID-19 disponibilizados pela Prefeitura de Manaus no desenvolvimento de uma análise exploratória e visualização de dados."
   ]
  },
  {
   "cell_type": "markdown",
   "metadata": {},
   "source": [
    "Base de Dados\n",
    "\n",
    "O conjunto de dados encontra-se disponível em <https://covid19.manaus.\n",
    "am.gov.br/wp-content/uploads/Manaus.csv>. Um arquivo de 25 MB de informações\n",
    "textuais no formato CSV (Comma-Separated Values) e codificação ISO 8859-1 em virtude dos acentos nas nomeclaturas dos bairros.  "
   ]
  },
  {
   "cell_type": "markdown",
   "metadata": {},
   "source": [
    "Visão Geral dos Casos Confirmados\n",
    "\n",
    "A importação da base de dados apresenta os casos com classificações distintas. Tendo o intuito de manter apenas os casos classificados como confirmados, realiza-se a exclusão dos registros com casos distintos.  "
   ]
  },
  {
   "cell_type": "code",
   "execution_count": 60,
   "metadata": {
    "tags": []
   },
   "outputs": [],
   "source": [
    "import pandas as pd\n",
    "\n",
    "csv = pd.read_csv(\"C:/Users/hiago/virtualenvs/python/notebooks/Analise-COVID19-PP1-RNA2020.1/dataset_covid19_manaus.csv\", encoding=\"ISO-8859-1\", sep=\";\")\n",
    "\n",
    "df = csv[csv._classificacao == 'Confirmado']\n",
    "\n",
    "df.to_csv(r\"C:/Users/hiago/virtualenvs/python/notebooks/Analise-COVID19-PP1-RNA2020.1/dataset_casos_confirmados.csv\", index=False)\n"
   ]
  },
  {
   "cell_type": "markdown",
   "metadata": {},
   "source": [
    "Criou-se uma nova base de dados mantendo apenas os casos confirmados da coluna classificação. Para fins de comparação de registros de entre a base original e a nova base de dados. Confirma-se que a base de dados original apresentava 107221 registros, a nova base de dados mantendo apenas os casos confirmados apresenta 36671 registros."
   ]
  },
  {
   "cell_type": "code",
   "execution_count": 50,
   "metadata": {
    "tags": []
   },
   "outputs": [
    {
     "output_type": "stream",
     "name": "stdout",
     "text": "Base de dados original apresenta 107221 registros\nBase de dados apenas com casos confirmados apresenta 36671 registros\n"
    }
   ],
   "source": [
    "import pandas as pd\n",
    "\n",
    "old = pd.read_csv(\"C:/Users/hiago/virtualenvs/python/notebooks/Analise-COVID19-PP1-RNA2020.1/dataset_covid19_manaus.csv\", encoding=\"ISO-8859-1\", sep=\";\")\n",
    "\n",
    "new = pd.read_csv(\"C:/Users/hiago/virtualenvs/python/notebooks/Analise-COVID19-PP1-RNA2020.1/dataset_casos_confirmados.csv\")\n",
    "\n",
    "print('Base de dados original apresenta %s registros' % old.shape[0])\n",
    "print('Base de dados apenas com casos confirmados apresenta %s registros' % new.shape[0])"
   ]
  },
  {
   "cell_type": "markdown",
   "metadata": {},
   "source": [
    "Tendo em vista um visão mais ampla do conjunto de dados contendo somente os casos confirmados realiza-se as seguintes perguntas:\n",
    "\n",
    "1. Quantos atributos descrevem cada exemplo? Quais são eles?"
   ]
  },
  {
   "cell_type": "code",
   "execution_count": 91,
   "metadata": {
    "tags": []
   },
   "outputs": [
    {
     "output_type": "stream",
     "name": "stdout",
     "text": "36 atributos descrevem cada exemplo\n\nSendo os atributos:\n\n_idade\n_faixa etária\n_sexo\n_bairro\n_classificacao\n_comorb_renal\n_comorb_diabetes\n_comorb_imuno\n_comorb_cardio\n_conclusao\n_dt_notificacao\n_taxa\n_dt_evolucao\n_raca\n_dt_sintomas\n_criterio\n_tipo_teste\n_sintoma_garganta\n_sintoma_dispneia\n_sintoma_febre\n_sintoma_tosse\n_sintoma_outros\n_etnia\n_profiss_saude\n_srag\n_se_notificacao\n_distrito\n_bairro_mapa\n_comorb_respiratoria\n_comorb_cromossomica\n_comorb_hepatica\n_comorb_neurologica\n_comorb_hemato\n_comorb_obessidade\n_origem\n_evolução\n"
    }
   ],
   "source": [
    "import pandas as pd\n",
    "\n",
    "df = pd.read_csv(\"C:/Users/hiago/virtualenvs/python/notebooks/Analise-COVID19-PP1-RNA2020.1/dataset_casos_confirmados.csv\")\n",
    "\n",
    "print('%s atributos descrevem cada exemplo\\n' % df.columns.size)\n",
    "print('Sendo os atributos:\\n')\n",
    "\n",
    "for atributo in df.columns.values:\n",
    "    print(atributo)"
   ]
  },
  {
   "cell_type": "markdown",
   "metadata": {},
   "source": [
    "2. Quantos casos confirmados há em Manaus, cumulativamente?"
   ]
  },
  {
   "cell_type": "markdown",
   "metadata": {},
   "source": [
    "Abordagem 1: Utilizando groupby() para verificação de casos confirmados."
   ]
  },
  {
   "cell_type": "code",
   "execution_count": 44,
   "metadata": {
    "tags": []
   },
   "outputs": [
    {
     "output_type": "stream",
     "name": "stdout",
     "text": "Casos distintos _classificacao\nConfirmado    36671\nDescartado    53359\nEm análise    17191\ndtype: int64\n\nCasos confirmados _classificacao\nConfirmado    36671\ndtype: int64\n"
    }
   ],
   "source": [
    "import pandas as pd\n",
    "\n",
    "old = pd.read_csv(\"C:/Users/hiago/virtualenvs/python/notebooks/Analise-COVID19-PP1-RNA2020.1/dataset_covid19_manaus.csv\", encoding=\"ISO-8859-1\", sep=\";\")\n",
    "\n",
    "new = pd.read_csv(\"C:/Users/hiago/virtualenvs/python/notebooks/Analise-COVID19-PP1-RNA2020.1/dataset_casos_confirmados.csv\")\n",
    "\n",
    "casos_distintos = old.groupby(by='_classificacao').size()\n",
    "\n",
    "casos_confirmados = new.groupby(by='_classificacao').size()\n",
    "\n",
    "print('Casos distintos %s' % casos_distintos, end='\\n\\n')\n",
    "print('Casos confirmados %s' % casos_confirmados)\n"
   ]
  },
  {
   "cell_type": "markdown",
   "metadata": {},
   "source": [
    "Abordagem 2: Utilizando query() e count() para verificação de casos confirmados."
   ]
  },
  {
   "cell_type": "code",
   "execution_count": 57,
   "metadata": {
    "tags": []
   },
   "outputs": [
    {
     "output_type": "stream",
     "name": "stdout",
     "text": "Casos Confirmado: 36671\nCasos Em análise: 17191\nCasos Descartado: 53359\n\nCasos Confirmado: 36671\n"
    }
   ],
   "source": [
    "import pandas as pd\n",
    "\n",
    "old = pd.read_csv(\"C:/Users/hiago/virtualenvs/python/notebooks/Analise-COVID19-PP1-RNA2020.1/dataset_covid19_manaus.csv\", encoding=\"ISO-8859-1\", sep=\";\")\n",
    "\n",
    "new = pd.read_csv(\"C:/Users/hiago/virtualenvs/python/notebooks/Analise-COVID19-PP1-RNA2020.1/dataset_casos_confirmados.csv\")\n",
    "\n",
    "casos = old['_classificacao'].unique()\n",
    "\n",
    "for caso in casos:\n",
    "    consulta = old.query('_classificacao == \"{0}\"'.format(caso))['_classificacao'].count()\n",
    "    print('Casos {0}: {1}'.format(caso, consulta))\n",
    "\n",
    "consulta = new.query('_classificacao == \"Confirmado\"')['_classificacao'].count()\n",
    "print('\\nCasos Confirmado: %s' % consulta)"
   ]
  },
  {
   "cell_type": "markdown",
   "metadata": {},
   "source": [
    "Abordagem 3: Utilizando size para verificação de casos confirmados."
   ]
  },
  {
   "cell_type": "code",
   "execution_count": 65,
   "metadata": {
    "tags": []
   },
   "outputs": [
    {
     "output_type": "stream",
     "name": "stdout",
     "text": "Caso Confirmado: 36671\nCaso Em análise: 17191\nCaso Descartado: 53359\n\nCaso Confirmado: 36671\n"
    }
   ],
   "source": [
    "import pandas as pd\n",
    "\n",
    "old = pd.read_csv(\"C:/Users/hiago/virtualenvs/python/notebooks/Analise-COVID19-PP1-RNA2020.1/dataset_covid19_manaus.csv\", encoding=\"ISO-8859-1\", sep=\";\")\n",
    "\n",
    "new = pd.read_csv(\"C:/Users/hiago/virtualenvs/python/notebooks/Analise-COVID19-PP1-RNA2020.1/dataset_casos_confirmados.csv\")\n",
    "\n",
    "casos = old['_classificacao'].unique()\n",
    "\n",
    "for caso in casos:\n",
    "    df = old[old['_classificacao'] == caso]\n",
    "    print('Caso {0}: {1}'.format(caso, df['_classificacao'].size))\n",
    "\n",
    "df = new[new['_classificacao'] == \"Confirmado\"]\n",
    "print('\\nCaso Confirmado: %s' % df['_classificacao'].size)\n"
   ]
  },
  {
   "cell_type": "code",
   "execution_count": null,
   "metadata": {},
   "outputs": [],
   "source": [
    "Conclusão\n",
    "\n",
    "Em Manaus há cumulativamente 36671 casos confirmados, os casos em análise somam 17191 e um total de 53359 casos descartados."
   ]
  },
  {
   "cell_type": "markdown",
   "metadata": {},
   "source": [
    "Análise Exploratória dos dados\n",
    "\n",
    "Considerando o contexto deste projeto é realizada a exclusão de todos os atributos relativos às comorbidades, sintomas, etnia, profissão, outras datas que não a de notificação, origem e outros atributos que não estiverem envolvidos no contexto desta análise.\n",
    "\n"
   ]
  },
  {
   "cell_type": "code",
   "execution_count": 144,
   "metadata": {
    "tags": []
   },
   "outputs": [
    {
     "output_type": "stream",
     "name": "stdout",
     "text": "Total de valores nulos por atributos\n_idade                54\n_faixa etária          0\n_sexo                167\n_bairro              584\n_classificacao         0\n_conclusao         23371\n_dt_notificacao        4\n_taxa               1811\n_raca               9510\n_criterio          31686\n_tipo_teste         8091\n_srag              31441\n_se_notificacao        4\n_distrito           1811\n_bairro_mapa        1811\n_evolução          31247\ndtype: int64\n\nTotal de valores nulos por atributos após a exclusão de dados faltantes\n_idade             0\n_faixa etária      0\n_sexo              0\n_bairro            0\n_classificacao     0\n_conclusao         0\n_dt_notificacao    0\n_taxa              0\n_raca              0\n_criterio          0\n_tipo_teste        0\n_srag              0\n_se_notificacao    0\n_distrito          0\n_bairro_mapa       0\n_evolução          0\ndtype: int64\n"
    }
   ],
   "source": [
    "import pandas as pd\n",
    "\n",
    "df = pd.read_csv(\"C:/Users/hiago/virtualenvs/python/notebooks/Analise-COVID19-PP1-RNA2020.1/dataset_casos_confirmados.csv\")\n",
    "\n",
    "comorbidades = df.filter(regex=(\"_comorb.*\"))\n",
    "\n",
    "df.drop([comorbidade for comorbidade in comorbidades], axis=1, inplace=True)\n",
    "\n",
    "sintomas = df.filter(regex=(\"_sintoma.*\"))\n",
    "\n",
    "df.drop([sintoma for sintoma in sintomas], axis=1, inplace=True)\n",
    "\n",
    "df.drop('_etnia', axis=1, inplace=True)\n",
    "\n",
    "profissao = df.filter(regex='_prof.*')\n",
    "\n",
    "df.drop(profissao, axis=1, inplace=True)\n",
    "\n",
    "datas = df.filter(regex=('dt'))\n",
    "\n",
    "datas.drop('_dt_notificacao', axis=1, inplace=True)\n",
    "\n",
    "df.drop(datas, axis=1, inplace=True)\n",
    "\n",
    "df.drop('_origem', axis=1, inplace=True)\n",
    "\n",
    "\n",
    "print('Total de valores nulos por atributos')\n",
    "print(df.isnull().sum())\n",
    "\n",
    "#Excluindo todas as linhas em que há dados faltantes para os atributos remanescentes.\n",
    "df.dropna(axis=0, inplace=True)\n",
    "\n",
    "print('\\nTotal de valores nulos por atributos após a exclusão de dados faltantes')\n",
    "print(df.isnull().sum())\n",
    "\n",
    "df.to_csv(r\"C:/Users/hiago/virtualenvs/python/notebooks/Analise-COVID19-PP1-RNA2020.1/dataset_exclusao_atributos_dados_faltantes.csv\", index=False)"
   ]
  },
  {
   "cell_type": "markdown",
   "metadata": {},
   "source": [
    "Iniciando a análise exploratória dos dados posterior a limpeza da base de dados.\n",
    "\n",
    "1. Quantos exemplos e atributos há na base de dados após a limpeza e organização?"
   ]
  },
  {
   "cell_type": "code",
   "execution_count": null,
   "metadata": {},
   "outputs": [],
   "source": [
    "Abordagem 1: Utilizando o método shape"
   ]
  },
  {
   "cell_type": "code",
   "execution_count": 161,
   "metadata": {
    "tags": []
   },
   "outputs": [
    {
     "output_type": "stream",
     "name": "stdout",
     "text": "Quantidade de exemplos 533\nQuantidade de atributos 16\n"
    }
   ],
   "source": [
    "import pandas as pd\n",
    "\n",
    "df = pd.read_csv(\"C:/Users/hiago/virtualenvs/python/notebooks/Analise-COVID19-PP1-RNA2020.1/dataset_exclusao_atributos_dados_faltantes.csv\")\n",
    "\n",
    "print('Quantidade de exemplos %s' % df.shape[0])\n",
    "print('Quantidade de atributos %s' % df.shape[1])"
   ]
  },
  {
   "cell_type": "markdown",
   "metadata": {},
   "source": [
    "Abordagem 2: Utilizando o método count"
   ]
  },
  {
   "cell_type": "code",
   "execution_count": 175,
   "metadata": {
    "tags": []
   },
   "outputs": [
    {
     "output_type": "stream",
     "name": "stdout",
     "text": "Quantidade de exemplos por atributo\n_idade             533\n_faixa etária      533\n_sexo              533\n_bairro            533\n_classificacao     533\n_conclusao         533\n_dt_notificacao    533\n_taxa              533\n_raca              533\n_criterio          533\n_tipo_teste        533\n_srag              533\n_se_notificacao    533\n_distrito          533\n_bairro_mapa       533\n_evolução          533\ndtype: int64\n"
    },
    {
     "output_type": "execute_result",
     "data": {
      "text/plain": "_faixa etária      1\n_classificacao     1\n_raca              1\n_sexo              1\n_distrito          1\n_srag              1\n_conclusao         1\n_dt_notificacao    1\n_tipo_teste        1\n_idade             1\n_bairro_mapa       1\n_bairro            1\n_se_notificacao    1\n_criterio          1\n_taxa              1\n_evolução          1\ndtype: int64"
     },
     "metadata": {},
     "execution_count": 175
    }
   ],
   "source": [
    "import pandas as pd\n",
    "\n",
    "df = pd.read_csv(\"C:/Users/hiago/virtualenvs/python/notebooks/Analise-COVID19-PP1-RNA2020.1/dataset_exclusao_atributos_dados_faltantes.csv\")\n",
    "\n",
    "print('Quantidade de exemplos por atributo')\n",
    "print(df.count())"
   ]
  },
  {
   "cell_type": "code",
   "execution_count": null,
   "metadata": {},
   "outputs": [],
   "source": [
    "Abordagem 3: Utilizando o método size"
   ]
  },
  {
   "cell_type": "code",
   "execution_count": 169,
   "metadata": {
    "tags": []
   },
   "outputs": [
    {
     "output_type": "stream",
     "name": "stdout",
     "text": "Quantidade de exemplos: 533\nQuantidade de atributos: 16\n"
    }
   ],
   "source": [
    "import pandas as pd\n",
    "\n",
    "df = pd.read_csv(\"C:/Users/hiago/virtualenvs/python/notebooks/Analise-COVID19-PP1-RNA2020.1/dataset_exclusao_atributos_dados_faltantes.csv\")\n",
    "\n",
    "print('Quantidade de exemplos: %s' % df.index.size)\n",
    "print('Quantidade de atributos: %s' % df.columns.size)"
   ]
  }
 ]
}