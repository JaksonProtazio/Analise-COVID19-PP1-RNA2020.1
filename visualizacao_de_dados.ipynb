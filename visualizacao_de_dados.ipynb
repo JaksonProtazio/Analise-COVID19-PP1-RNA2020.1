{
  "nbformat": 4,
  "nbformat_minor": 0,
  "metadata": {
    "colab": {
      "name": "graficos",
      "provenance": [],
      "collapsed_sections": [],
      "toc_visible": true
    },
    "kernelspec": {
      "name": "python3",
      "display_name": "Python 3"
    }
  },
  "cells": [
    {
      "cell_type": "markdown",
      "metadata": {
        "id": "H8ThuCTjEjuG",
        "colab_type": "text"
      },
      "source": [
        "# Notebook destinado a segunda parte do PP1 da disciplina de RNA 2020.1"
      ]
    },
    {
      "cell_type": "code",
      "metadata": {
        "id": "vQrxap_dHVT5",
        "colab_type": "code",
        "colab": {}
      },
      "source": [
        "import warnings\n",
        "warnings.filterwarnings('ignore')\n",
        "\n",
        "import pandas as pd\n",
        "import numpy as np\n",
        "\n",
        "import matplotlib.pyplot as plt\n",
        "\n",
        "plt.style.use('ggplot')"
      ],
      "execution_count": 7,
      "outputs": []
    },
    {
      "cell_type": "markdown",
      "metadata": {
        "id": "WK5yHD74JW4b",
        "colab_type": "text"
      },
      "source": [
        "## Importando o dataset limpo"
      ]
    },
    {
      "cell_type": "markdown",
      "metadata": {
        "id": "UL4Vu8BPDeEK",
        "colab_type": "text"
      },
      "source": [
        "> Formas alternativas de leitura do dataset do github"
      ]
    },
    {
      "cell_type": "code",
      "metadata": {
        "id": "1IoqEcVSCIiU",
        "colab_type": "code",
        "colab": {}
      },
      "source": [
        "#pd.read_csv('https://raw.githubusercontent.com/userddssilva/Analise-COVID19-PP1-RNA2020.1/master/dataset/dataset_limpo_covid19_manaus.csv?token=AMHWGQNWN4HALQAJZ5OP2HC7H7CDS')\n",
        "#.read_csv('https://raw.githubusercontent.com/userddssilva/Analise-COVID19-PP1-RNA2020.1/master/dataset/dataset_covid19_manaus.csv?token=AMHWGQPMBW2HL4RB3VNPKOC7H7CHE', encoding='ISO-8859-1', sep=';')"
      ],
      "execution_count": 8,
      "outputs": []
    },
    {
      "cell_type": "code",
      "metadata": {
        "id": "FO36eUxqJck8",
        "colab_type": "code",
        "colab": {
          "base_uri": "https://localhost:8080/",
          "height": 419
        },
        "outputId": "62bc0fd1-ed60-4947-e63b-35257d8f1fc2"
      },
      "source": [
        "# adicionei o link do rep do github para acesso direto ao csv de lá\n",
        "df_dataset = pd.read_csv('/content/dataset_limpo_covid19_manaus.csv')\n",
        "df_dataset"
      ],
      "execution_count": 9,
      "outputs": [
        {
          "output_type": "execute_result",
          "data": {
            "text/html": [
              "<div>\n",
              "<style scoped>\n",
              "    .dataframe tbody tr th:only-of-type {\n",
              "        vertical-align: middle;\n",
              "    }\n",
              "\n",
              "    .dataframe tbody tr th {\n",
              "        vertical-align: top;\n",
              "    }\n",
              "\n",
              "    .dataframe thead th {\n",
              "        text-align: right;\n",
              "    }\n",
              "</style>\n",
              "<table border=\"1\" class=\"dataframe\">\n",
              "  <thead>\n",
              "    <tr style=\"text-align: right;\">\n",
              "      <th></th>\n",
              "      <th>idade</th>\n",
              "      <th>sexo</th>\n",
              "      <th>bairro</th>\n",
              "      <th>conclusao</th>\n",
              "      <th>dt_notificacao</th>\n",
              "      <th>tipo_teste</th>\n",
              "    </tr>\n",
              "  </thead>\n",
              "  <tbody>\n",
              "    <tr>\n",
              "      <th>0</th>\n",
              "      <td>25</td>\n",
              "      <td>F</td>\n",
              "      <td>ADRIANOPOLIS</td>\n",
              "      <td>Recuperado</td>\n",
              "      <td>20/03/2020</td>\n",
              "      <td>RT-PCR</td>\n",
              "    </tr>\n",
              "    <tr>\n",
              "      <th>1</th>\n",
              "      <td>41</td>\n",
              "      <td>F</td>\n",
              "      <td>BETANIA</td>\n",
              "      <td>Recuperado</td>\n",
              "      <td>27/03/2020</td>\n",
              "      <td>RT-PCR</td>\n",
              "    </tr>\n",
              "    <tr>\n",
              "      <th>2</th>\n",
              "      <td>37</td>\n",
              "      <td>M</td>\n",
              "      <td>CIDADE NOVA</td>\n",
              "      <td>Recuperado</td>\n",
              "      <td>27/04/2020</td>\n",
              "      <td>TESTE RÁPIDO - ANTICORPO</td>\n",
              "    </tr>\n",
              "    <tr>\n",
              "      <th>3</th>\n",
              "      <td>44</td>\n",
              "      <td>M</td>\n",
              "      <td>SAO JORGE</td>\n",
              "      <td>Recuperado</td>\n",
              "      <td>27/04/2020</td>\n",
              "      <td>TESTE RÁPIDO - ANTICORPO</td>\n",
              "    </tr>\n",
              "    <tr>\n",
              "      <th>4</th>\n",
              "      <td>27</td>\n",
              "      <td>F</td>\n",
              "      <td>COLONIA TERRA NOVA</td>\n",
              "      <td>Recuperado</td>\n",
              "      <td>24/04/2020</td>\n",
              "      <td>TESTE RÁPIDO - ANTICORPO</td>\n",
              "    </tr>\n",
              "    <tr>\n",
              "      <th>...</th>\n",
              "      <td>...</td>\n",
              "      <td>...</td>\n",
              "      <td>...</td>\n",
              "      <td>...</td>\n",
              "      <td>...</td>\n",
              "      <td>...</td>\n",
              "    </tr>\n",
              "    <tr>\n",
              "      <th>6355</th>\n",
              "      <td>14</td>\n",
              "      <td>F</td>\n",
              "      <td>DA PAZ</td>\n",
              "      <td>Recuperado</td>\n",
              "      <td>25/06/2020</td>\n",
              "      <td>TESTE RÁPIDO - ANTÍGENO</td>\n",
              "    </tr>\n",
              "    <tr>\n",
              "      <th>6356</th>\n",
              "      <td>5</td>\n",
              "      <td>F</td>\n",
              "      <td>REDENCAO</td>\n",
              "      <td>Recuperado</td>\n",
              "      <td>18/06/2020</td>\n",
              "      <td>TESTE RÁPIDO - ANTÍGENO</td>\n",
              "    </tr>\n",
              "    <tr>\n",
              "      <th>6357</th>\n",
              "      <td>70</td>\n",
              "      <td>F</td>\n",
              "      <td>DOM PEDRO I</td>\n",
              "      <td>Recuperado</td>\n",
              "      <td>02/06/2020</td>\n",
              "      <td>TESTE RÁPIDO - ANTÍGENO</td>\n",
              "    </tr>\n",
              "    <tr>\n",
              "      <th>6358</th>\n",
              "      <td>68</td>\n",
              "      <td>M</td>\n",
              "      <td>JORGE TEIXEIRA</td>\n",
              "      <td>Recuperado</td>\n",
              "      <td>01/06/2020</td>\n",
              "      <td>RT-PCR</td>\n",
              "    </tr>\n",
              "    <tr>\n",
              "      <th>6359</th>\n",
              "      <td>45</td>\n",
              "      <td>F</td>\n",
              "      <td>TARUMA</td>\n",
              "      <td>Recuperado</td>\n",
              "      <td>05/06/2020</td>\n",
              "      <td>TESTE RÁPIDO - ANTICORPO</td>\n",
              "    </tr>\n",
              "  </tbody>\n",
              "</table>\n",
              "<p>6360 rows × 6 columns</p>\n",
              "</div>"
            ],
            "text/plain": [
              "      idade sexo  ... dt_notificacao                tipo_teste\n",
              "0        25    F  ...     20/03/2020                    RT-PCR\n",
              "1        41    F  ...     27/03/2020                    RT-PCR\n",
              "2        37    M  ...     27/04/2020  TESTE RÁPIDO - ANTICORPO\n",
              "3        44    M  ...     27/04/2020  TESTE RÁPIDO - ANTICORPO\n",
              "4        27    F  ...     24/04/2020  TESTE RÁPIDO - ANTICORPO\n",
              "...     ...  ...  ...            ...                       ...\n",
              "6355     14    F  ...     25/06/2020   TESTE RÁPIDO - ANTÍGENO\n",
              "6356      5    F  ...     18/06/2020   TESTE RÁPIDO - ANTÍGENO\n",
              "6357     70    F  ...     02/06/2020   TESTE RÁPIDO - ANTÍGENO\n",
              "6358     68    M  ...     01/06/2020                    RT-PCR\n",
              "6359     45    F  ...     05/06/2020  TESTE RÁPIDO - ANTICORPO\n",
              "\n",
              "[6360 rows x 6 columns]"
            ]
          },
          "metadata": {
            "tags": []
          },
          "execution_count": 9
        }
      ]
    },
    {
      "cell_type": "code",
      "metadata": {
        "id": "I8x33BwkLe8R",
        "colab_type": "code",
        "colab": {
          "base_uri": "https://localhost:8080/",
          "height": 142
        },
        "outputId": "7c5fc522-8ddf-42c4-c7dc-a0fd5c82df18"
      },
      "source": [
        "df_dataset.groupby(['sexo']).count()"
      ],
      "execution_count": 10,
      "outputs": [
        {
          "output_type": "execute_result",
          "data": {
            "text/html": [
              "<div>\n",
              "<style scoped>\n",
              "    .dataframe tbody tr th:only-of-type {\n",
              "        vertical-align: middle;\n",
              "    }\n",
              "\n",
              "    .dataframe tbody tr th {\n",
              "        vertical-align: top;\n",
              "    }\n",
              "\n",
              "    .dataframe thead th {\n",
              "        text-align: right;\n",
              "    }\n",
              "</style>\n",
              "<table border=\"1\" class=\"dataframe\">\n",
              "  <thead>\n",
              "    <tr style=\"text-align: right;\">\n",
              "      <th></th>\n",
              "      <th>idade</th>\n",
              "      <th>bairro</th>\n",
              "      <th>conclusao</th>\n",
              "      <th>dt_notificacao</th>\n",
              "      <th>tipo_teste</th>\n",
              "    </tr>\n",
              "    <tr>\n",
              "      <th>sexo</th>\n",
              "      <th></th>\n",
              "      <th></th>\n",
              "      <th></th>\n",
              "      <th></th>\n",
              "      <th></th>\n",
              "    </tr>\n",
              "  </thead>\n",
              "  <tbody>\n",
              "    <tr>\n",
              "      <th>F</th>\n",
              "      <td>3605</td>\n",
              "      <td>3605</td>\n",
              "      <td>3605</td>\n",
              "      <td>3605</td>\n",
              "      <td>3605</td>\n",
              "    </tr>\n",
              "    <tr>\n",
              "      <th>M</th>\n",
              "      <td>2755</td>\n",
              "      <td>2755</td>\n",
              "      <td>2755</td>\n",
              "      <td>2755</td>\n",
              "      <td>2755</td>\n",
              "    </tr>\n",
              "  </tbody>\n",
              "</table>\n",
              "</div>"
            ],
            "text/plain": [
              "      idade  bairro  conclusao  dt_notificacao  tipo_teste\n",
              "sexo                                                      \n",
              "F      3605    3605       3605            3605        3605\n",
              "M      2755    2755       2755            2755        2755"
            ]
          },
          "metadata": {
            "tags": []
          },
          "execution_count": 10
        }
      ]
    },
    {
      "cell_type": "code",
      "metadata": {
        "id": "dxnFtqtYMOrN",
        "colab_type": "code",
        "colab": {
          "base_uri": "https://localhost:8080/",
          "height": 68
        },
        "outputId": "de7584f7-8d89-479e-a4b4-5be180bc9eef"
      },
      "source": [
        "df_dataset.sexo.value_counts()"
      ],
      "execution_count": 11,
      "outputs": [
        {
          "output_type": "execute_result",
          "data": {
            "text/plain": [
              "F    3605\n",
              "M    2755\n",
              "Name: sexo, dtype: int64"
            ]
          },
          "metadata": {
            "tags": []
          },
          "execution_count": 11
        }
      ]
    },
    {
      "cell_type": "code",
      "metadata": {
        "id": "q84bAGK0L3BI",
        "colab_type": "code",
        "colab": {
          "base_uri": "https://localhost:8080/",
          "height": 248
        },
        "outputId": "28709d48-c7e3-448c-cbab-cca23675c184"
      },
      "source": [
        "# Pie chart, where the slices will be ordered and plotted counter-clockwise:\n",
        "labels = 'F', 'M'\n",
        "\n",
        "sizes = df_dataset.sexo.value_counts()\n",
        "\n",
        "explode = (0, 0.1, 0, 0)  # only \"explode\" the 2nd slice (i.e. 'Hogs')\n",
        "\n",
        "fig1, ax1 = plt.subplots()\n",
        "ax1.pie(sizes, labels=labels, autopct='%1.1f%%',\n",
        "        shadow=True, startangle=90)\n",
        "ax1.axis('equal')  # Equal aspect ratio ensures that pie is drawn as a circle.\n",
        "\n",
        "plt.show()"
      ],
      "execution_count": 12,
      "outputs": [
        {
          "output_type": "display_data",
          "data": {
            "image/png": "[encoded data removed]",
            "text/plain": [
              "<Figure size 432x288 with 1 Axes>"
            ]
          },
          "metadata": {
            "tags": []
          }
        }
      ]
    },
    {
      "cell_type": "code",
      "metadata": {
        "id": "8jamYUxfKATx",
        "colab_type": "code",
        "colab": {
          "base_uri": "https://localhost:8080/",
          "height": 282
        },
        "outputId": "7edc4bbb-ec91-4089-b73f-bade112a3e86"
      },
      "source": [
        "x = df_dataset.idade.values\n",
        "plt.hist(x, density=False, bins=100)\n",
        "plt.ylabel('quantidade de pessoas')\n",
        "plt.xlabel('idade')\n",
        "\n",
        "plt.show()"
      ],
      "execution_count": 23,
      "outputs": [
        {
          "output_type": "display_data",
          "data": {
            "image/png": "[encoded data removed]",
            "text/plain": [
              "<Figure size 432x288 with 1 Axes>"
            ]
          },
          "metadata": {
            "tags": []
          }
        }
      ]
    },
    {
      "cell_type": "code",
      "metadata": {
        "id": "WN4EBBh9wv7g",
        "colab_type": "code",
        "colab": {
          "base_uri": "https://localhost:8080/",
          "height": 282
        },
        "outputId": "8861594a-2212-4438-cef1-e264a6759e9a"
      },
      "source": [
        "#1.Construa um histograma denotando a quantidade de casos nos 10 bairros em que houve mais casos registrados. \n",
        "#Inclua todos os bairros remanescentes em uma categoria denominada “Outros.” Denote as informações de maneira percentual;\n",
        "\n",
        "x = df_dataset.bairro.values\n",
        "plt.hist(x, density=False, bins=10)\n",
        "plt.ylabel('quantidade de casos')\n",
        "plt.xlabel('bairros')\n",
        "\n",
        "plt.show()\n"
      ],
      "execution_count": 14,
      "outputs": [
        {
          "output_type": "display_data",
          "data": {
            "image/png": "[encoded data removed]",
            "text/plain": [
              "<Figure size 432x288 with 1 Axes>"
            ]
          },
          "metadata": {
            "tags": []
          }
        }
      ]
    },
    {
      "cell_type": "code",
      "metadata": {
        "id": "2-0MSe8AzO5O",
        "colab_type": "code",
        "colab": {
          "base_uri": "https://localhost:8080/",
          "height": 450
        },
        "outputId": "6befa3b7-3ec5-4607-a3e5-efef3faeabce"
      },
      "source": [
        "df_dataset.groupby(['bairro'], sort=False).count()"
      ],
      "execution_count": 15,
      "outputs": [
        {
          "output_type": "execute_result",
          "data": {
            "text/html": [
              "<div>\n",
              "<style scoped>\n",
              "    .dataframe tbody tr th:only-of-type {\n",
              "        vertical-align: middle;\n",
              "    }\n",
              "\n",
              "    .dataframe tbody tr th {\n",
              "        vertical-align: top;\n",
              "    }\n",
              "\n",
              "    .dataframe thead th {\n",
              "        text-align: right;\n",
              "    }\n",
              "</style>\n",
              "<table border=\"1\" class=\"dataframe\">\n",
              "  <thead>\n",
              "    <tr style=\"text-align: right;\">\n",
              "      <th></th>\n",
              "      <th>idade</th>\n",
              "      <th>sexo</th>\n",
              "      <th>conclusao</th>\n",
              "      <th>dt_notificacao</th>\n",
              "      <th>tipo_teste</th>\n",
              "    </tr>\n",
              "    <tr>\n",
              "      <th>bairro</th>\n",
              "      <th></th>\n",
              "      <th></th>\n",
              "      <th></th>\n",
              "      <th></th>\n",
              "      <th></th>\n",
              "    </tr>\n",
              "  </thead>\n",
              "  <tbody>\n",
              "    <tr>\n",
              "      <th>ADRIANOPOLIS</th>\n",
              "      <td>125</td>\n",
              "      <td>125</td>\n",
              "      <td>125</td>\n",
              "      <td>125</td>\n",
              "      <td>125</td>\n",
              "    </tr>\n",
              "    <tr>\n",
              "      <th>BETANIA</th>\n",
              "      <td>52</td>\n",
              "      <td>52</td>\n",
              "      <td>52</td>\n",
              "      <td>52</td>\n",
              "      <td>52</td>\n",
              "    </tr>\n",
              "    <tr>\n",
              "      <th>CIDADE NOVA</th>\n",
              "      <td>296</td>\n",
              "      <td>296</td>\n",
              "      <td>296</td>\n",
              "      <td>296</td>\n",
              "      <td>296</td>\n",
              "    </tr>\n",
              "    <tr>\n",
              "      <th>SAO JORGE</th>\n",
              "      <td>91</td>\n",
              "      <td>91</td>\n",
              "      <td>91</td>\n",
              "      <td>91</td>\n",
              "      <td>91</td>\n",
              "    </tr>\n",
              "    <tr>\n",
              "      <th>COLONIA TERRA NOVA</th>\n",
              "      <td>76</td>\n",
              "      <td>76</td>\n",
              "      <td>76</td>\n",
              "      <td>76</td>\n",
              "      <td>76</td>\n",
              "    </tr>\n",
              "    <tr>\n",
              "      <th>...</th>\n",
              "      <td>...</td>\n",
              "      <td>...</td>\n",
              "      <td>...</td>\n",
              "      <td>...</td>\n",
              "      <td>...</td>\n",
              "    </tr>\n",
              "    <tr>\n",
              "      <th>PAQUE 10</th>\n",
              "      <td>1</td>\n",
              "      <td>1</td>\n",
              "      <td>1</td>\n",
              "      <td>1</td>\n",
              "      <td>1</td>\n",
              "    </tr>\n",
              "    <tr>\n",
              "      <th>RIO TARUMA-MIRIM</th>\n",
              "      <td>1</td>\n",
              "      <td>1</td>\n",
              "      <td>1</td>\n",
              "      <td>1</td>\n",
              "      <td>1</td>\n",
              "    </tr>\n",
              "    <tr>\n",
              "      <th>RIO NEGRO</th>\n",
              "      <td>3</td>\n",
              "      <td>3</td>\n",
              "      <td>3</td>\n",
              "      <td>3</td>\n",
              "      <td>3</td>\n",
              "    </tr>\n",
              "    <tr>\n",
              "      <th>VAL PARAISO</th>\n",
              "      <td>1</td>\n",
              "      <td>1</td>\n",
              "      <td>1</td>\n",
              "      <td>1</td>\n",
              "      <td>1</td>\n",
              "    </tr>\n",
              "    <tr>\n",
              "      <th>NOSSA SENHORA APARECIDA</th>\n",
              "      <td>2</td>\n",
              "      <td>2</td>\n",
              "      <td>2</td>\n",
              "      <td>2</td>\n",
              "      <td>2</td>\n",
              "    </tr>\n",
              "  </tbody>\n",
              "</table>\n",
              "<p>535 rows × 5 columns</p>\n",
              "</div>"
            ],
            "text/plain": [
              "                         idade  sexo  conclusao  dt_notificacao  tipo_teste\n",
              "bairro                                                                     \n",
              "ADRIANOPOLIS               125   125        125             125         125\n",
              "BETANIA                     52    52         52              52          52\n",
              "CIDADE NOVA                296   296        296             296         296\n",
              "SAO JORGE                   91    91         91              91          91\n",
              "COLONIA TERRA NOVA          76    76         76              76          76\n",
              "...                        ...   ...        ...             ...         ...\n",
              "PAQUE 10                     1     1          1               1           1\n",
              "RIO TARUMA-MIRIM             1     1          1               1           1\n",
              "RIO NEGRO                    3     3          3               3           3\n",
              "VAL PARAISO                  1     1          1               1           1\n",
              "NOSSA SENHORA APARECIDA      2     2          2               2           2\n",
              "\n",
              "[535 rows x 5 columns]"
            ]
          },
          "metadata": {
            "tags": []
          },
          "execution_count": 15
        }
      ]
    },
    {
      "cell_type": "code",
      "metadata": {
        "id": "S-PD1oxCw1Ia",
        "colab_type": "code",
        "colab": {
          "base_uri": "https://localhost:8080/",
          "height": 265
        },
        "outputId": "d684d46f-24b3-46fb-efae-381076f3aa7e"
      },
      "source": [
        "#2. Denote, por sexo, o boxplot da idade dos casos confirmados. Há outliers?\n",
        "x = df_dataset.idade.values\n",
        "df_dataset.groupby(['sexo']).count()\n",
        "plt.boxplot(x)\n",
        "\n",
        "plt.show()\n"
      ],
      "execution_count": 22,
      "outputs": [
        {
          "output_type": "display_data",
          "data": {
            "image/png": "[encoded data removed]",
            "text/plain": [
              "<Figure size 432x288 with 1 Axes>"
            ]
          },
          "metadata": {
            "tags": []
          }
        }
      ]
    },
    {
      "cell_type": "code",
      "metadata": {
        "id": "SRtOqFZBy_XV",
        "colab_type": "code",
        "colab": {
          "base_uri": "https://localhost:8080/",
          "height": 282
        },
        "outputId": "0c3c4c02-5c9b-4bd8-9e5c-48faf4922c66"
      },
      "source": [
        "#3. Denote em um gráfico de barras o número de novos casos por dia, considerando os 10 últimos dias na base de dados.\n",
        "dates = df_dataset\n",
        "\n",
        "#datas transformadas pro formato Ano-Mês-Dia\n",
        "dates['dt_notificacao'] = pd.to_datetime(dates['dt_notificacao'], dayfirst=True)\n",
        "\n",
        "#datas ordenadas\n",
        "dates = dates.sort_values(by='dt_notificacao')\n",
        "\n",
        "#obetenção do número de casos\n",
        "dates_cases = dates.groupby(['dt_notificacao']).size()\n",
        "\n",
        "n = dates_cases.size\n",
        "n = n-10\n",
        "\n",
        "cases = dates_cases[n:].values\n",
        "\n",
        "casos = []\n",
        "\n",
        "for i in cases:\n",
        "  casos.append(i)\n",
        "\n",
        "#salvando as 10 datas\n",
        "dates = dates.groupby(['dt_notificacao']).head(1)\n",
        "date = dates.dt_notificacao.values\n",
        "\n",
        "\n",
        "datas = []\n",
        "\n",
        "for i in range(len(date)-10,len(date)):\n",
        "  datas.append(date[i])\n",
        "\n",
        "#Transformando as datas para o formato dia/mês/ano\n",
        "for i in range(0,len(datas)):\n",
        "  data = pd.to_datetime(str(datas[i])) \n",
        "  datas[i] = data.strftime('%d/%m/%Y')\n",
        "\n",
        "#Plotando o gráfico\n",
        "plt.barh(datas, casos)\n",
        "\n",
        "plt.ylabel('Data da Notificação')\n",
        "plt.xlabel('Casos')\n",
        "plt.show()"
      ],
      "execution_count": 17,
      "outputs": [
        {
          "output_type": "display_data",
          "data": {
            "image/png": "[encoded data removed]",
            "text/plain": [
              "<Figure size 432x288 with 1 Axes>"
            ]
          },
          "metadata": {
            "tags": []
          }
        }
      ]
    },
    {
      "cell_type": "code",
      "metadata": {
        "id": "GjEeqru68zVO",
        "colab_type": "code",
        "colab": {
          "base_uri": "https://localhost:8080/",
          "height": 282
        },
        "outputId": "c678bbf0-bee7-4d76-8954-9d0ce4c9d38f"
      },
      "source": [
        "#4. Repita o gráfico anterior considerando o número de casos recuperado;\n",
        "\n",
        "dates = df_dataset\n",
        "\n",
        "#datas transformadas pro formato Ano-Mês-Dia\n",
        "dates['dt_notificacao'] = pd.to_datetime(dates['dt_notificacao'], dayfirst=True)\n",
        "\n",
        "#datas ordenadas\n",
        "dates = dates.sort_values(by='dt_notificacao')\n",
        "\n",
        "#obetenção do número de casos\n",
        "dates_cases = dates.groupby(['dt_notificacao','conclusao']).size()\n",
        "\n",
        "n = dates_cases.size\n",
        "n = n-10\n",
        "\n",
        "cases = dates_cases[n:].values\n",
        "\n",
        "casos = []\n",
        "\n",
        "for i in cases:\n",
        "  casos.append(i)\n",
        "\n",
        "\n",
        "#obtendo status da recuperacao\n",
        "conclusao = []\n",
        "for i in dates.conclusao:\n",
        "  conclusao.append(i)\n",
        "\n",
        "tam = len(conclusao)-10\n",
        "conclusao = conclusao[tam:]\n",
        "\n",
        "#obter quantidade de recuperados\n",
        "df_casos_recuperados = dates.groupby(['dt_notificacao','conclusao']).size()\n",
        "df_casos_recuperados\n",
        "\n",
        "qtde_conclusoes = []\n",
        "\n",
        "for i in df_casos_recuperados:\n",
        "  qtde_conclusoes.append(i)\n",
        "\n",
        "qtde_conclusoes = qtde_conclusoes[len(qtde_conclusoes)-10:]\n",
        "\n",
        "#salvando as 10 datas\n",
        "dates = dates.groupby(['dt_notificacao','conclusao']).head(1)\n",
        "date = dates.dt_notificacao.values\n",
        "\n",
        "#salvando as 10 datas\n",
        "dates = dates.groupby(['dt_notificacao']).head(1)\n",
        "date = dates.dt_notificacao.values\n",
        "\n",
        "\n",
        "datas = []\n",
        "\n",
        "for i in range(len(date)-10,len(date)):\n",
        "  datas.append(date[i])\n",
        "\n",
        "#Transformando as datas para o formato dia/mês/ano\n",
        "for i in range(0,len(datas)):\n",
        "  data = pd.to_datetime(str(datas[i])) \n",
        "  datas[i] = data.strftime('%d/%m/%Y')\n",
        "\n",
        "df_index_conclusoes = dates.conclusao\n",
        "\n",
        "index_casos_recuperados = []\n",
        "\n",
        "for i in df_index_conclusoes:\n",
        "  index_casos_recuperados.append(i)\n",
        "\n",
        "tam2 = len(index_casos_recuperados)-10\n",
        "index_casos_recuperados = index_casos_recuperados[tam2:]\n",
        "\n",
        "label_recuperado = []\n",
        "for i in range(0,10):\n",
        "  if (index_casos_recuperados[i]==\"Recuperado\"):\n",
        "    label_recuperado.append(qtde_conclusoes[i])\n",
        "  else:\n",
        "    label_recuperado.append(0)\n",
        "\n",
        "#Plotando o gráfico\n",
        "plt.barh(datas, label_recuperado)\n",
        "\n",
        "plt.ylabel('Notificação do Caso')\n",
        "plt.xlabel('Casos Recuperados')\n",
        "plt.show()\n",
        "\n",
        "\n",
        "\n"
      ],
      "execution_count": 18,
      "outputs": [
        {
          "output_type": "display_data",
          "data": {
            "image/png": "[encoded data removed]",
            "text/plain": [
              "<Figure size 432x288 with 1 Axes>"
            ]
          },
          "metadata": {
            "tags": []
          }
        }
      ]
    },
    {
      "cell_type": "code",
      "metadata": {
        "id": "0ia50QTP80Xu",
        "colab_type": "code",
        "colab": {
          "base_uri": "https://localhost:8080/",
          "height": 299
        },
        "outputId": "d6ff22ff-5fa0-4f2d-b416-2f5018739c5a"
      },
      "source": [
        "#5. Construa um histograma que denote a quantidade percentual de casos por grupo etário, \n",
        "#considerando que cada grupo contempla uma década (0 a 10 anos, 11 a 20 anos, etc.);\n",
        "\n",
        "x = df_dataset.idade.values\n",
        "plt.hist(x, density=False, bins=10)\n",
        "plt.ylabel('quantidade de casos')\n",
        "plt.xlabel('idades')\n",
        "#plt.xticks()"
      ],
      "execution_count": 19,
      "outputs": [
        {
          "output_type": "execute_result",
          "data": {
            "text/plain": [
              "Text(0.5, 0, 'idades')"
            ]
          },
          "metadata": {
            "tags": []
          },
          "execution_count": 19
        },
        {
          "output_type": "display_data",
          "data": {
            "image/png": "[encoded data removed]",
            "text/plain": [
              "<Figure size 432x288 with 1 Axes>"
            ]
          },
          "metadata": {
            "tags": []
          }
        }
      ]
    },
    {
      "cell_type": "code",
      "metadata": {
        "id": "R8J23tAz_JHi",
        "colab_type": "code",
        "colab": {
          "base_uri": "https://localhost:8080/",
          "height": 391
        },
        "outputId": "ee01f48d-6ca7-44df-b264-ff7e964a24f9"
      },
      "source": [
        "#6. Elabore um gráfico que mostra o cumulativo de casos notificados ao longo do tempo;\n",
        "\n",
        "#ordenar as datas\n",
        "dates = df_dataset\n",
        "\n",
        "#datas transformadas pro formato Ano-Mês-Dia\n",
        "dates['dt_notificacao'] = pd.to_datetime(dates['dt_notificacao'], dayfirst=True)\n",
        "\n",
        "#datas ordenadas\n",
        "dates = dates.sort_values(by='dt_notificacao')\n",
        "\n",
        "date = dates.dt_notificacao.values\n",
        "\n",
        "# casos\n",
        "datas = []\n",
        "\n",
        "\n",
        "for i in range(0,len(date)):\n",
        "  datas.append(date[i])\n",
        "\n",
        "casos = []\n",
        "for i in range(0,len(datas)):\n",
        "  casos.append(1)\n",
        "\n",
        "for i in range(0,len(datas)):\n",
        "  if (i+1<len(datas)):\n",
        "    casos[i+1] = casos[i] + casos[i+1]\n",
        "\n",
        "fig, ax = plt.subplots(figsize=(10,6))\n",
        "\n",
        "ax.plot(datas,casos,label=\"casos\")\n",
        "ax.set_xlabel('Tempo (Dias)')\n",
        "ax.set_ylabel('Quantidade de Casos')\n",
        "\n",
        "plt.show()"
      ],
      "execution_count": 20,
      "outputs": [
        {
          "output_type": "display_data",
          "data": {
            "image/png": "[encoded data removed]",
            "text/plain": [
              "<Figure size 720x432 with 1 Axes>"
            ]
          },
          "metadata": {
            "tags": []
          }
        }
      ]
    },
    {
      "cell_type": "code",
      "metadata": {
        "id": "vDXCnArq_KzM",
        "colab_type": "code",
        "colab": {
          "base_uri": "https://localhost:8080/",
          "height": 282
        },
        "outputId": "d4afb548-c440-4c16-95dc-a0969e0d7d09"
      },
      "source": [
        "#7. Faça um gráfico do tipo scatterplot que denote a idade versus o número total de casos registrado\n",
        "#para aquela idade. Aproveite o processamento efetuado para o cálculo da correlação. É possível\n",
        "#observar alguma tendência?\n",
        "\n",
        "data = df_dataset.groupby(['idade']).size()\n",
        "y = data.index\n",
        "x = data.values\n",
        "\n",
        "plt.scatter(x,y)\n",
        "plt.ylabel('Idade')\n",
        "plt.xlabel('Total de casos')\n",
        "plt.show()"
      ],
      "execution_count": 21,
      "outputs": [
        {
          "output_type": "display_data",
          "data": {
            "image/png": "[encoded data removed]",
            "text/plain": [
              "<Figure size 432x288 with 1 Axes>"
            ]
          },
          "metadata": {
            "tags": []
          }
        }
      ]
    }
  ]
}