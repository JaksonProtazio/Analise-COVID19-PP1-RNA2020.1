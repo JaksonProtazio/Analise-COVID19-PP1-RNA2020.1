{
  "nbformat": 4,
  "nbformat_minor": 0,
  "metadata": {
    "colab": {
      "name": "Visao-geral-dos-casos-confirmados.ipynb",
      "provenance": []
    },
    "kernelspec": {
      "name": "python3",
      "display_name": "Python 3"
    },
    "accelerator": "GPU"
  },
  "cells": [
    {
      "cell_type": "markdown",
      "metadata": {
        "id": "sCxBrhy9sWtB",
        "colab_type": "text"
      },
      "source": [
        "Montando o google drive para gerenciamento de arquivos"
      ]
    },
    {
      "cell_type": "code",
      "metadata": {
        "id": "ETvB7fHnqGvb",
        "colab_type": "code",
        "colab": {}
      },
      "source": [
        "from google.colab import drive\n",
        "drive.mount('/gdrive/')"
      ],
      "execution_count": null,
      "outputs": []
    },
    {
      "cell_type": "markdown",
      "metadata": {
        "id": "ZAub9baxsQHB",
        "colab_type": "text"
      },
      "source": [
        "Leitura do conjunto de dados direto do site oficial"
      ]
    },
    {
      "cell_type": "code",
      "metadata": {
        "id": "AZFw257_nWdU",
        "colab_type": "code",
        "colab": {
          "base_uri": "https://localhost:8080/",
          "height": 34
        },
        "outputId": "2659925f-b81a-41e1-e1fa-771fe9d4d407"
      },
      "source": [
        "import pandas as pd\n",
        "\n",
        "#adicionando permissoes SSL para acessar o dataset\n",
        "import os, ssl\n",
        "\n",
        "if (not os.environ.get('PYTHONHTTPSVERIFY', '') and getattr(ssl, '_create_unverified_context', None)):\n",
        "    ssl._create_default_https_context = ssl._create_unverified_context\n",
        "\n",
        "#localizacao do conjunto de dados\n",
        "#url = 'https://covid19.manaus.am.gov.br/wp-content/uploads/Manaus.csv'\n",
        "url = 'dataset/Visao_geral_ds_casos_confirmados.ipynb'\n",
        "\n",
        "#leitura do conjunto de dados\n",
        "df = pd.read_csv(url, encoding=\"ISO-8859-1\", sep=';', error_bad_lines=False, low_memory=False)\n",
        "\n",
        "print(df.shape)"
      ],
      "execution_count": null,
      "outputs": [
        {
          "output_type": "stream",
          "text": [
            "(107221, 36)\n"
          ],
          "name": "stdout"
        }
      ]
    },
    {
      "cell_type": "markdown",
      "metadata": {
        "id": "rS5YlgCbr2iJ",
        "colab_type": "text"
      },
      "source": [
        "Criando um dataset considerando apenas os casos confirmados"
      ]
    },
    {
      "cell_type": "code",
      "metadata": {
        "id": "nEyF3UllqghY",
        "colab_type": "code",
        "colab": {
          "base_uri": "https://localhost:8080/",
          "height": 34
        },
        "outputId": "fb205cad-d126-4321-ad8e-51ede19b826f"
      },
      "source": [
        "#criando um novo dataset\n",
        "dataframe = df[df['_classificacao'].values == 'Confirmado']\n",
        "\n",
        "#salvando o dataset\n",
        "dataframe.to_csv(r'/gdrive/My Drive/Colab Notebooks/covid_manaus.csv', index=False)\n",
        "\n",
        "print(dataframe.shape)"
      ],
      "execution_count": null,
      "outputs": [
        {
          "output_type": "stream",
          "text": [
            "(36671, 37)\n"
          ],
          "name": "stdout"
        }
      ]
    },
    {
      "cell_type": "markdown",
      "metadata": {
        "id": "XzKZ9-DLs6Ch",
        "colab_type": "text"
      },
      "source": [
        "1. Quantos atributos descrevem cada exemplo? Quais são eles?"
      ]
    },
    {
      "cell_type": "code",
      "metadata": {
        "id": "eK7hQKERs8iJ",
        "colab_type": "code",
        "colab": {
          "base_uri": "https://localhost:8080/",
          "height": 71
        },
        "outputId": "1f346a8d-7e46-4dca-ec2e-e5f82309b8fc"
      },
      "source": [
        "\n",
        "url = 'dataset/Visao_geral_ds_casos_confirmados.ipynb'\n",
        "\n",
        "df = pd.read_csv(url, encoding=\"ISO-8859-1\", low_memory=False)\n",
        "\n",
        "print('{0} atributos'.format(df.shape[1]))\n",
        "\n",
        "print('{0}'.format([column for column in df.columns]))\n"
      ],
      "execution_count": null,
      "outputs": [
        {
          "output_type": "stream",
          "text": [
            "37 atributos\n",
            "['Unnamed: 0', '_idade', '_faixa etÃ\\x83Â¡ria', '_sexo', '_bairro', '_classificacao', '_comorb_renal', '_comorb_diabetes', '_comorb_imuno', '_comorb_cardio', '_conclusao', '_dt_notificacao', '_taxa', '_dt_evolucao', '_raca', '_dt_sintomas', '_criterio', '_tipo_teste', '_sintoma_garganta', '_sintoma_dispneia', '_sintoma_febre', '_sintoma_tosse', '_sintoma_outros', '_etnia', '_profiss_saude', '_srag', '_se_notificacao', '_distrito', '_bairro_mapa', '_comorb_respiratoria', '_comorb_cromossomica', '_comorb_hepatica', '_comorb_neurologica', '_comorb_hemato', '_comorb_obessidade', '_origem', '_evoluÃ\\x83Â§Ã\\x83Â£o']\n"
          ],
          "name": "stdout"
        }
      ]
    },
    {
      "cell_type": "markdown",
      "metadata": {
        "id": "x29NYDCvucLm",
        "colab_type": "text"
      },
      "source": [
        "2. Quantos casos confirmados há em Manaus, cumulativamente?"
      ]
    },
    {
      "cell_type": "code",
      "metadata": {
        "id": "lAt5-Ie4ueML",
        "colab_type": "code",
        "colab": {
          "base_uri": "https://localhost:8080/",
          "height": 51
        },
        "outputId": "306a9c8e-c79b-43c4-c906-78e5885d49c9"
      },
      "source": [
        "\n",
        "url = 'dataset/Visao_geral_ds_casos_confirmados.ipynb'\n",
        "\n",
        "df = pd.read_csv(url, encoding=\"ISO-8859-1\", low_memory=False)\n",
        "\n",
        "quantidade = df['_classificacao'].count()\n",
        "\n",
        "print('{0} casos confirmados'.format(quantidade))\n",
        "\n",
        "#outra alternativa \n",
        "#assumindo que todos os registrados possuem casos confirmados\n",
        "\n",
        "print('{0} casos confirmados'.format(df.shape[0]))\n"
      ],
      "execution_count": null,
      "outputs": [
        {
          "output_type": "stream",
          "text": [
            "36671 casos confirmados\n",
            "36671 casos confirmados\n"
          ],
          "name": "stdout"
        }
      ]
    },
    {
      "cell_type": "markdown",
      "metadata": {
        "id": "6wk2pbMkwxsW",
        "colab_type": "text"
      },
      "source": [
        "3. A qual período de tempo a base de dados se refere, isto é, qual o registro mais antigo e qual o mais recente? Leve em conta a data de notificação."
      ]
    },
    {
      "cell_type": "code",
      "metadata": {
        "id": "2nxCart2w01R",
        "colab_type": "code",
        "colab": {
          "base_uri": "https://localhost:8080/",
          "height": 51
        },
        "outputId": "f8deae1a-979b-407f-9c87-9d91d11c8414"
      },
      "source": [
        "url = 'dataset/Visao_geral_ds_casos_confirmados.ipynb'\n",
        "\n",
        "df = pd.read_csv(url, encoding=\"ISO-8859-1\", low_memory=False)\n",
        "\n",
        "print('O registro mais antigo: {0}'.format(df['_dt_notificacao'].dropna(axis=0).min()))\n",
        "print('O registro mais recente: {0}'.format(df['_dt_notificacao'].dropna(axis=0).max()))\n"
      ],
      "execution_count": null,
      "outputs": [
        {
          "output_type": "stream",
          "text": [
            "O registro mais antigo: 01/04/2020\n",
            "O registro mais recente: 31/07/2020\n"
          ],
          "name": "stdout"
        }
      ]
    }
  ]
}