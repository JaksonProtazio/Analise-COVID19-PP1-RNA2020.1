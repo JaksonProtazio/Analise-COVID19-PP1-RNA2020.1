{
  "nbformat": 4,
  "nbformat_minor": 0,
  "metadata": {
    "colab": {
      "name": "Notebook-PP1-RNA-2020-1.ipynb",
      "provenance": []
    },
    "kernelspec": {
      "name": "python3",
      "display_name": "Python 3"
    }
  },
  "cells": [
    {
      "cell_type": "markdown",
      "metadata": {
        "id": "lF-mfi8We2FD",
        "colab_type": "text"
      },
      "source": [
        "Leitura do conjunto de dados direto do site oficial"
      ]
    },
    {
      "cell_type": "code",
      "metadata": {
        "id": "ZNuHsl1qYkkU",
        "colab_type": "code",
        "colab": {
          "base_uri": "https://localhost:8080/",
          "height": 185
        },
        "outputId": "1e72948c-ca09-48c4-d353-5de18f3cc9c6"
      },
      "source": [
        "import pandas as pd\n",
        "\n",
        "#adicionando permissoes SSL para acessar o dataset\n",
        "import os, ssl\n",
        "\n",
        "if (not os.environ.get('PYTHONHTTPSVERIFY', '') and getattr(ssl, '_create_unverified_context', None)):\n",
        "    ssl._create_default_https_context = ssl._create_unverified_context\n",
        "\n",
        "#localizacao do conjunto de dados\n",
        "url = 'https://covid19.manaus.am.gov.br/wp-content/uploads/Manaus.csv'\n",
        "\n",
        "#leitura do conjunto de dados\n",
        "df = pd.read_csv(url, encoding=\"ISO-8859-1\", sep=';', error_bad_lines=False, low_memory=False)\n",
        "\n",
        "#exemplo de registro\n",
        "df.sample()"
      ],
      "execution_count": 18,
      "outputs": [
        {
          "output_type": "stream",
          "text": [
            "/usr/local/lib/python3.6/dist-packages/IPython/core/interactiveshell.py:2718: DtypeWarning: Columns (12,15,22,24,30,31,32,33,35) have mixed types.Specify dtype option on import or set low_memory=False.\n",
            "  interactivity=interactivity, compiler=compiler, result=result)\n"
          ],
          "name": "stderr"
        },
        {
          "output_type": "execute_result",
          "data": {
            "text/html": [
              "<div>\n",
              "<style scoped>\n",
              "    .dataframe tbody tr th:only-of-type {\n",
              "        vertical-align: middle;\n",
              "    }\n",
              "\n",
              "    .dataframe tbody tr th {\n",
              "        vertical-align: top;\n",
              "    }\n",
              "\n",
              "    .dataframe thead th {\n",
              "        text-align: right;\n",
              "    }\n",
              "</style>\n",
              "<table border=\"1\" class=\"dataframe\">\n",
              "  <thead>\n",
              "    <tr style=\"text-align: right;\">\n",
              "      <th></th>\n",
              "      <th>_idade</th>\n",
              "      <th>_faixa etária</th>\n",
              "      <th>_sexo</th>\n",
              "      <th>_bairro</th>\n",
              "      <th>_classificacao</th>\n",
              "      <th>_comorb_renal</th>\n",
              "      <th>_comorb_diabetes</th>\n",
              "      <th>_comorb_imuno</th>\n",
              "      <th>_comorb_cardio</th>\n",
              "      <th>_conclusao</th>\n",
              "      <th>_dt_notificacao</th>\n",
              "      <th>_taxa</th>\n",
              "      <th>_dt_evolucao</th>\n",
              "      <th>_raca</th>\n",
              "      <th>_dt_sintomas</th>\n",
              "      <th>_criterio</th>\n",
              "      <th>_tipo_teste</th>\n",
              "      <th>_sintoma_garganta</th>\n",
              "      <th>_sintoma_dispneia</th>\n",
              "      <th>_sintoma_febre</th>\n",
              "      <th>_sintoma_tosse</th>\n",
              "      <th>_sintoma_outros</th>\n",
              "      <th>_etnia</th>\n",
              "      <th>_profiss_saude</th>\n",
              "      <th>_srag</th>\n",
              "      <th>_se_notificacao</th>\n",
              "      <th>_distrito</th>\n",
              "      <th>_bairro_mapa</th>\n",
              "      <th>_comorb_respiratoria</th>\n",
              "      <th>_comorb_cromossomica</th>\n",
              "      <th>_comorb_hepatica</th>\n",
              "      <th>_comorb_neurologica</th>\n",
              "      <th>_comorb_hemato</th>\n",
              "      <th>_comorb_obessidade</th>\n",
              "      <th>_origem</th>\n",
              "      <th>_evolução</th>\n",
              "    </tr>\n",
              "  </thead>\n",
              "  <tbody>\n",
              "    <tr>\n",
              "      <th>48298</th>\n",
              "      <td>36.0</td>\n",
              "      <td>30a - 39a</td>\n",
              "      <td>F</td>\n",
              "      <td>DOM PEDRO 2</td>\n",
              "      <td>Confirmado</td>\n",
              "      <td>Não</td>\n",
              "      <td>Não</td>\n",
              "      <td>Não</td>\n",
              "      <td>Não</td>\n",
              "      <td>NaN</td>\n",
              "      <td>10/07/2020</td>\n",
              "      <td>0,483629153</td>\n",
              "      <td>NaN</td>\n",
              "      <td>Parda</td>\n",
              "      <td>05/04/2020</td>\n",
              "      <td>NaN</td>\n",
              "      <td>TESTE RÁPIDO - ANTICORPO</td>\n",
              "      <td>Sim</td>\n",
              "      <td>Não</td>\n",
              "      <td>Sim</td>\n",
              "      <td>Não</td>\n",
              "      <td>Não</td>\n",
              "      <td>NaN</td>\n",
              "      <td>Não</td>\n",
              "      <td>NaN</td>\n",
              "      <td>28.0</td>\n",
              "      <td>OESTE</td>\n",
              "      <td>DOM PEDRO</td>\n",
              "      <td>Sim</td>\n",
              "      <td>Não</td>\n",
              "      <td>NaN</td>\n",
              "      <td>NaN</td>\n",
              "      <td>NaN</td>\n",
              "      <td>NaN</td>\n",
              "      <td>eSUS VE,</td>\n",
              "      <td>NaN</td>\n",
              "    </tr>\n",
              "  </tbody>\n",
              "</table>\n",
              "</div>"
            ],
            "text/plain": [
              "       _idade _faixa etária _sexo  ... _comorb_obessidade    _origem _evolução\n",
              "48298    36.0     30a - 39a     F  ...                NaN  eSUS VE,        NaN\n",
              "\n",
              "[1 rows x 36 columns]"
            ]
          },
          "metadata": {
            "tags": []
          },
          "execution_count": 18
        }
      ]
    }
  ]
}
