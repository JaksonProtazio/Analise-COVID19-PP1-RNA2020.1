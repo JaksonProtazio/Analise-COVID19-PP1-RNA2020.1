{
 "metadata": {
  "language_info": {
   "codemirror_mode": {
    "name": "ipython",
    "version": 3
   },
   "file_extension": ".py",
   "mimetype": "text/x-python",
   "name": "python",
   "nbconvert_exporter": "python",
   "pygments_lexer": "ipython3",
   "version": "3.6.9-final"
  },
  "orig_nbformat": 2,
  "kernelspec": {
   "name": "python36964bit76f932ba9bb7455b94c547bf37538953",
   "display_name": "Python 3.6.9 64-bit"
  }
 },
 "nbformat": 4,
 "nbformat_minor": 2,
 "cells": [
  {
   "cell_type": "markdown",
   "metadata": {},
   "source": [
    "# Notebook para responder a parte 3 do PP1 de RNA"
   ]
  },
  {
   "cell_type": "markdown",
   "metadata": {},
   "source": [
    "## 3 Tipos de Tarefas (Dayvson)\n",
    "Recapitulem que dados fornecem experiência sobre um problema. No caso em questão, sugira:\n",
    "- [x] Uma tarefa de classificação mediante Aprendizado Supervisionado que poderia ser feita com\n",
    "esta base de dados. Qual seria o atributo-alvo? Quais métricas de desempenho poderiam ser\n",
    "aplicadas? Que tipo de validação seria apropriado?\n",
    "- [ ] Uma tarefa de regressão mediante Aprendizado Supervisionado que poderia ser feita com\n",
    "esta base de dados. Qual seria o atributo-alvo? Quais atributos preditores a equipe considera\n",
    "relevantes para o cenário?\n",
    "- [ ] Bônus: Qual tarefa de Aprendizado Não-Supervisionado poderia ser concebida neste contexto?"
   ]
  },
  {
   "cell_type": "code",
   "execution_count": 3,
   "metadata": {},
   "outputs": [],
   "source": [
    "import warnings\n",
    "warnings.filterwarnings('ignore')\n",
    "\n",
    "import pandas as pd\n",
    "import numpy as np\n",
    "\n",
    "import re\n",
    "\n",
    "\n",
    "from sklearn.tree import DecisionTreeClassifier\n",
    "from sklearn.ensemble import RandomForestClassifier\n",
    "from sklearn.naive_bayes import GaussianNB\n",
    "from sklearn.metrics import classification_report\n",
    "from sklearn.model_selection import cross_validate\n",
    "from sklearn.metrics import recall_score"
   ]
  },
  {
   "cell_type": "code",
   "execution_count": 4,
   "metadata": {},
   "outputs": [
    {
     "output_type": "execute_result",
     "data": {
      "text/plain": "      idade sexo              bairro   conclusao dt_notificacao  \\\n0        25    F        ADRIANOPOLIS  Recuperado     20/03/2020   \n1        41    F             BETANIA  Recuperado     27/03/2020   \n2        37    M         CIDADE NOVA  Recuperado     27/04/2020   \n3        44    M           SAO JORGE  Recuperado     27/04/2020   \n4        27    F  COLONIA TERRA NOVA  Recuperado     24/04/2020   \n...     ...  ...                 ...         ...            ...   \n6355     14    F              DA PAZ  Recuperado     25/06/2020   \n6356      5    F            REDENCAO  Recuperado     18/06/2020   \n6357     70    F         DOM PEDRO I  Recuperado     02/06/2020   \n6358     68    M      JORGE TEIXEIRA  Recuperado     01/06/2020   \n6359     45    F              TARUMA  Recuperado     05/06/2020   \n\n                    tipo_teste  \n0                       RT-PCR  \n1                       RT-PCR  \n2     TESTE RÁPIDO - ANTICORPO  \n3     TESTE RÁPIDO - ANTICORPO  \n4     TESTE RÁPIDO - ANTICORPO  \n...                        ...  \n6355   TESTE RÁPIDO - ANTÍGENO  \n6356   TESTE RÁPIDO - ANTÍGENO  \n6357   TESTE RÁPIDO - ANTÍGENO  \n6358                    RT-PCR  \n6359  TESTE RÁPIDO - ANTICORPO  \n\n[6360 rows x 6 columns]",
      "text/html": "<div>\n<style scoped>\n    .dataframe tbody tr th:only-of-type {\n        vertical-align: middle;\n    }\n\n    .dataframe tbody tr th {\n        vertical-align: top;\n    }\n\n    .dataframe thead th {\n        text-align: right;\n    }\n</style>\n<table border=\"1\" class=\"dataframe\">\n  <thead>\n    <tr style=\"text-align: right;\">\n      <th></th>\n      <th>idade</th>\n      <th>sexo</th>\n      <th>bairro</th>\n      <th>conclusao</th>\n      <th>dt_notificacao</th>\n      <th>tipo_teste</th>\n    </tr>\n  </thead>\n  <tbody>\n    <tr>\n      <th>0</th>\n      <td>25</td>\n      <td>F</td>\n      <td>ADRIANOPOLIS</td>\n      <td>Recuperado</td>\n      <td>20/03/2020</td>\n      <td>RT-PCR</td>\n    </tr>\n    <tr>\n      <th>1</th>\n      <td>41</td>\n      <td>F</td>\n      <td>BETANIA</td>\n      <td>Recuperado</td>\n      <td>27/03/2020</td>\n      <td>RT-PCR</td>\n    </tr>\n    <tr>\n      <th>2</th>\n      <td>37</td>\n      <td>M</td>\n      <td>CIDADE NOVA</td>\n      <td>Recuperado</td>\n      <td>27/04/2020</td>\n      <td>TESTE RÁPIDO - ANTICORPO</td>\n    </tr>\n    <tr>\n      <th>3</th>\n      <td>44</td>\n      <td>M</td>\n      <td>SAO JORGE</td>\n      <td>Recuperado</td>\n      <td>27/04/2020</td>\n      <td>TESTE RÁPIDO - ANTICORPO</td>\n    </tr>\n    <tr>\n      <th>4</th>\n      <td>27</td>\n      <td>F</td>\n      <td>COLONIA TERRA NOVA</td>\n      <td>Recuperado</td>\n      <td>24/04/2020</td>\n      <td>TESTE RÁPIDO - ANTICORPO</td>\n    </tr>\n    <tr>\n      <th>...</th>\n      <td>...</td>\n      <td>...</td>\n      <td>...</td>\n      <td>...</td>\n      <td>...</td>\n      <td>...</td>\n    </tr>\n    <tr>\n      <th>6355</th>\n      <td>14</td>\n      <td>F</td>\n      <td>DA PAZ</td>\n      <td>Recuperado</td>\n      <td>25/06/2020</td>\n      <td>TESTE RÁPIDO - ANTÍGENO</td>\n    </tr>\n    <tr>\n      <th>6356</th>\n      <td>5</td>\n      <td>F</td>\n      <td>REDENCAO</td>\n      <td>Recuperado</td>\n      <td>18/06/2020</td>\n      <td>TESTE RÁPIDO - ANTÍGENO</td>\n    </tr>\n    <tr>\n      <th>6357</th>\n      <td>70</td>\n      <td>F</td>\n      <td>DOM PEDRO I</td>\n      <td>Recuperado</td>\n      <td>02/06/2020</td>\n      <td>TESTE RÁPIDO - ANTÍGENO</td>\n    </tr>\n    <tr>\n      <th>6358</th>\n      <td>68</td>\n      <td>M</td>\n      <td>JORGE TEIXEIRA</td>\n      <td>Recuperado</td>\n      <td>01/06/2020</td>\n      <td>RT-PCR</td>\n    </tr>\n    <tr>\n      <th>6359</th>\n      <td>45</td>\n      <td>F</td>\n      <td>TARUMA</td>\n      <td>Recuperado</td>\n      <td>05/06/2020</td>\n      <td>TESTE RÁPIDO - ANTICORPO</td>\n    </tr>\n  </tbody>\n</table>\n<p>6360 rows × 6 columns</p>\n</div>"
     },
     "metadata": {},
     "execution_count": 4
    }
   ],
   "source": [
    "file = '/home/dayvson/disc/rna/Analise-COVID19-PP1-RNA2020.1/dataset/dataset_limpo_covid19_manaus.csv'\n",
    "df_dataset = pd.read_csv(file)\n",
    "df_dataset"
   ]
  },
  {
   "cell_type": "markdown",
   "metadata": {},
   "source": [
    "## Visualizando alguns valores dos atributos"
   ]
  },
  {
   "cell_type": "code",
   "execution_count": 4,
   "metadata": {},
   "outputs": [
    {
     "output_type": "execute_result",
     "data": {
      "text/plain": "F    3605\nM    2755\nName: sexo, dtype: int64"
     },
     "metadata": {},
     "execution_count": 4
    }
   ],
   "source": [
    "df_dataset.sexo.value_counts()"
   ]
  },
  {
   "cell_type": "code",
   "execution_count": 6,
   "metadata": {},
   "outputs": [
    {
     "output_type": "execute_result",
     "data": {
      "text/plain": "Recuperado    6347\nÓbito           13\nName: conclusao, dtype: int64"
     },
     "metadata": {},
     "execution_count": 6
    }
   ],
   "source": [
    "df_dataset.conclusao.value_counts()"
   ]
  },
  {
   "cell_type": "code",
   "execution_count": 9,
   "metadata": {},
   "outputs": [
    {
     "output_type": "execute_result",
     "data": {
      "text/plain": "TESTE RÁPIDO - ANTICORPO    3693\nRT-PCR                      1521\nTESTE RÁPIDO - ANTÍGENO     1139\nECLIA IgG                      4\nELISA IgM                      3\nName: tipo_teste, dtype: int64"
     },
     "metadata": {},
     "execution_count": 9
    }
   ],
   "source": [
    "df_dataset.tipo_teste.value_counts()"
   ]
  },
  {
   "cell_type": "markdown",
   "metadata": {},
   "source": [
    "> Uma tarefa de classificação mediante Aprendizado Supervisionado que poderia ser feita com esta base de dados. Qual seria o atributo-alvo? Quais métricas de desempenho poderiam ser aplicadas? Que tipo de validação seria apropriado?"
   ]
  },
  {
   "cell_type": "markdown",
   "metadata": {},
   "source": [
    "## Propondo terefa de classificação para a base de dados"
   ]
  },
  {
   "cell_type": "markdown",
   "metadata": {},
   "source": [
    "### Tarefa: classificar se o \"paciente\" se recuperou ou não do covid-19"
   ]
  },
  {
   "cell_type": "markdown",
   "metadata": {},
   "source": [
    "Com base nos dados solicitados pelo projeto, uma tarefa de classificação que pode ser realizada em cima dos dados é: classificar se um \"paciente\" se recuperou da covid-19 ou evoluiu para Óbito. Um dos problemas encontrados para realizar esta tarefa é o desbalenceamento de clases, pois enquanto a quantidade de \"pacientes\" é 6347 o número de pessoas com conclusão igual a Óbito chega a 13.\n",
    "\n",
    "Uma possível forma de se contornar esse problema  do desbalenceamento das clases seria, selecionar outros atributos, pois observa-se que há bastante pessoas classificadas como Óbito, mas por causa da limpeza e escolha desses atributos do dataset atual essa classe diminuiu considerávelmente.\n",
    "\n",
    "Outra sugestão para aumentar a quantidade de classes seria considerar mais registros com campos faltantes e depois adicionar a média do atributo para este campo ou outra encontrar outra medida para preencher tais campos."
   ]
  },
  {
   "cell_type": "markdown",
   "metadata": {},
   "source": [
    "### Criando um experimento com Árvore de Decisão, Floresta Aletória e Gaussian Naive Bayes para classificar \"pacientes\""
   ]
  },
  {
   "cell_type": "markdown",
   "metadata": {},
   "source": [
    "Foram escolhidos modelos baseados em árvore de decisão e um baseado em probabilidade. A escolha desses algoritmos se deu por primeiro o conjunto de dados não ser tão extenso e por serem eficientes na tarefa de classificar."
   ]
  },
  {
   "cell_type": "code",
   "execution_count": 14,
   "metadata": {},
   "outputs": [
    {
     "output_type": "execute_result",
     "data": {
      "text/plain": "      idade sexo              bairro dt_notificacao                tipo_teste\n0        25    F        ADRIANOPOLIS     20/03/2020                    RT-PCR\n1        41    F             BETANIA     27/03/2020                    RT-PCR\n2        37    M         CIDADE NOVA     27/04/2020  TESTE RÁPIDO - ANTICORPO\n3        44    M           SAO JORGE     27/04/2020  TESTE RÁPIDO - ANTICORPO\n4        27    F  COLONIA TERRA NOVA     24/04/2020  TESTE RÁPIDO - ANTICORPO\n...     ...  ...                 ...            ...                       ...\n6355     14    F              DA PAZ     25/06/2020   TESTE RÁPIDO - ANTÍGENO\n6356      5    F            REDENCAO     18/06/2020   TESTE RÁPIDO - ANTÍGENO\n6357     70    F         DOM PEDRO I     02/06/2020   TESTE RÁPIDO - ANTÍGENO\n6358     68    M      JORGE TEIXEIRA     01/06/2020                    RT-PCR\n6359     45    F              TARUMA     05/06/2020  TESTE RÁPIDO - ANTICORPO\n\n[6360 rows x 5 columns]",
      "text/html": "<div>\n<style scoped>\n    .dataframe tbody tr th:only-of-type {\n        vertical-align: middle;\n    }\n\n    .dataframe tbody tr th {\n        vertical-align: top;\n    }\n\n    .dataframe thead th {\n        text-align: right;\n    }\n</style>\n<table border=\"1\" class=\"dataframe\">\n  <thead>\n    <tr style=\"text-align: right;\">\n      <th></th>\n      <th>idade</th>\n      <th>sexo</th>\n      <th>bairro</th>\n      <th>dt_notificacao</th>\n      <th>tipo_teste</th>\n    </tr>\n  </thead>\n  <tbody>\n    <tr>\n      <th>0</th>\n      <td>25</td>\n      <td>F</td>\n      <td>ADRIANOPOLIS</td>\n      <td>20/03/2020</td>\n      <td>RT-PCR</td>\n    </tr>\n    <tr>\n      <th>1</th>\n      <td>41</td>\n      <td>F</td>\n      <td>BETANIA</td>\n      <td>27/03/2020</td>\n      <td>RT-PCR</td>\n    </tr>\n    <tr>\n      <th>2</th>\n      <td>37</td>\n      <td>M</td>\n      <td>CIDADE NOVA</td>\n      <td>27/04/2020</td>\n      <td>TESTE RÁPIDO - ANTICORPO</td>\n    </tr>\n    <tr>\n      <th>3</th>\n      <td>44</td>\n      <td>M</td>\n      <td>SAO JORGE</td>\n      <td>27/04/2020</td>\n      <td>TESTE RÁPIDO - ANTICORPO</td>\n    </tr>\n    <tr>\n      <th>4</th>\n      <td>27</td>\n      <td>F</td>\n      <td>COLONIA TERRA NOVA</td>\n      <td>24/04/2020</td>\n      <td>TESTE RÁPIDO - ANTICORPO</td>\n    </tr>\n    <tr>\n      <th>...</th>\n      <td>...</td>\n      <td>...</td>\n      <td>...</td>\n      <td>...</td>\n      <td>...</td>\n    </tr>\n    <tr>\n      <th>6355</th>\n      <td>14</td>\n      <td>F</td>\n      <td>DA PAZ</td>\n      <td>25/06/2020</td>\n      <td>TESTE RÁPIDO - ANTÍGENO</td>\n    </tr>\n    <tr>\n      <th>6356</th>\n      <td>5</td>\n      <td>F</td>\n      <td>REDENCAO</td>\n      <td>18/06/2020</td>\n      <td>TESTE RÁPIDO - ANTÍGENO</td>\n    </tr>\n    <tr>\n      <th>6357</th>\n      <td>70</td>\n      <td>F</td>\n      <td>DOM PEDRO I</td>\n      <td>02/06/2020</td>\n      <td>TESTE RÁPIDO - ANTÍGENO</td>\n    </tr>\n    <tr>\n      <th>6358</th>\n      <td>68</td>\n      <td>M</td>\n      <td>JORGE TEIXEIRA</td>\n      <td>01/06/2020</td>\n      <td>RT-PCR</td>\n    </tr>\n    <tr>\n      <th>6359</th>\n      <td>45</td>\n      <td>F</td>\n      <td>TARUMA</td>\n      <td>05/06/2020</td>\n      <td>TESTE RÁPIDO - ANTICORPO</td>\n    </tr>\n  </tbody>\n</table>\n<p>6360 rows × 5 columns</p>\n</div>"
     },
     "metadata": {},
     "execution_count": 14
    }
   ],
   "source": [
    "X = df_dataset.iloc[:, [0, 1, 2, 4, 5]]\n",
    "X"
   ]
  },
  {
   "cell_type": "code",
   "execution_count": 15,
   "metadata": {},
   "outputs": [
    {
     "output_type": "execute_result",
     "data": {
      "text/plain": "0       Recuperado\n1       Recuperado\n2       Recuperado\n3       Recuperado\n4       Recuperado\n           ...    \n6355    Recuperado\n6356    Recuperado\n6357    Recuperado\n6358    Recuperado\n6359    Recuperado\nName: conclusao, Length: 6360, dtype: object"
     },
     "metadata": {},
     "execution_count": 15
    }
   ],
   "source": [
    "y = df_dataset['conclusao']\n",
    "y"
   ]
  },
  {
   "cell_type": "code",
   "execution_count": 20,
   "metadata": {},
   "outputs": [
    {
     "output_type": "execute_result",
     "data": {
      "text/plain": "array([nan, nan, nan, nan, nan])"
     },
     "metadata": {},
     "execution_count": 20
    }
   ],
   "source": [
    "\n",
    "scoring = ['precision_macro', 'recall_macro']\n",
    "clf = DecisionTreeClassifier()\n",
    "scores = cross_validate(clf, X, y, scoring=scoring, cv=5, return_estimator=True)\n",
    "sorted(scores.keys()),\n",
    "scores['test_recall_macro']\n"
   ]
  },
  {
   "cell_type": "markdown",
   "metadata": {},
   "source": [
    "- classificar se o paciente é F ou M\n",
    "\n",
    "- classificar se o paciente foi a Óbito ou se Recuperou"
   ]
  }
 ]
}