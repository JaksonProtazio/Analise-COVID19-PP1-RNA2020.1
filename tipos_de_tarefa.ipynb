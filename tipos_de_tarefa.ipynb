{
 "cells": [
  {
   "cell_type": "markdown",
   "metadata": {},
   "source": [
    "# Parte 3 do PP1 de RNA2020.1"
   ]
  },
  {
   "cell_type": "markdown",
   "metadata": {},
   "source": [
    "## Tipos de Tarefas\n",
    "Recapitulem que dados fornecem experiência sobre um problema. No caso em questão, sugira:\n",
    "- [x] Uma tarefa de classificação mediante Aprendizado Supervisionado que poderia ser feita com\n",
    "esta base de dados. Qual seria o atributo-alvo? Quais métricas de desempenho poderiam ser\n",
    "aplicadas? Que tipo de validação seria apropriado?\n",
    "- [ ] Uma tarefa de regressão mediante Aprendizado Supervisionado que poderia ser feita com\n",
    "esta base de dados. Qual seria o atributo-alvo? Quais atributos preditores a equipe considera\n",
    "relevantes para o cenário?\n",
    "- [ ] Bônus: Qual tarefa de Aprendizado Não-Supervisionado poderia ser concebida neste contexto?"
   ]
  },
  {
   "cell_type": "code",
   "execution_count": 30,
   "metadata": {},
   "outputs": [],
   "source": [
    "import warnings\n",
    "warnings.filterwarnings('ignore')\n",
    "\n",
    "import re\n",
    "\n",
    "import pandas as pd\n",
    "import numpy as np\n",
    "\n",
    "import matplotlib.pyplot as plt\n",
    "from matplotlib import dates\n",
    "from matplotlib.pyplot import plot_date\n",
    "%matplotlib inline\n",
    "plt.style.use('ggplot')"
   ]
  },
  {
   "cell_type": "code",
   "execution_count": 2,
   "metadata": {},
   "outputs": [
    {
     "data": {
      "text/html": [
       "<div>\n",
       "<style scoped>\n",
       "    .dataframe tbody tr th:only-of-type {\n",
       "        vertical-align: middle;\n",
       "    }\n",
       "\n",
       "    .dataframe tbody tr th {\n",
       "        vertical-align: top;\n",
       "    }\n",
       "\n",
       "    .dataframe thead th {\n",
       "        text-align: right;\n",
       "    }\n",
       "</style>\n",
       "<table border=\"1\" class=\"dataframe\">\n",
       "  <thead>\n",
       "    <tr style=\"text-align: right;\">\n",
       "      <th></th>\n",
       "      <th>idade</th>\n",
       "      <th>sexo</th>\n",
       "      <th>bairro</th>\n",
       "      <th>conclusao</th>\n",
       "      <th>dt_notificacao</th>\n",
       "      <th>tipo_teste</th>\n",
       "    </tr>\n",
       "  </thead>\n",
       "  <tbody>\n",
       "    <tr>\n",
       "      <th>0</th>\n",
       "      <td>25</td>\n",
       "      <td>F</td>\n",
       "      <td>ADRIANOPOLIS</td>\n",
       "      <td>Recuperado</td>\n",
       "      <td>2020-03-20</td>\n",
       "      <td>RT-PCR</td>\n",
       "    </tr>\n",
       "    <tr>\n",
       "      <th>1</th>\n",
       "      <td>41</td>\n",
       "      <td>F</td>\n",
       "      <td>BETANIA</td>\n",
       "      <td>Recuperado</td>\n",
       "      <td>2020-03-27</td>\n",
       "      <td>RT-PCR</td>\n",
       "    </tr>\n",
       "    <tr>\n",
       "      <th>2</th>\n",
       "      <td>37</td>\n",
       "      <td>M</td>\n",
       "      <td>CIDADE NOVA</td>\n",
       "      <td>Recuperado</td>\n",
       "      <td>2020-04-27</td>\n",
       "      <td>TESTE RÁPIDO - ANTICORPO</td>\n",
       "    </tr>\n",
       "    <tr>\n",
       "      <th>3</th>\n",
       "      <td>44</td>\n",
       "      <td>M</td>\n",
       "      <td>SAO JORGE</td>\n",
       "      <td>Recuperado</td>\n",
       "      <td>2020-04-27</td>\n",
       "      <td>TESTE RÁPIDO - ANTICORPO</td>\n",
       "    </tr>\n",
       "    <tr>\n",
       "      <th>4</th>\n",
       "      <td>27</td>\n",
       "      <td>F</td>\n",
       "      <td>COLONIA TERRA NOVA</td>\n",
       "      <td>Recuperado</td>\n",
       "      <td>2020-04-24</td>\n",
       "      <td>TESTE RÁPIDO - ANTICORPO</td>\n",
       "    </tr>\n",
       "    <tr>\n",
       "      <th>...</th>\n",
       "      <td>...</td>\n",
       "      <td>...</td>\n",
       "      <td>...</td>\n",
       "      <td>...</td>\n",
       "      <td>...</td>\n",
       "      <td>...</td>\n",
       "    </tr>\n",
       "    <tr>\n",
       "      <th>6355</th>\n",
       "      <td>14</td>\n",
       "      <td>F</td>\n",
       "      <td>DA PAZ</td>\n",
       "      <td>Recuperado</td>\n",
       "      <td>2020-06-25</td>\n",
       "      <td>TESTE RÁPIDO - ANTÍGENO</td>\n",
       "    </tr>\n",
       "    <tr>\n",
       "      <th>6356</th>\n",
       "      <td>5</td>\n",
       "      <td>F</td>\n",
       "      <td>REDENCAO</td>\n",
       "      <td>Recuperado</td>\n",
       "      <td>2020-06-18</td>\n",
       "      <td>TESTE RÁPIDO - ANTÍGENO</td>\n",
       "    </tr>\n",
       "    <tr>\n",
       "      <th>6357</th>\n",
       "      <td>70</td>\n",
       "      <td>F</td>\n",
       "      <td>DOM PEDRO I</td>\n",
       "      <td>Recuperado</td>\n",
       "      <td>2020-02-06</td>\n",
       "      <td>TESTE RÁPIDO - ANTÍGENO</td>\n",
       "    </tr>\n",
       "    <tr>\n",
       "      <th>6358</th>\n",
       "      <td>68</td>\n",
       "      <td>M</td>\n",
       "      <td>JORGE TEIXEIRA</td>\n",
       "      <td>Recuperado</td>\n",
       "      <td>2020-01-06</td>\n",
       "      <td>RT-PCR</td>\n",
       "    </tr>\n",
       "    <tr>\n",
       "      <th>6359</th>\n",
       "      <td>45</td>\n",
       "      <td>F</td>\n",
       "      <td>TARUMA</td>\n",
       "      <td>Recuperado</td>\n",
       "      <td>2020-05-06</td>\n",
       "      <td>TESTE RÁPIDO - ANTICORPO</td>\n",
       "    </tr>\n",
       "  </tbody>\n",
       "</table>\n",
       "<p>6360 rows × 6 columns</p>\n",
       "</div>"
      ],
      "text/plain": [
       "      idade sexo              bairro   conclusao dt_notificacao  \\\n",
       "0        25    F        ADRIANOPOLIS  Recuperado     2020-03-20   \n",
       "1        41    F             BETANIA  Recuperado     2020-03-27   \n",
       "2        37    M         CIDADE NOVA  Recuperado     2020-04-27   \n",
       "3        44    M           SAO JORGE  Recuperado     2020-04-27   \n",
       "4        27    F  COLONIA TERRA NOVA  Recuperado     2020-04-24   \n",
       "...     ...  ...                 ...         ...            ...   \n",
       "6355     14    F              DA PAZ  Recuperado     2020-06-25   \n",
       "6356      5    F            REDENCAO  Recuperado     2020-06-18   \n",
       "6357     70    F         DOM PEDRO I  Recuperado     2020-02-06   \n",
       "6358     68    M      JORGE TEIXEIRA  Recuperado     2020-01-06   \n",
       "6359     45    F              TARUMA  Recuperado     2020-05-06   \n",
       "\n",
       "                    tipo_teste  \n",
       "0                       RT-PCR  \n",
       "1                       RT-PCR  \n",
       "2     TESTE RÁPIDO - ANTICORPO  \n",
       "3     TESTE RÁPIDO - ANTICORPO  \n",
       "4     TESTE RÁPIDO - ANTICORPO  \n",
       "...                        ...  \n",
       "6355   TESTE RÁPIDO - ANTÍGENO  \n",
       "6356   TESTE RÁPIDO - ANTÍGENO  \n",
       "6357   TESTE RÁPIDO - ANTÍGENO  \n",
       "6358                    RT-PCR  \n",
       "6359  TESTE RÁPIDO - ANTICORPO  \n",
       "\n",
       "[6360 rows x 6 columns]"
      ]
     },
     "execution_count": 2,
     "metadata": {},
     "output_type": "execute_result"
    }
   ],
   "source": [
    "file = '/home/dayvson/disciplinas/rna/Analise-COVID19-PP1-RNA2020.1/dataset/dataset_limpo_covid19_manaus.csv'\n",
    "df_dataset = pd.read_csv(file)\n",
    "df_dataset.dt_notificacao = pd.to_datetime(df_dataset.dt_notificacao)\n",
    "df_dataset"
   ]
  },
  {
   "cell_type": "markdown",
   "metadata": {},
   "source": [
    "## Visualizando alguns valores dos atributos"
   ]
  },
  {
   "cell_type": "code",
   "execution_count": 3,
   "metadata": {},
   "outputs": [
    {
     "data": {
      "text/plain": [
       "F    3605\n",
       "M    2755\n",
       "Name: sexo, dtype: int64"
      ]
     },
     "execution_count": 3,
     "metadata": {},
     "output_type": "execute_result"
    }
   ],
   "source": [
    "df_dataset.sexo.value_counts()"
   ]
  },
  {
   "cell_type": "code",
   "execution_count": 16,
   "metadata": {},
   "outputs": [
    {
     "data": {
      "image/png": "[encoded data removed]",
      "text/plain": [
       "<Figure size 432x288 with 1 Axes>"
      ]
     },
     "metadata": {},
     "output_type": "display_data"
    }
   ],
   "source": [
    "# Pie chart, where the slices will be ordered and plotted counter-clockwise:\n",
    "labels = 'F', 'M'\n",
    "sizes = df_dataset.sexo.value_counts()\n",
    "explode = (0, 0.1, 0, 0)  # only \"explode\" the 2nd slice (i.e. 'Hogs')\n",
    "\n",
    "fig1, ax1 = plt.subplots()\n",
    "ax1.pie(sizes, labels=labels, autopct='%1.1f%%',\n",
    "        shadow=True, startangle=90)\n",
    "ax1.axis('equal')  # Equal aspect ratio ensures that pie is drawn as a circle.\n",
    "\n",
    "plt.show()"
   ]
  },
  {
   "cell_type": "code",
   "execution_count": 17,
   "metadata": {},
   "outputs": [
    {
     "data": {
      "text/plain": [
       "Recuperado    6347\n",
       "Óbito           13\n",
       "Name: conclusao, dtype: int64"
      ]
     },
     "execution_count": 17,
     "metadata": {},
     "output_type": "execute_result"
    }
   ],
   "source": [
    "df_dataset.conclusao.value_counts()"
   ]
  },
  {
   "cell_type": "code",
   "execution_count": 20,
   "metadata": {},
   "outputs": [
    {
     "data": {
      "image/png": "[encoded data removed]",
      "text/plain": [
       "<Figure size 432x288 with 1 Axes>"
      ]
     },
     "metadata": {},
     "output_type": "display_data"
    }
   ],
   "source": [
    "# Pie chart, where the slices will be ordered and plotted counter-clockwise:\n",
    "labels = 'Recuperados', 'Mortos'\n",
    "sizes = df_dataset.conclusao.value_counts()\n",
    "explode = (0, 0.1, 0, 0)  # only \"explode\" the 2nd slice (i.e. 'Hogs')\n",
    "\n",
    "fig1, ax1 = plt.subplots()\n",
    "ax1.pie(sizes, labels=labels, autopct='%1.1f%%',\n",
    "        shadow=True, startangle=90)\n",
    "ax1.axis('equal')  # Equal aspect ratio ensures that pie is drawn as a circle.\n",
    "\n",
    "plt.show()"
   ]
  },
  {
   "cell_type": "code",
   "execution_count": 18,
   "metadata": {},
   "outputs": [
    {
     "data": {
      "text/plain": [
       "38    216\n",
       "39    214\n",
       "40    214\n",
       "46    212\n",
       "41    204\n",
       "     ... \n",
       "96      1\n",
       "97      1\n",
       "90      1\n",
       "94      1\n",
       "93      1\n",
       "Name: idade, Length: 97, dtype: int64"
      ]
     },
     "execution_count": 18,
     "metadata": {},
     "output_type": "execute_result"
    }
   ],
   "source": [
    "df_dataset.idade.value_counts()"
   ]
  },
  {
   "cell_type": "code",
   "execution_count": 21,
   "metadata": {},
   "outputs": [
    {
     "data": {
      "image/png": "[encoded data removed]",
      "text/plain": [
       "<Figure size 432x288 with 1 Axes>"
      ]
     },
     "metadata": {},
     "output_type": "display_data"
    }
   ],
   "source": [
    "x = df_dataset.idade.values\n",
    "plt.hist(x, density=False, bins=100)  # `density=False` would make counts\n",
    "plt.ylabel('quantidade de pessoas')\n",
    "plt.xlabel('idade');"
   ]
  },
  {
   "cell_type": "code",
   "execution_count": 34,
   "metadata": {},
   "outputs": [
    {
     "name": "stdout",
     "output_type": "stream",
     "text": [
      "[18341. 18348. 18379. ... 18298. 18267. 18388.]\n"
     ]
    },
    {
     "data": {
      "text/plain": [
       "[<matplotlib.lines.Line2D at 0x7f3aa61c9430>]"
      ]
     },
     "execution_count": 34,
     "metadata": {},
     "output_type": "execute_result"
    },
    {
     "data": {
      "image/png": "[encoded data removed]",
      "text/plain": [
       "<Figure size 432x288 with 1 Axes>"
      ]
     },
     "metadata": {},
     "output_type": "display_data"
    }
   ],
   "source": [
    "# Distribuição das idades por data de confirmação \n",
    "d = dates.date2num(df_dataset.dt_notificacao)\n",
    "plot_date(d, df_dataset.idade)"
   ]
  },
  {
   "cell_type": "markdown",
   "metadata": {},
   "source": [
    "## Propondo terefa de ***classificação*** para a base de dados"
   ]
  },
  {
   "cell_type": "markdown",
   "metadata": {},
   "source": [
    "### Tarefa: classificar se o \"paciente\" se recuperou ou não do covid-19"
   ]
  },
  {
   "cell_type": "markdown",
   "metadata": {},
   "source": [
    "Com base nos dados solicitados pelo projeto, uma tarefa de classificação que pode ser realizada em cima dos dados é: classificar se um \"paciente\" se recuperou da covid-19 ou evoluiu para Óbito. Um dos problemas encontrados para realizar esta tarefa é o desbalenceamento de clases, pois enquanto a quantidade de \"pacientes\" é 6347 o número de pessoas com conclusão igual a Óbito chega a 13.\n",
    "\n",
    "Uma possível forma de se contornar esse problema  do desbalenceamento das clases seria, selecionar outros atributos, pois observa-se que há bastante pessoas classificadas como Óbito, mas por causa da limpeza e escolha desses atributos do dataset atual essa classe diminuiu considerávelmente.\n",
    "\n",
    "Outra sugestão para aumentar a quantidade de classes minoritária seria considerar mais registros com campos faltantes e depois adicionar a média do atributo para este campo ou outra encontrar outra medida para preencher tais campos."
   ]
  },
  {
   "cell_type": "markdown",
   "metadata": {},
   "source": [
    "### Avaliação da tarefa de classificação"
   ]
  },
  {
   "cell_type": "markdown",
   "metadata": {},
   "source": [
    "Como se trata de uma classificação binária a acurácia é uma das principais métricas a ser considerada, porém para este conjunto de dados talvez não reflita a total realidade por ele estar desbalanceado, então a melhor maneira é adicionar outras métricas de válidação como por exemplo a precisão que diz quantos acertos para cada classe do modelo avaliado."
   ]
  },
  {
   "cell_type": "markdown",
   "metadata": {},
   "source": [
    "### Validação do modelo "
   ]
  },
  {
   "cell_type": "markdown",
   "metadata": {},
   "source": [
    "## Propondo uma tarefa de ***regressão*** para os dados"
   ]
  },
  {
   "cell_type": "markdown",
   "metadata": {},
   "source": [
    "### Tarefa: prever a idade dos \"pacientes\" com base nos demais atributos"
   ]
  },
  {
   "cell_type": "markdown",
   "metadata": {},
   "source": [
    "Nesta tarefa, acreditasse que os atributos tipo_teste e df_notificação não tenham tanha relevância, pois eles não são características dos pacientes, mas sim dos testes que eles fizeram. "
   ]
  }
 ],
 "metadata": {
  "kernelspec": {
   "display_name": "Python 3",
   "language": "python",
   "name": "python3"
  },
  "language_info": {
   "codemirror_mode": {
    "name": "ipython",
    "version": 3
   },
   "file_extension": ".py",
   "mimetype": "text/x-python",
   "name": "python",
   "nbconvert_exporter": "python",
   "pygments_lexer": "ipython3",
   "version": "3.8.2"
  }
 },
 "nbformat": 4,
 "nbformat_minor": 2
}
