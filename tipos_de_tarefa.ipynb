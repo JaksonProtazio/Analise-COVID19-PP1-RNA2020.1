{
  "nbformat": 4,
  "nbformat_minor": 0,
  "metadata": {
    "kernelspec": {
      "display_name": "Python 3",
      "language": "python",
      "name": "python3"
    },
    "language_info": {
      "codemirror_mode": {
        "name": "ipython",
        "version": 3
      },
      "file_extension": ".py",
      "mimetype": "text/x-python",
      "name": "python",
      "nbconvert_exporter": "python",
      "pygments_lexer": "ipython3",
      "version": "3.8.2"
    },
    "colab": {
      "name": "tipos_de_tarefa.ipynb",
      "provenance": [],
      "toc_visible": true
    }
  },
  "cells": [
    {
      "cell_type": "markdown",
      "metadata": {
        "id": "xjOuA2KcfY1q",
        "colab_type": "text"
      },
      "source": [
        "# Parte 3 do PP1 de RNA2020.1"
      ]
    },
    {
      "cell_type": "markdown",
      "metadata": {
        "id": "ohDLtQqSfY1r",
        "colab_type": "text"
      },
      "source": [
        "## Tipos de Tarefas\n",
        "Recapitulem que dados fornecem experiência sobre um problema. No caso em questão, sugira:\n",
        "- [x] Uma tarefa de classificação mediante Aprendizado Supervisionado que poderia ser feita com\n",
        "esta base de dados. Qual seria o atributo-alvo? Quais métricas de desempenho poderiam ser\n",
        "aplicadas? Que tipo de validação seria apropriado?\n",
        "- [x] Uma tarefa de regressão mediante Aprendizado Supervisionado que poderia ser feita com\n",
        "esta base de dados. Qual seria o atributo-alvo? Quais atributos preditores a equipe considera\n",
        "relevantes para o cenário?\n",
        "- [x] Bônus: Qual tarefa de Aprendizado Não-Supervisionado poderia ser concebida neste contexto?"
      ]
    },
    {
      "cell_type": "code",
      "metadata": {
        "id": "Ro2k8sLwfY1s",
        "colab_type": "code",
        "colab": {}
      },
      "source": [
        "import warnings\n",
        "warnings.filterwarnings('ignore')\n",
        "\n",
        "import re\n",
        "\n",
        "import pandas as pd\n",
        "import numpy as np\n",
        "\n",
        "import matplotlib.pyplot as plt\n",
        "from matplotlib import dates\n",
        "from matplotlib.pyplot import plot_date\n",
        "%matplotlib inline\n",
        "plt.style.use('ggplot')"
      ],
      "execution_count": 4,
      "outputs": []
    },
    {
      "cell_type": "code",
      "metadata": {
        "id": "rp9C7LkHfY1w",
        "colab_type": "code",
        "colab": {
          "base_uri": "https://localhost:8080/",
          "height": 419
        },
        "outputId": "b3eaaa7c-6eed-4126-be34-98a8ea97c76f"
      },
      "source": [
        "file = 'dataset_limpo_covid19_manaus.csv'\n",
        "df_dataset = pd.read_csv(file)\n",
        "df_dataset.dt_notificacao = pd.to_datetime(df_dataset.dt_notificacao)\n",
        "df_dataset"
      ],
      "execution_count": 5,
      "outputs": [
        {
          "output_type": "execute_result",
          "data": {
            "text/html": [
              "<div>\n",
              "<style scoped>\n",
              "    .dataframe tbody tr th:only-of-type {\n",
              "        vertical-align: middle;\n",
              "    }\n",
              "\n",
              "    .dataframe tbody tr th {\n",
              "        vertical-align: top;\n",
              "    }\n",
              "\n",
              "    .dataframe thead th {\n",
              "        text-align: right;\n",
              "    }\n",
              "</style>\n",
              "<table border=\"1\" class=\"dataframe\">\n",
              "  <thead>\n",
              "    <tr style=\"text-align: right;\">\n",
              "      <th></th>\n",
              "      <th>idade</th>\n",
              "      <th>sexo</th>\n",
              "      <th>bairro</th>\n",
              "      <th>conclusao</th>\n",
              "      <th>dt_notificacao</th>\n",
              "      <th>tipo_teste</th>\n",
              "    </tr>\n",
              "  </thead>\n",
              "  <tbody>\n",
              "    <tr>\n",
              "      <th>0</th>\n",
              "      <td>25</td>\n",
              "      <td>F</td>\n",
              "      <td>ADRIANOPOLIS</td>\n",
              "      <td>Recuperado</td>\n",
              "      <td>2020-03-20</td>\n",
              "      <td>RT-PCR</td>\n",
              "    </tr>\n",
              "    <tr>\n",
              "      <th>1</th>\n",
              "      <td>41</td>\n",
              "      <td>F</td>\n",
              "      <td>BETANIA</td>\n",
              "      <td>Recuperado</td>\n",
              "      <td>2020-03-27</td>\n",
              "      <td>RT-PCR</td>\n",
              "    </tr>\n",
              "    <tr>\n",
              "      <th>2</th>\n",
              "      <td>37</td>\n",
              "      <td>M</td>\n",
              "      <td>CIDADE NOVA</td>\n",
              "      <td>Recuperado</td>\n",
              "      <td>2020-04-27</td>\n",
              "      <td>TESTE RÁPIDO - ANTICORPO</td>\n",
              "    </tr>\n",
              "    <tr>\n",
              "      <th>3</th>\n",
              "      <td>44</td>\n",
              "      <td>M</td>\n",
              "      <td>SAO JORGE</td>\n",
              "      <td>Recuperado</td>\n",
              "      <td>2020-04-27</td>\n",
              "      <td>TESTE RÁPIDO - ANTICORPO</td>\n",
              "    </tr>\n",
              "    <tr>\n",
              "      <th>4</th>\n",
              "      <td>27</td>\n",
              "      <td>F</td>\n",
              "      <td>COLONIA TERRA NOVA</td>\n",
              "      <td>Recuperado</td>\n",
              "      <td>2020-04-24</td>\n",
              "      <td>TESTE RÁPIDO - ANTICORPO</td>\n",
              "    </tr>\n",
              "    <tr>\n",
              "      <th>...</th>\n",
              "      <td>...</td>\n",
              "      <td>...</td>\n",
              "      <td>...</td>\n",
              "      <td>...</td>\n",
              "      <td>...</td>\n",
              "      <td>...</td>\n",
              "    </tr>\n",
              "    <tr>\n",
              "      <th>6355</th>\n",
              "      <td>14</td>\n",
              "      <td>F</td>\n",
              "      <td>DA PAZ</td>\n",
              "      <td>Recuperado</td>\n",
              "      <td>2020-06-25</td>\n",
              "      <td>TESTE RÁPIDO - ANTÍGENO</td>\n",
              "    </tr>\n",
              "    <tr>\n",
              "      <th>6356</th>\n",
              "      <td>5</td>\n",
              "      <td>F</td>\n",
              "      <td>REDENCAO</td>\n",
              "      <td>Recuperado</td>\n",
              "      <td>2020-06-18</td>\n",
              "      <td>TESTE RÁPIDO - ANTÍGENO</td>\n",
              "    </tr>\n",
              "    <tr>\n",
              "      <th>6357</th>\n",
              "      <td>70</td>\n",
              "      <td>F</td>\n",
              "      <td>DOM PEDRO I</td>\n",
              "      <td>Recuperado</td>\n",
              "      <td>2020-02-06</td>\n",
              "      <td>TESTE RÁPIDO - ANTÍGENO</td>\n",
              "    </tr>\n",
              "    <tr>\n",
              "      <th>6358</th>\n",
              "      <td>68</td>\n",
              "      <td>M</td>\n",
              "      <td>JORGE TEIXEIRA</td>\n",
              "      <td>Recuperado</td>\n",
              "      <td>2020-01-06</td>\n",
              "      <td>RT-PCR</td>\n",
              "    </tr>\n",
              "    <tr>\n",
              "      <th>6359</th>\n",
              "      <td>45</td>\n",
              "      <td>F</td>\n",
              "      <td>TARUMA</td>\n",
              "      <td>Recuperado</td>\n",
              "      <td>2020-05-06</td>\n",
              "      <td>TESTE RÁPIDO - ANTICORPO</td>\n",
              "    </tr>\n",
              "  </tbody>\n",
              "</table>\n",
              "<p>6360 rows × 6 columns</p>\n",
              "</div>"
            ],
            "text/plain": [
              "      idade sexo  ... dt_notificacao                tipo_teste\n",
              "0        25    F  ...     2020-03-20                    RT-PCR\n",
              "1        41    F  ...     2020-03-27                    RT-PCR\n",
              "2        37    M  ...     2020-04-27  TESTE RÁPIDO - ANTICORPO\n",
              "3        44    M  ...     2020-04-27  TESTE RÁPIDO - ANTICORPO\n",
              "4        27    F  ...     2020-04-24  TESTE RÁPIDO - ANTICORPO\n",
              "...     ...  ...  ...            ...                       ...\n",
              "6355     14    F  ...     2020-06-25   TESTE RÁPIDO - ANTÍGENO\n",
              "6356      5    F  ...     2020-06-18   TESTE RÁPIDO - ANTÍGENO\n",
              "6357     70    F  ...     2020-02-06   TESTE RÁPIDO - ANTÍGENO\n",
              "6358     68    M  ...     2020-01-06                    RT-PCR\n",
              "6359     45    F  ...     2020-05-06  TESTE RÁPIDO - ANTICORPO\n",
              "\n",
              "[6360 rows x 6 columns]"
            ]
          },
          "metadata": {
            "tags": []
          },
          "execution_count": 5
        }
      ]
    },
    {
      "cell_type": "markdown",
      "metadata": {
        "id": "bWtRxj52fY11",
        "colab_type": "text"
      },
      "source": [
        "## Visualizando alguns valores dos atributos"
      ]
    },
    {
      "cell_type": "code",
      "metadata": {
        "id": "m0eJJpP6fY12",
        "colab_type": "code",
        "colab": {
          "base_uri": "https://localhost:8080/",
          "height": 68
        },
        "outputId": "9d94eae9-6dc5-43d4-e607-f772b3914ab8"
      },
      "source": [
        "df_dataset.sexo.value_counts()"
      ],
      "execution_count": 6,
      "outputs": [
        {
          "output_type": "execute_result",
          "data": {
            "text/plain": [
              "F    3605\n",
              "M    2755\n",
              "Name: sexo, dtype: int64"
            ]
          },
          "metadata": {
            "tags": []
          },
          "execution_count": 6
        }
      ]
    },
    {
      "cell_type": "code",
      "metadata": {
        "id": "z3BAXkJufY16",
        "colab_type": "code",
        "colab": {
          "base_uri": "https://localhost:8080/",
          "height": 248
        },
        "outputId": "5a6e0d64-11aa-4927-e661-5141be25fe6e"
      },
      "source": [
        "# Pie chart, where the slices will be ordered and plotted counter-clockwise:\n",
        "labels = 'F', 'M'\n",
        "sizes = df_dataset.sexo.value_counts()\n",
        "explode = (0, 0.1, 0, 0)  # only \"explode\" the 2nd slice (i.e. 'Hogs')\n",
        "\n",
        "fig1, ax1 = plt.subplots()\n",
        "ax1.pie(sizes, labels=labels, autopct='%1.1f%%',\n",
        "        shadow=True, startangle=90)\n",
        "ax1.axis('equal')  # Equal aspect ratio ensures that pie is drawn as a circle.\n",
        "\n",
        "plt.show()"
      ],
      "execution_count": 7,
      "outputs": [
        {
          "output_type": "display_data",
          "data": {
            "image/png": "[encoded data removed]",
            "text/plain": [
              "<Figure size 432x288 with 1 Axes>"
            ]
          },
          "metadata": {
            "tags": []
          }
        }
      ]
    },
    {
      "cell_type": "code",
      "metadata": {
        "id": "mOXEHsvUfY1-",
        "colab_type": "code",
        "colab": {
          "base_uri": "https://localhost:8080/",
          "height": 68
        },
        "outputId": "aa3c60bc-17ab-4239-9e55-e585c570b46b"
      },
      "source": [
        "df_dataset.conclusao.value_counts()"
      ],
      "execution_count": 8,
      "outputs": [
        {
          "output_type": "execute_result",
          "data": {
            "text/plain": [
              "Recuperado    6347\n",
              "Óbito           13\n",
              "Name: conclusao, dtype: int64"
            ]
          },
          "metadata": {
            "tags": []
          },
          "execution_count": 8
        }
      ]
    },
    {
      "cell_type": "code",
      "metadata": {
        "id": "pgns9r0TfY2E",
        "colab_type": "code",
        "colab": {
          "base_uri": "https://localhost:8080/",
          "height": 258
        },
        "outputId": "6088949c-fa63-4942-dfc0-0fe7281070e3"
      },
      "source": [
        "# Pie chart, where the slices will be ordered and plotted counter-clockwise:\n",
        "labels = 'Recuperados', 'Óbitos'\n",
        "sizes = df_dataset.conclusao.value_counts()\n",
        "explode = (0, 0.1, 0, 0)  # only \"explode\" the 2nd slice (i.e. 'Hogs')\n",
        "\n",
        "fig1, ax1 = plt.subplots()\n",
        "ax1.pie(sizes, labels=labels, autopct='%1.1f%%',\n",
        "        shadow=True, startangle=90)\n",
        "ax1.axis('equal')  # Equal aspect ratio ensures that pie is drawn as a circle.\n",
        "\n",
        "plt.show()"
      ],
      "execution_count": 9,
      "outputs": [
        {
          "output_type": "display_data",
          "data": {
            "image/png": "[encoded data removed]",
            "text/plain": [
              "<Figure size 432x288 with 1 Axes>"
            ]
          },
          "metadata": {
            "tags": []
          }
        }
      ]
    },
    {
      "cell_type": "code",
      "metadata": {
        "id": "w4e2M4gUfY2H",
        "colab_type": "code",
        "colab": {
          "base_uri": "https://localhost:8080/",
          "height": 221
        },
        "outputId": "280624d6-6a13-4826-d423-9ccc10158ee6"
      },
      "source": [
        "df_dataset.idade.value_counts()"
      ],
      "execution_count": 10,
      "outputs": [
        {
          "output_type": "execute_result",
          "data": {
            "text/plain": [
              "38    216\n",
              "39    214\n",
              "40    214\n",
              "46    212\n",
              "41    204\n",
              "     ... \n",
              "96      1\n",
              "97      1\n",
              "90      1\n",
              "94      1\n",
              "93      1\n",
              "Name: idade, Length: 97, dtype: int64"
            ]
          },
          "metadata": {
            "tags": []
          },
          "execution_count": 10
        }
      ]
    },
    {
      "cell_type": "code",
      "metadata": {
        "id": "eX48Uo3AfY2M",
        "colab_type": "code",
        "colab": {
          "base_uri": "https://localhost:8080/",
          "height": 282
        },
        "outputId": "a2f317ab-7b81-4eb0-8431-0b989a45b2d1"
      },
      "source": [
        "x = df_dataset.idade.values\n",
        "plt.hist(x, density=False, bins=100)  # `density=False` would make counts\n",
        "plt.ylabel('quantidade de pessoas')\n",
        "plt.xlabel('idade');"
      ],
      "execution_count": 11,
      "outputs": [
        {
          "output_type": "display_data",
          "data": {
            "image/png": "[encoded data removed]",
            "text/plain": [
              "<Figure size 432x288 with 1 Axes>"
            ]
          },
          "metadata": {
            "tags": []
          }
        }
      ]
    },
    {
      "cell_type": "code",
      "metadata": {
        "id": "K13aNvtifY2P",
        "colab_type": "code",
        "colab": {
          "base_uri": "https://localhost:8080/",
          "height": 282
        },
        "outputId": "be3f7b93-9e93-472e-963c-f9e82b5ec061"
      },
      "source": [
        "# Distribuição das idades por data de confirmação \n",
        "d = dates.date2num(df_dataset.dt_notificacao)\n",
        "plot_date(d, df_dataset.idade)"
      ],
      "execution_count": 12,
      "outputs": [
        {
          "output_type": "execute_result",
          "data": {
            "text/plain": [
              "[<matplotlib.lines.Line2D at 0x7ff91838c3c8>]"
            ]
          },
          "metadata": {
            "tags": []
          },
          "execution_count": 12
        },
        {
          "output_type": "display_data",
          "data": {
            "image/png": "[encoded data removed]",
            "text/plain": [
              "<Figure size 432x288 with 1 Axes>"
            ]
          },
          "metadata": {
            "tags": []
          }
        }
      ]
    },
    {
      "cell_type": "code",
      "metadata": {
        "id": "20ylh4UqfY2U",
        "colab_type": "code",
        "colab": {
          "base_uri": "https://localhost:8080/",
          "height": 282
        },
        "outputId": "81f48d63-7ff7-43e1-cd81-c46b4542beb2"
      },
      "source": [
        "x = df_dataset.bairro.values\n",
        "plt.hist(x, density=False, bins=11)  # `density=False` would make counts\n",
        "plt.ylabel('quantidade de casos')\n",
        "plt.xlabel('bairros');"
      ],
      "execution_count": 13,
      "outputs": [
        {
          "output_type": "display_data",
          "data": {
            "image/png": "[encoded data removed]",
            "text/plain": [
              "<Figure size 432x288 with 1 Axes>"
            ]
          },
          "metadata": {
            "tags": []
          }
        }
      ]
    },
    {
      "cell_type": "markdown",
      "metadata": {
        "id": "C2Q32kT8fY2X",
        "colab_type": "text"
      },
      "source": [
        "## Propondo terefa de ***classificação*** para a base de dados"
      ]
    },
    {
      "cell_type": "markdown",
      "metadata": {
        "id": "k0hTLjIJfY2X",
        "colab_type": "text"
      },
      "source": [
        "### Tarefa: classificar se o \"paciente\" se recuperou ou não do covid-19"
      ]
    },
    {
      "cell_type": "markdown",
      "metadata": {
        "id": "gyQZWzY1fY2Y",
        "colab_type": "text"
      },
      "source": [
        "Com base nos dados solicitados pelo projeto, uma tarefa de classificação que pode ser realizada em cima dos dados é: classificar um \"paciente\" como *Recuperado* da covid-19 ou evoluiu para *Óbito*. Um dos problemas encontrados para realizar esta tarefa é o desbalenceamento de clases, pois enquanto a quantidade de \"pacientes\" recuperados é 6347 o número de pessoas com conclusão igual a Óbito chega a 13.\n",
        "\n",
        "Uma possível forma de se contornar esse problema  do desbalenceamento das clases seria, selecionar outros atributos, pois observa-se que há bastante pessoas classificadas como Óbito, mas por causa da limpeza e escolha desses atributos do dataset atual essa classe diminuiu considerávelmente.\n",
        "\n",
        "Outra sugestão para aumentar a quantidade de classes minoritária seria considerar mais registros com campos faltantes e depois adicionar a média do atributo para este campo ou outra encontrar outra medida para preencher tais campos."
      ]
    },
    {
      "cell_type": "markdown",
      "metadata": {
        "id": "VQ9KkvyzfY2Z",
        "colab_type": "text"
      },
      "source": [
        "### Avaliação da tarefa de classificação"
      ]
    },
    {
      "cell_type": "markdown",
      "metadata": {
        "id": "78hqB2e1fY2a",
        "colab_type": "text"
      },
      "source": [
        "Como se trata de uma classificação binária a acurácia é uma das principais métricas a ser considerada, porém para este conjunto de dados talvez não reflita a total realidade por ele apresentar quantidades de classes desbalanceadas, então a melhor maneira é adicionar outras métricas de válidação como por exemplo a precisão que diz quantos acertos para uma classe (true positives) sobre o total de classificados como positivos (true positives + false positives).\n",
        "\n",
        "Aliados a estas métricas citadas a cima, acredita-se que as seguintes também tornariam a avaliação mais eficiente para o conjuto de dados considerado: *recall*, *f1-score* e também a *G-score* (bastante usada em casses desbalanceadas)."
      ]
    },
    {
      "cell_type": "markdown",
      "metadata": {
        "id": "c9EeWKYwfY2b",
        "colab_type": "text"
      },
      "source": [
        "### Validação do modelo "
      ]
    },
    {
      "cell_type": "markdown",
      "metadata": {
        "id": "QawLLE4DfY2c",
        "colab_type": "text"
      },
      "source": [
        "Para a validação do modelo, ou modelos caso se use mais de um para esta tarefa, pensou-se em criar dois experimentos um usando a partição holdout e um outro usando o válidação cruzada. O primeiro para aferir se com os daos é possível criar um bom classificador mesmo que tenha classes desbalanceadas e o segundo para garantir que o/os modelo/os possa ser treinado/os e testado/os com todos os registros e assim contornar o problema das classes desbalanceadas."
      ]
    },
    {
      "cell_type": "markdown",
      "metadata": {
        "id": "-iaUIDl2fY2d",
        "colab_type": "text"
      },
      "source": [
        "## Propondo uma tarefa de ***regressão*** para os dados"
      ]
    },
    {
      "cell_type": "markdown",
      "metadata": {
        "id": "jpqCCjAxfY2d",
        "colab_type": "text"
      },
      "source": [
        "### Tarefa: prever a idade dos \"pacientes\" com base nos demais atributos"
      ]
    },
    {
      "cell_type": "markdown",
      "metadata": {
        "id": "QFRqXkZefY2e",
        "colab_type": "text"
      },
      "source": [
        "Uma das tarefas de regressão pensada para este problema foi a previsão da idade dos pacientes, pois como se base a taxa de letalidade é maior nas pessoas idosas, mas será que com a base de dados disponível usando atributos como bairro, e sexo situação de conclusão do paciente e data de notificação e tipo de test se consegue acertar a idade dele? Nesta tarefa, acreditasse que os atributos tipo_teste e df_notificação não tenham tanha relevância, pois eles não são características dos pacientes, mas sim dos testes que eles fizeram. "
      ]
    },
    {
      "cell_type": "markdown",
      "metadata": {
        "id": "E4XZk8VMfY2f",
        "colab_type": "text"
      },
      "source": [
        "## Bônus: Qual tarefa de Aprendizado Não-Supervisionado poderia ser concebida neste contexto?"
      ]
    },
    {
      "cell_type": "markdown",
      "metadata": {
        "id": "QbGqdCSgfY2f",
        "colab_type": "text"
      },
      "source": [
        "Considerando o dataset limpo e preprocessado e com quantidade de atributos disponíveis. Uma tarefa de apredizado não supervisionado que poderia ser feita é o agrupamento de perfis de pacientes mais parecidos, ou seja, agrupar os pacientes com base nas suas caracteríscas. Uma meneira de realizar essa tarefa seria o usando o algoritmo *KNN* para realizar esse agrupamento e descobrir os perfis de quem se recuperou ou morreu por exemplo."
      ]
    }
  ]
}