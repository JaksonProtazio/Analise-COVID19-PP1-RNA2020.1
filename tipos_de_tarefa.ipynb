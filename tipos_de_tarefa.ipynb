{
 "metadata": {
  "language_info": {
   "codemirror_mode": {
    "name": "ipython",
    "version": 3
   },
   "file_extension": ".py",
   "mimetype": "text/x-python",
   "name": "python",
   "nbconvert_exporter": "python",
   "pygments_lexer": "ipython3",
   "version": "3.6.9-final"
  },
  "orig_nbformat": 2,
  "kernelspec": {
   "name": "python36964bit76f932ba9bb7455b94c547bf37538953",
   "display_name": "Python 3.6.9 64-bit"
  }
 },
 "nbformat": 4,
 "nbformat_minor": 2,
 "cells": [
  {
   "cell_type": "markdown",
   "metadata": {},
   "source": [
    "# Notebook para responder a parte 3 do PP1 de RNA"
   ]
  },
  {
   "cell_type": "markdown",
   "metadata": {},
   "source": [
    "### 3 Tipos de Tarefas (Dayvson)\n",
    "Recapitulem que dados fornecem experiência sobre um problema. No caso em questão, sugira:\n",
    "- [x] Uma tarefa de classificação mediante Aprendizado Supervisionado que poderia ser feita com\n",
    "esta base de dados. Qual seria o atributo-alvo? Quais métricas de desempenho poderiam ser\n",
    "aplicadas? Que tipo de validação seria apropriado?\n",
    "- [ ] Uma tarefa de regressão mediante Aprendizado Supervisionado que poderia ser feita com\n",
    "esta base de dados. Qual seria o atributo-alvo? Quais atributos preditores a equipe considera\n",
    "relevantes para o cenário?\n",
    "- [ ] Bônus: Qual tarefa de Aprendizado Não-Supervisionado poderia ser concebida neste contexto?"
   ]
  },
  {
   "cell_type": "code",
   "execution_count": 2,
   "metadata": {},
   "outputs": [],
   "source": [
    "import warnings\n",
    "warnings.filterwarnings('ignore')\n",
    "\n",
    "import pandas as pd\n",
    "import numpy as np\n",
    "\n",
    "import re\n"
   ]
  },
  {
   "cell_type": "code",
   "execution_count": 8,
   "metadata": {},
   "outputs": [
    {
     "output_type": "execute_result",
     "data": {
      "text/plain": "      idade sexo              bairro   conclusao dt_notificacao  \\\n0        25    F        ADRIANOPOLIS  Recuperado     20/03/2020   \n1        41    F             BETANIA  Recuperado     27/03/2020   \n2        37    M         CIDADE NOVA  Recuperado     27/04/2020   \n3        44    M           SAO JORGE  Recuperado     27/04/2020   \n4        27    F  COLONIA TERRA NOVA  Recuperado     24/04/2020   \n...     ...  ...                 ...         ...            ...   \n6355     14    F              DA PAZ  Recuperado     25/06/2020   \n6356      5    F            REDENCAO  Recuperado     18/06/2020   \n6357     70    F         DOM PEDRO I  Recuperado     02/06/2020   \n6358     68    M      JORGE TEIXEIRA  Recuperado     01/06/2020   \n6359     45    F              TARUMA  Recuperado     05/06/2020   \n\n                    tipo_teste  \n0                       RT-PCR  \n1                       RT-PCR  \n2     TESTE RÁPIDO - ANTICORPO  \n3     TESTE RÁPIDO - ANTICORPO  \n4     TESTE RÁPIDO - ANTICORPO  \n...                        ...  \n6355   TESTE RÁPIDO - ANTÍGENO  \n6356   TESTE RÁPIDO - ANTÍGENO  \n6357   TESTE RÁPIDO - ANTÍGENO  \n6358                    RT-PCR  \n6359  TESTE RÁPIDO - ANTICORPO  \n\n[6360 rows x 6 columns]",
      "text/html": "<div>\n<style scoped>\n    .dataframe tbody tr th:only-of-type {\n        vertical-align: middle;\n    }\n\n    .dataframe tbody tr th {\n        vertical-align: top;\n    }\n\n    .dataframe thead th {\n        text-align: right;\n    }\n</style>\n<table border=\"1\" class=\"dataframe\">\n  <thead>\n    <tr style=\"text-align: right;\">\n      <th></th>\n      <th>idade</th>\n      <th>sexo</th>\n      <th>bairro</th>\n      <th>conclusao</th>\n      <th>dt_notificacao</th>\n      <th>tipo_teste</th>\n    </tr>\n  </thead>\n  <tbody>\n    <tr>\n      <th>0</th>\n      <td>25</td>\n      <td>F</td>\n      <td>ADRIANOPOLIS</td>\n      <td>Recuperado</td>\n      <td>20/03/2020</td>\n      <td>RT-PCR</td>\n    </tr>\n    <tr>\n      <th>1</th>\n      <td>41</td>\n      <td>F</td>\n      <td>BETANIA</td>\n      <td>Recuperado</td>\n      <td>27/03/2020</td>\n      <td>RT-PCR</td>\n    </tr>\n    <tr>\n      <th>2</th>\n      <td>37</td>\n      <td>M</td>\n      <td>CIDADE NOVA</td>\n      <td>Recuperado</td>\n      <td>27/04/2020</td>\n      <td>TESTE RÁPIDO - ANTICORPO</td>\n    </tr>\n    <tr>\n      <th>3</th>\n      <td>44</td>\n      <td>M</td>\n      <td>SAO JORGE</td>\n      <td>Recuperado</td>\n      <td>27/04/2020</td>\n      <td>TESTE RÁPIDO - ANTICORPO</td>\n    </tr>\n    <tr>\n      <th>4</th>\n      <td>27</td>\n      <td>F</td>\n      <td>COLONIA TERRA NOVA</td>\n      <td>Recuperado</td>\n      <td>24/04/2020</td>\n      <td>TESTE RÁPIDO - ANTICORPO</td>\n    </tr>\n    <tr>\n      <th>...</th>\n      <td>...</td>\n      <td>...</td>\n      <td>...</td>\n      <td>...</td>\n      <td>...</td>\n      <td>...</td>\n    </tr>\n    <tr>\n      <th>6355</th>\n      <td>14</td>\n      <td>F</td>\n      <td>DA PAZ</td>\n      <td>Recuperado</td>\n      <td>25/06/2020</td>\n      <td>TESTE RÁPIDO - ANTÍGENO</td>\n    </tr>\n    <tr>\n      <th>6356</th>\n      <td>5</td>\n      <td>F</td>\n      <td>REDENCAO</td>\n      <td>Recuperado</td>\n      <td>18/06/2020</td>\n      <td>TESTE RÁPIDO - ANTÍGENO</td>\n    </tr>\n    <tr>\n      <th>6357</th>\n      <td>70</td>\n      <td>F</td>\n      <td>DOM PEDRO I</td>\n      <td>Recuperado</td>\n      <td>02/06/2020</td>\n      <td>TESTE RÁPIDO - ANTÍGENO</td>\n    </tr>\n    <tr>\n      <th>6358</th>\n      <td>68</td>\n      <td>M</td>\n      <td>JORGE TEIXEIRA</td>\n      <td>Recuperado</td>\n      <td>01/06/2020</td>\n      <td>RT-PCR</td>\n    </tr>\n    <tr>\n      <th>6359</th>\n      <td>45</td>\n      <td>F</td>\n      <td>TARUMA</td>\n      <td>Recuperado</td>\n      <td>05/06/2020</td>\n      <td>TESTE RÁPIDO - ANTICORPO</td>\n    </tr>\n  </tbody>\n</table>\n<p>6360 rows × 6 columns</p>\n</div>"
     },
     "metadata": {},
     "execution_count": 8
    }
   ],
   "source": [
    "file = '/home/dayvson/disc/rna/Analise-COVID19-PP1-RNA2020.1/dataset/dataset_limpo_covid19_manaus.csv'\n",
    "pd.read_csv(file)"
   ]
  },
  {
   "cell_type": "code",
   "execution_count": null,
   "metadata": {},
   "outputs": [],
   "source": []
  }
 ]
}